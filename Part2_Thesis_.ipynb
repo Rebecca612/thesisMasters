{
  "cells": [
    {
      "cell_type": "markdown",
      "metadata": {
        "id": "view-in-github",
        "colab_type": "text"
      },
      "source": [
        "<a href=\"https://colab.research.google.com/github/Rebecca612/thesisMasters/blob/main/Part2_Thesis_.ipynb\" target=\"_parent\"><img src=\"https://colab.research.google.com/assets/colab-badge.svg\" alt=\"Open In Colab\"/></a>"
      ]
    },
    {
      "cell_type": "code",
      "execution_count": 2,
      "id": "54341781",
      "metadata": {
        "colab": {
          "base_uri": "https://localhost:8080/"
        },
        "id": "54341781",
        "outputId": "2c50c6b1-f28f-4ecb-8ff7-4a9c590c2ae4"
      },
      "outputs": [
        {
          "output_type": "stream",
          "name": "stdout",
          "text": [
            "Drive already mounted at /content/drive; to attempt to forcibly remount, call drive.mount(\"/content/drive\", force_remount=True).\n"
          ]
        }
      ],
      "source": [
        "import os\n",
        "from google.colab import drive\n",
        "drive.mount('/content/drive')\n",
        "import pandas as pd\n",
        "import warnings\n",
        "warnings.filterwarnings(\"ignore\")\n",
        "import pandas as pd\n",
        "\n"
      ]
    },
    {
      "cell_type": "code",
      "source": [
        "# Define your column names in a list\n",
        "column_names = ['Datetime', 'OrderID', 'ProductID', 'Quantity', 'CategoryID',\n",
        "                'CategoryCode', 'BrandID', 'USDPrice', 'UserID',\n",
        "                'Gender', 'Color', 'Metal', 'Gem','Country']\n",
        "# Read the CSV file and assign the column names\n",
        "df = pd.read_csv('/content/drive/MyDrive/e-comjewerly.csv', names=column_names)\n",
        "\n",
        "\n",
        "\n",
        "\n",
        "df.head(10)\n",
        "print(df)"
      ],
      "metadata": {
        "colab": {
          "base_uri": "https://localhost:8080/"
        },
        "id": "fpqEv3X37nTo",
        "outputId": "0492188c-e7a9-4634-ad9a-bc48de446a35"
      },
      "id": "fpqEv3X37nTo",
      "execution_count": 5,
      "outputs": [
        {
          "output_type": "stream",
          "name": "stdout",
          "text": [
            "                      Datetime       OrderID     ProductID  Quantity  \\\n",
            "0      2018-12-01 11:40:29 UTC  1.920000e+18  1.840000e+18      12.0   \n",
            "1      2018-12-01 17:38:31 UTC  1.920000e+18  1.810000e+18      36.0   \n",
            "2      2018-12-02 13:53:42 UTC  1.930000e+18  1.840000e+18      12.0   \n",
            "3      2018-12-02 17:44:02 UTC  1.930000e+18  1.840000e+18      12.0   \n",
            "4      2018-12-02 21:30:19 UTC  1.930000e+18  1.870000e+18       6.0   \n",
            "...                        ...           ...           ...       ...   \n",
            "95906  2021-12-01 09:47:37 UTC  2.720000e+18  1.520000e+18       6.0   \n",
            "95907  2021-12-01 09:50:37 UTC  2.720000e+18  1.960000e+18       6.0   \n",
            "95908  2021-12-01 09:52:06 UTC  2.720000e+18  1.960000e+18      12.0   \n",
            "95909  2021-12-01 09:55:35 UTC  2.720000e+18  1.840000e+18      10.0   \n",
            "95910  2021-12-01 09:59:07 UTC  2.720000e+18  1.960000e+18       4.0   \n",
            "\n",
            "         CategoryID      CategoryCode       BrandID  USDPrice        UserID  \\\n",
            "0      1.810000e+18   jewelry.earring  0.000000e+00    561.51  1.520000e+18   \n",
            "1      1.810000e+18               NaN           NaN    212.14  1.520000e+18   \n",
            "2      1.810000e+18   jewelry.pendant  1.000000e+00     54.66  1.520000e+18   \n",
            "3      1.810000e+18   jewelry.pendant  0.000000e+00     88.90  1.520000e+18   \n",
            "4      1.810000e+18  jewelry.necklace  0.000000e+00    417.67  1.520000e+18   \n",
            "...             ...               ...           ...       ...           ...   \n",
            "95906           NaN                 0  1.520000e+18       NaN           NaN   \n",
            "95907  1.810000e+18               NaN  0.000000e+00    229.99  1.520000e+18   \n",
            "95908  1.810000e+18   jewelry.earring  1.000000e+00    630.00  1.520000e+18   \n",
            "95909  1.810000e+18   jewelry.earring  0.000000e+00     83.42  1.520000e+18   \n",
            "95910  1.810000e+18   jewelry.pendant  1.000000e+00     97.12  1.520000e+18   \n",
            "\n",
            "      Gender   Color Metal       Gem         Country  \n",
            "0        NaN     red  gold   diamond  United Kingdom  \n",
            "1        NaN  yellow  gold       NaN  United Kingdom  \n",
            "2          f   white  gold  sapphire  United Kingdom  \n",
            "3          f     red  gold   diamond  United Kingdom  \n",
            "4        NaN     red  gold  amethyst  United Kingdom  \n",
            "...      ...     ...   ...       ...             ...  \n",
            "95906    NaN     NaN   NaN       NaN  United Kingdom  \n",
            "95907    NaN     red  gold       NaN  United Kingdom  \n",
            "95908      f   white  gold   diamond  United Kingdom  \n",
            "95909    NaN   white  gold    fianit  United Kingdom  \n",
            "95910    NaN     red  gold       NaN  United Kingdom  \n",
            "\n",
            "[95911 rows x 14 columns]\n"
          ]
        }
      ]
    },
    {
      "cell_type": "code",
      "execution_count": 6,
      "id": "a161933b",
      "metadata": {
        "colab": {
          "base_uri": "https://localhost:8080/",
          "height": 466
        },
        "id": "a161933b",
        "outputId": "82d1c932-e1fa-4b60-cffa-a7c68336d6f0"
      },
      "outputs": [
        {
          "output_type": "execute_result",
          "data": {
            "text/plain": [
              "<Axes: xlabel='Gender', ylabel='count'>"
            ]
          },
          "metadata": {},
          "execution_count": 6
        },
        {
          "output_type": "display_data",
          "data": {
            "text/plain": [
              "<Figure size 640x480 with 1 Axes>"
            ],
            "image/png": "[encoded data removed]"
          },
          "metadata": {}
        }
      ],
      "source": [
        "import seaborn as sns\n",
        "import matplotlib.pyplot as plt\n",
        "\n",
        "sns.countplot(data = df, x = 'Gender')"
      ]
    },
    {
      "cell_type": "code",
      "execution_count": 7,
      "id": "42bd2763",
      "metadata": {
        "colab": {
          "base_uri": "https://localhost:8080/"
        },
        "id": "42bd2763",
        "outputId": "51b48a07-c76e-48cd-a1aa-089d67baf4af"
      },
      "outputs": [
        {
          "output_type": "stream",
          "name": "stdout",
          "text": [
            "Index(['Datetime', 'OrderID', 'ProductID', 'Quantity', 'CategoryID',\n",
            "       'CategoryCode', 'BrandID', 'USDPrice', 'UserID', 'Gender', 'Color',\n",
            "       'Metal', 'Gem', 'Country'],\n",
            "      dtype='object')\n"
          ]
        }
      ],
      "source": [
        "print(df.columns)"
      ]
    },
    {
      "cell_type": "code",
      "execution_count": 8,
      "id": "b7e8e4a0",
      "metadata": {
        "colab": {
          "base_uri": "https://localhost:8080/"
        },
        "id": "b7e8e4a0",
        "outputId": "ff6c5995-2086-4373-d3e4-e9ec50de31a3"
      },
      "outputs": [
        {
          "output_type": "stream",
          "name": "stdout",
          "text": [
            "<class 'pandas.core.frame.DataFrame'>\n",
            "RangeIndex: 95911 entries, 0 to 95910\n",
            "Data columns (total 14 columns):\n",
            " #   Column        Non-Null Count  Dtype  \n",
            "---  ------        --------------  -----  \n",
            " 0   Datetime      95911 non-null  object \n",
            " 1   OrderID       95911 non-null  float64\n",
            " 2   ProductID     95911 non-null  float64\n",
            " 3   Quantity      95794 non-null  float64\n",
            " 4   CategoryID    90559 non-null  float64\n",
            " 5   CategoryCode  85978 non-null  object \n",
            " 6   BrandID       91126 non-null  float64\n",
            " 7   USDPrice      90559 non-null  float64\n",
            " 8   UserID        90559 non-null  float64\n",
            " 9   Gender        95911 non-null  object \n",
            " 10  Color         88251 non-null  object \n",
            " 11  Metal         90449 non-null  object \n",
            " 12  Gem           61853 non-null  object \n",
            " 13  Country       95911 non-null  object \n",
            "dtypes: float64(7), object(7)\n",
            "memory usage: 10.2+ MB\n"
          ]
        }
      ],
      "source": [
        "df.Gender.fillna('f', inplace=True)\n",
        "df.info()\n",
        "df.CategoryCode.fillna('other', inplace=True)\n",
        "df['BrandID'].fillna('-1',inplace=True)\n",
        "df['Gem'].unique()\n",
        "for i in ('Color','Metal','Gem'):\n",
        "  if i == 'Color':\n",
        "    df[i].fillna('unknown-color',inplace=True)\n",
        "  else:\n",
        "    df[i].fillna('unknown',inplace=True)"
      ]
    },
    {
      "cell_type": "code",
      "execution_count": 9,
      "id": "af1bccea",
      "metadata": {
        "colab": {
          "base_uri": "https://localhost:8080/",
          "height": 237
        },
        "id": "af1bccea",
        "outputId": "f5b04c9f-8bbb-476c-f2df-dfd6bb510e39"
      },
      "outputs": [
        {
          "output_type": "execute_result",
          "data": {
            "text/plain": [
              "              Recency  Frequency   Monetary  Cluster\n",
              "UserID                                              \n",
              "1.310000e+18       21        277  102452.13        2\n",
              "1.320000e+18        1        441  153919.99        4\n",
              "1.330000e+18       10        321  120457.90        4\n",
              "1.340000e+18       45        120   48179.17        2\n",
              "1.350000e+18       22         74   19918.57        2"
            ],
            "text/html": [
              "\n",
              "  <div id=\"df-cb8615eb-d13b-4a8b-8c4e-77fec6273ac7\" class=\"colab-df-container\">\n",
              "    <div>\n",
              "<style scoped>\n",
              "    .dataframe tbody tr th:only-of-type {\n",
              "        vertical-align: middle;\n",
              "    }\n",
              "\n",
              "    .dataframe tbody tr th {\n",
              "        vertical-align: top;\n",
              "    }\n",
              "\n",
              "    .dataframe thead th {\n",
              "        text-align: right;\n",
              "    }\n",
              "</style>\n",
              "<table border=\"1\" class=\"dataframe\">\n",
              "  <thead>\n",
              "    <tr style=\"text-align: right;\">\n",
              "      <th></th>\n",
              "      <th>Recency</th>\n",
              "      <th>Frequency</th>\n",
              "      <th>Monetary</th>\n",
              "      <th>Cluster</th>\n",
              "    </tr>\n",
              "    <tr>\n",
              "      <th>UserID</th>\n",
              "      <th></th>\n",
              "      <th></th>\n",
              "      <th></th>\n",
              "      <th></th>\n",
              "    </tr>\n",
              "  </thead>\n",
              "  <tbody>\n",
              "    <tr>\n",
              "      <th>1.310000e+18</th>\n",
              "      <td>21</td>\n",
              "      <td>277</td>\n",
              "      <td>102452.13</td>\n",
              "      <td>2</td>\n",
              "    </tr>\n",
              "    <tr>\n",
              "      <th>1.320000e+18</th>\n",
              "      <td>1</td>\n",
              "      <td>441</td>\n",
              "      <td>153919.99</td>\n",
              "      <td>4</td>\n",
              "    </tr>\n",
              "    <tr>\n",
              "      <th>1.330000e+18</th>\n",
              "      <td>10</td>\n",
              "      <td>321</td>\n",
              "      <td>120457.90</td>\n",
              "      <td>4</td>\n",
              "    </tr>\n",
              "    <tr>\n",
              "      <th>1.340000e+18</th>\n",
              "      <td>45</td>\n",
              "      <td>120</td>\n",
              "      <td>48179.17</td>\n",
              "      <td>2</td>\n",
              "    </tr>\n",
              "    <tr>\n",
              "      <th>1.350000e+18</th>\n",
              "      <td>22</td>\n",
              "      <td>74</td>\n",
              "      <td>19918.57</td>\n",
              "      <td>2</td>\n",
              "    </tr>\n",
              "  </tbody>\n",
              "</table>\n",
              "</div>\n",
              "    <div class=\"colab-df-buttons\">\n",
              "\n",
              "  <div class=\"colab-df-container\">\n",
              "    <button class=\"colab-df-convert\" onclick=\"convertToInteractive('df-cb8615eb-d13b-4a8b-8c4e-77fec6273ac7')\"\n",
              "            title=\"Convert this dataframe to an interactive table.\"\n",
              "            style=\"display:none;\">\n",
              "\n",
              "  <svg xmlns=\"http://www.w3.org/2000/svg\" height=\"24px\" viewBox=\"0 -960 960 960\">\n",
              "    <path d=\"M120-120v-720h720v720H120Zm60-500h600v-160H180v160Zm220 220h160v-160H400v160Zm0 220h160v-160H400v160ZM180-400h160v-160H180v160Zm440 0h160v-160H620v160ZM180-180h160v-160H180v160Zm440 0h160v-160H620v160Z\"/>\n",
              "  </svg>\n",
              "    </button>\n",
              "\n",
              "  <style>\n",
              "    .colab-df-container {\n",
              "      display:flex;\n",
              "      gap: 12px;\n",
              "    }\n",
              "\n",
              "    .colab-df-convert {\n",
              "      background-color: #E8F0FE;\n",
              "      border: none;\n",
              "      border-radius: 50%;\n",
              "      cursor: pointer;\n",
              "      display: none;\n",
              "      fill: #1967D2;\n",
              "      height: 32px;\n",
              "      padding: 0 0 0 0;\n",
              "      width: 32px;\n",
              "    }\n",
              "\n",
              "    .colab-df-convert:hover {\n",
              "      background-color: #E2EBFA;\n",
              "      box-shadow: 0px 1px 2px rgba(60, 64, 67, 0.3), 0px 1px 3px 1px rgba(60, 64, 67, 0.15);\n",
              "      fill: #174EA6;\n",
              "    }\n",
              "\n",
              "    .colab-df-buttons div {\n",
              "      margin-bottom: 4px;\n",
              "    }\n",
              "\n",
              "    [theme=dark] .colab-df-convert {\n",
              "      background-color: #3B4455;\n",
              "      fill: #D2E3FC;\n",
              "    }\n",
              "\n",
              "    [theme=dark] .colab-df-convert:hover {\n",
              "      background-color: #434B5C;\n",
              "      box-shadow: 0px 1px 3px 1px rgba(0, 0, 0, 0.15);\n",
              "      filter: drop-shadow(0px 1px 2px rgba(0, 0, 0, 0.3));\n",
              "      fill: #FFFFFF;\n",
              "    }\n",
              "  </style>\n",
              "\n",
              "    <script>\n",
              "      const buttonEl =\n",
              "        document.querySelector('#df-cb8615eb-d13b-4a8b-8c4e-77fec6273ac7 button.colab-df-convert');\n",
              "      buttonEl.style.display =\n",
              "        google.colab.kernel.accessAllowed ? 'block' : 'none';\n",
              "\n",
              "      async function convertToInteractive(key) {\n",
              "        const element = document.querySelector('#df-cb8615eb-d13b-4a8b-8c4e-77fec6273ac7');\n",
              "        const dataTable =\n",
              "          await google.colab.kernel.invokeFunction('convertToInteractive',\n",
              "                                                    [key], {});\n",
              "        if (!dataTable) return;\n",
              "\n",
              "        const docLinkHtml = 'Like what you see? Visit the ' +\n",
              "          '<a target=\"_blank\" href=https://colab.research.google.com/notebooks/data_table.ipynb>data table notebook</a>'\n",
              "          + ' to learn more about interactive tables.';\n",
              "        element.innerHTML = '';\n",
              "        dataTable['output_type'] = 'display_data';\n",
              "        await google.colab.output.renderOutput(dataTable, element);\n",
              "        const docLink = document.createElement('div');\n",
              "        docLink.innerHTML = docLinkHtml;\n",
              "        element.appendChild(docLink);\n",
              "      }\n",
              "    </script>\n",
              "  </div>\n",
              "\n",
              "\n",
              "<div id=\"df-16047429-e9d8-4c58-95be-25a5366f1ccc\">\n",
              "  <button class=\"colab-df-quickchart\" onclick=\"quickchart('df-16047429-e9d8-4c58-95be-25a5366f1ccc')\"\n",
              "            title=\"Suggest charts\"\n",
              "            style=\"display:none;\">\n",
              "\n",
              "<svg xmlns=\"http://www.w3.org/2000/svg\" height=\"24px\"viewBox=\"0 0 24 24\"\n",
              "     width=\"24px\">\n",
              "    <g>\n",
              "        <path d=\"M19 3H5c-1.1 0-2 .9-2 2v14c0 1.1.9 2 2 2h14c1.1 0 2-.9 2-2V5c0-1.1-.9-2-2-2zM9 17H7v-7h2v7zm4 0h-2V7h2v10zm4 0h-2v-4h2v4z\"/>\n",
              "    </g>\n",
              "</svg>\n",
              "  </button>\n",
              "\n",
              "<style>\n",
              "  .colab-df-quickchart {\n",
              "      --bg-color: #E8F0FE;\n",
              "      --fill-color: #1967D2;\n",
              "      --hover-bg-color: #E2EBFA;\n",
              "      --hover-fill-color: #174EA6;\n",
              "      --disabled-fill-color: #AAA;\n",
              "      --disabled-bg-color: #DDD;\n",
              "  }\n",
              "\n",
              "  [theme=dark] .colab-df-quickchart {\n",
              "      --bg-color: #3B4455;\n",
              "      --fill-color: #D2E3FC;\n",
              "      --hover-bg-color: #434B5C;\n",
              "      --hover-fill-color: #FFFFFF;\n",
              "      --disabled-bg-color: #3B4455;\n",
              "      --disabled-fill-color: #666;\n",
              "  }\n",
              "\n",
              "  .colab-df-quickchart {\n",
              "    background-color: var(--bg-color);\n",
              "    border: none;\n",
              "    border-radius: 50%;\n",
              "    cursor: pointer;\n",
              "    display: none;\n",
              "    fill: var(--fill-color);\n",
              "    height: 32px;\n",
              "    padding: 0;\n",
              "    width: 32px;\n",
              "  }\n",
              "\n",
              "  .colab-df-quickchart:hover {\n",
              "    background-color: var(--hover-bg-color);\n",
              "    box-shadow: 0 1px 2px rgba(60, 64, 67, 0.3), 0 1px 3px 1px rgba(60, 64, 67, 0.15);\n",
              "    fill: var(--button-hover-fill-color);\n",
              "  }\n",
              "\n",
              "  .colab-df-quickchart-complete:disabled,\n",
              "  .colab-df-quickchart-complete:disabled:hover {\n",
              "    background-color: var(--disabled-bg-color);\n",
              "    fill: var(--disabled-fill-color);\n",
              "    box-shadow: none;\n",
              "  }\n",
              "\n",
              "  .colab-df-spinner {\n",
              "    border: 2px solid var(--fill-color);\n",
              "    border-color: transparent;\n",
              "    border-bottom-color: var(--fill-color);\n",
              "    animation:\n",
              "      spin 1s steps(1) infinite;\n",
              "  }\n",
              "\n",
              "  @keyframes spin {\n",
              "    0% {\n",
              "      border-color: transparent;\n",
              "      border-bottom-color: var(--fill-color);\n",
              "      border-left-color: var(--fill-color);\n",
              "    }\n",
              "    20% {\n",
              "      border-color: transparent;\n",
              "      border-left-color: var(--fill-color);\n",
              "      border-top-color: var(--fill-color);\n",
              "    }\n",
              "    30% {\n",
              "      border-color: transparent;\n",
              "      border-left-color: var(--fill-color);\n",
              "      border-top-color: var(--fill-color);\n",
              "      border-right-color: var(--fill-color);\n",
              "    }\n",
              "    40% {\n",
              "      border-color: transparent;\n",
              "      border-right-color: var(--fill-color);\n",
              "      border-top-color: var(--fill-color);\n",
              "    }\n",
              "    60% {\n",
              "      border-color: transparent;\n",
              "      border-right-color: var(--fill-color);\n",
              "    }\n",
              "    80% {\n",
              "      border-color: transparent;\n",
              "      border-right-color: var(--fill-color);\n",
              "      border-bottom-color: var(--fill-color);\n",
              "    }\n",
              "    90% {\n",
              "      border-color: transparent;\n",
              "      border-bottom-color: var(--fill-color);\n",
              "    }\n",
              "  }\n",
              "</style>\n",
              "\n",
              "  <script>\n",
              "    async function quickchart(key) {\n",
              "      const quickchartButtonEl =\n",
              "        document.querySelector('#' + key + ' button');\n",
              "      quickchartButtonEl.disabled = true;  // To prevent multiple clicks.\n",
              "      quickchartButtonEl.classList.add('colab-df-spinner');\n",
              "      try {\n",
              "        const charts = await google.colab.kernel.invokeFunction(\n",
              "            'suggestCharts', [key], {});\n",
              "      } catch (error) {\n",
              "        console.error('Error during call to suggestCharts:', error);\n",
              "      }\n",
              "      quickchartButtonEl.classList.remove('colab-df-spinner');\n",
              "      quickchartButtonEl.classList.add('colab-df-quickchart-complete');\n",
              "    }\n",
              "    (() => {\n",
              "      let quickchartButtonEl =\n",
              "        document.querySelector('#df-16047429-e9d8-4c58-95be-25a5366f1ccc button');\n",
              "      quickchartButtonEl.style.display =\n",
              "        google.colab.kernel.accessAllowed ? 'block' : 'none';\n",
              "    })();\n",
              "  </script>\n",
              "</div>\n",
              "    </div>\n",
              "  </div>\n"
            ]
          },
          "metadata": {},
          "execution_count": 9
        }
      ],
      "source": [
        "from sklearn.preprocessing import StandardScaler\n",
        "from sklearn.cluster import KMeans\n",
        "import datetime as dt\n",
        "\n",
        "\n",
        "# Ensure that 'Datetime' is a datetime object and 'USDPrice' is float\n",
        "df['Datetime'] = pd.to_datetime(df['Datetime'])\n",
        "df['USDPrice'] = df['USDPrice'].astype(float)\n",
        "\n",
        "# Current date for recency calculation (assuming the latest date in the dataset + 1 day)\n",
        "current_date = df['Datetime'].max() + dt.timedelta(days=1)\n",
        "\n",
        "# RFM Calculation\n",
        "rfm = df.groupby('UserID').agg({\n",
        "    'Datetime': lambda x: (current_date - x.max()).days,  # Recency\n",
        "    'OrderID': 'count',                                   # Frequency\n",
        "    'USDPrice': 'sum'                                     # Monetary\n",
        "})\n",
        "\n",
        "# Rename the columns\n",
        "rfm.rename(columns={'Datetime': 'Recency',\n",
        "                    'OrderID': 'Frequency',\n",
        "                    'USDPrice': 'Monetary'}, inplace=True)\n",
        "\n",
        "# KNN Customer Segmentation\n",
        "# Standardize the RFM data\n",
        "scaler = StandardScaler()\n",
        "rfm_scaled = scaler.fit_transform(rfm)\n",
        "\n",
        "# KMeans to find clusters\n",
        "kmeans = KMeans(n_clusters=5, random_state=42)\n",
        "rfm['Cluster'] = kmeans.fit_predict(rfm_scaled)\n",
        "\n",
        "# Displaying the first few rows of the RFM table with clusters\n",
        "rfm.head()"
      ]
    },
    {
      "cell_type": "code",
      "execution_count": 10,
      "id": "5f0098aa",
      "metadata": {
        "colab": {
          "base_uri": "https://localhost:8080/",
          "height": 542
        },
        "id": "5f0098aa",
        "outputId": "c87bfc0e-b4a9-4ec2-ca51-8b569ab8273c"
      },
      "outputs": [
        {
          "output_type": "display_data",
          "data": {
            "text/html": [
              "<html>\n",
              "<head><meta charset=\"utf-8\" /></head>\n",
              "<body>\n",
              "    <div>            <script src=\"https://cdnjs.cloudflare.com/ajax/libs/mathjax/2.7.5/MathJax.js?config=TeX-AMS-MML_SVG\"></script><script type=\"text/javascript\">if (window.MathJax && window.MathJax.Hub && window.MathJax.Hub.Config) {window.MathJax.Hub.Config({SVG: {font: \"STIX-Web\"}});}</script>                <script type=\"text/javascript\">window.PlotlyConfig = {MathJaxConfig: 'local'};</script>\n",
              "        <script charset=\"utf-8\" src=\"https://cdn.plot.ly/plotly-2.24.1.min.js\"></script>                <div id=\"c4f88c33-9336-4d79-b034-340a217286ec\" class=\"plotly-graph-div\" style=\"height:525px; width:100%;\"></div>            <script type=\"text/javascript\">                                    window.PLOTLYENV=window.PLOTLYENV || {};                                    if (document.getElementById(\"c4f88c33-9336-4d79-b034-340a217286ec\")) {                    Plotly.newPlot(                        \"c4f88c33-9336-4d79-b034-340a217286ec\",                        [{\"marker\":{\"color\":[\"yellow\",\"yellow\",\"yellow\",\"yellow\",\"yellow\",\"yellow\",\"yellow\",\"yellow\",\"yellow\",\"yellow\",\"yellow\",\"yellow\",\"yellow\",\"yellow\",\"yellow\",\"green\",\"yellow\",\"red\",\"yellow\"],\"opacity\":0.8,\"size\":5},\"mode\":\"markers\",\"text\":[1.31e+18,1.32e+18,1.33e+18,1.34e+18,1.35e+18,1.36e+18,1.37e+18,1.38e+18,1.45e+18,1.46e+18,1.47e+18,1.48e+18,1.49e+18,1.5e+18,1.51e+18,1.52e+18,1.53e+18,1.54e+18,1.55e+18],\"x\":[21,1,10,45,22,110,8,42,3,1,42,128,2,20,137,1,23,401,1],\"y\":[277,441,321,120,74,37,114,16,200,374,162,87,87,80,65,87630,125,103,246],\"z\":[102452.13,153919.99,120457.9,48179.17,19918.57,9662.36,40287.62,4630.32,76994.1,136653.27,62600.41,24081.69,34569.03,22546.58,17917.04,31722259.4,34603.85,46360.14,123754.31],\"type\":\"scatter3d\"}],                        {\"template\":{\"data\":{\"histogram2dcontour\":[{\"type\":\"histogram2dcontour\",\"colorbar\":{\"outlinewidth\":0,\"ticks\":\"\"},\"colorscale\":[[0.0,\"#0d0887\"],[0.1111111111111111,\"#46039f\"],[0.2222222222222222,\"#7201a8\"],[0.3333333333333333,\"#9c179e\"],[0.4444444444444444,\"#bd3786\"],[0.5555555555555556,\"#d8576b\"],[0.6666666666666666,\"#ed7953\"],[0.7777777777777778,\"#fb9f3a\"],[0.8888888888888888,\"#fdca26\"],[1.0,\"#f0f921\"]]}],\"choropleth\":[{\"type\":\"choropleth\",\"colorbar\":{\"outlinewidth\":0,\"ticks\":\"\"}}],\"histogram2d\":[{\"type\":\"histogram2d\",\"colorbar\":{\"outlinewidth\":0,\"ticks\":\"\"},\"colorscale\":[[0.0,\"#0d0887\"],[0.1111111111111111,\"#46039f\"],[0.2222222222222222,\"#7201a8\"],[0.3333333333333333,\"#9c179e\"],[0.4444444444444444,\"#bd3786\"],[0.5555555555555556,\"#d8576b\"],[0.6666666666666666,\"#ed7953\"],[0.7777777777777778,\"#fb9f3a\"],[0.8888888888888888,\"#fdca26\"],[1.0,\"#f0f921\"]]}],\"heatmap\":[{\"type\":\"heatmap\",\"colorbar\":{\"outlinewidth\":0,\"ticks\":\"\"},\"colorscale\":[[0.0,\"#0d0887\"],[0.1111111111111111,\"#46039f\"],[0.2222222222222222,\"#7201a8\"],[0.3333333333333333,\"#9c179e\"],[0.4444444444444444,\"#bd3786\"],[0.5555555555555556,\"#d8576b\"],[0.6666666666666666,\"#ed7953\"],[0.7777777777777778,\"#fb9f3a\"],[0.8888888888888888,\"#fdca26\"],[1.0,\"#f0f921\"]]}],\"heatmapgl\":[{\"type\":\"heatmapgl\",\"colorbar\":{\"outlinewidth\":0,\"ticks\":\"\"},\"colorscale\":[[0.0,\"#0d0887\"],[0.1111111111111111,\"#46039f\"],[0.2222222222222222,\"#7201a8\"],[0.3333333333333333,\"#9c179e\"],[0.4444444444444444,\"#bd3786\"],[0.5555555555555556,\"#d8576b\"],[0.6666666666666666,\"#ed7953\"],[0.7777777777777778,\"#fb9f3a\"],[0.8888888888888888,\"#fdca26\"],[1.0,\"#f0f921\"]]}],\"contourcarpet\":[{\"type\":\"contourcarpet\",\"colorbar\":{\"outlinewidth\":0,\"ticks\":\"\"}}],\"contour\":[{\"type\":\"contour\",\"colorbar\":{\"outlinewidth\":0,\"ticks\":\"\"},\"colorscale\":[[0.0,\"#0d0887\"],[0.1111111111111111,\"#46039f\"],[0.2222222222222222,\"#7201a8\"],[0.3333333333333333,\"#9c179e\"],[0.4444444444444444,\"#bd3786\"],[0.5555555555555556,\"#d8576b\"],[0.6666666666666666,\"#ed7953\"],[0.7777777777777778,\"#fb9f3a\"],[0.8888888888888888,\"#fdca26\"],[1.0,\"#f0f921\"]]}],\"surface\":[{\"type\":\"surface\",\"colorbar\":{\"outlinewidth\":0,\"ticks\":\"\"},\"colorscale\":[[0.0,\"#0d0887\"],[0.1111111111111111,\"#46039f\"],[0.2222222222222222,\"#7201a8\"],[0.3333333333333333,\"#9c179e\"],[0.4444444444444444,\"#bd3786\"],[0.5555555555555556,\"#d8576b\"],[0.6666666666666666,\"#ed7953\"],[0.7777777777777778,\"#fb9f3a\"],[0.8888888888888888,\"#fdca26\"],[1.0,\"#f0f921\"]]}],\"mesh3d\":[{\"type\":\"mesh3d\",\"colorbar\":{\"outlinewidth\":0,\"ticks\":\"\"}}],\"scatter\":[{\"fillpattern\":{\"fillmode\":\"overlay\",\"size\":10,\"solidity\":0.2},\"type\":\"scatter\"}],\"parcoords\":[{\"type\":\"parcoords\",\"line\":{\"colorbar\":{\"outlinewidth\":0,\"ticks\":\"\"}}}],\"scatterpolargl\":[{\"type\":\"scatterpolargl\",\"marker\":{\"colorbar\":{\"outlinewidth\":0,\"ticks\":\"\"}}}],\"bar\":[{\"error_x\":{\"color\":\"#2a3f5f\"},\"error_y\":{\"color\":\"#2a3f5f\"},\"marker\":{\"line\":{\"color\":\"#E5ECF6\",\"width\":0.5},\"pattern\":{\"fillmode\":\"overlay\",\"size\":10,\"solidity\":0.2}},\"type\":\"bar\"}],\"scattergeo\":[{\"type\":\"scattergeo\",\"marker\":{\"colorbar\":{\"outlinewidth\":0,\"ticks\":\"\"}}}],\"scatterpolar\":[{\"type\":\"scatterpolar\",\"marker\":{\"colorbar\":{\"outlinewidth\":0,\"ticks\":\"\"}}}],\"histogram\":[{\"marker\":{\"pattern\":{\"fillmode\":\"overlay\",\"size\":10,\"solidity\":0.2}},\"type\":\"histogram\"}],\"scattergl\":[{\"type\":\"scattergl\",\"marker\":{\"colorbar\":{\"outlinewidth\":0,\"ticks\":\"\"}}}],\"scatter3d\":[{\"type\":\"scatter3d\",\"line\":{\"colorbar\":{\"outlinewidth\":0,\"ticks\":\"\"}},\"marker\":{\"colorbar\":{\"outlinewidth\":0,\"ticks\":\"\"}}}],\"scattermapbox\":[{\"type\":\"scattermapbox\",\"marker\":{\"colorbar\":{\"outlinewidth\":0,\"ticks\":\"\"}}}],\"scatterternary\":[{\"type\":\"scatterternary\",\"marker\":{\"colorbar\":{\"outlinewidth\":0,\"ticks\":\"\"}}}],\"scattercarpet\":[{\"type\":\"scattercarpet\",\"marker\":{\"colorbar\":{\"outlinewidth\":0,\"ticks\":\"\"}}}],\"carpet\":[{\"aaxis\":{\"endlinecolor\":\"#2a3f5f\",\"gridcolor\":\"white\",\"linecolor\":\"white\",\"minorgridcolor\":\"white\",\"startlinecolor\":\"#2a3f5f\"},\"baxis\":{\"endlinecolor\":\"#2a3f5f\",\"gridcolor\":\"white\",\"linecolor\":\"white\",\"minorgridcolor\":\"white\",\"startlinecolor\":\"#2a3f5f\"},\"type\":\"carpet\"}],\"table\":[{\"cells\":{\"fill\":{\"color\":\"#EBF0F8\"},\"line\":{\"color\":\"white\"}},\"header\":{\"fill\":{\"color\":\"#C8D4E3\"},\"line\":{\"color\":\"white\"}},\"type\":\"table\"}],\"barpolar\":[{\"marker\":{\"line\":{\"color\":\"#E5ECF6\",\"width\":0.5},\"pattern\":{\"fillmode\":\"overlay\",\"size\":10,\"solidity\":0.2}},\"type\":\"barpolar\"}],\"pie\":[{\"automargin\":true,\"type\":\"pie\"}]},\"layout\":{\"autotypenumbers\":\"strict\",\"colorway\":[\"#636efa\",\"#EF553B\",\"#00cc96\",\"#ab63fa\",\"#FFA15A\",\"#19d3f3\",\"#FF6692\",\"#B6E880\",\"#FF97FF\",\"#FECB52\"],\"font\":{\"color\":\"#2a3f5f\"},\"hovermode\":\"closest\",\"hoverlabel\":{\"align\":\"left\"},\"paper_bgcolor\":\"white\",\"plot_bgcolor\":\"#E5ECF6\",\"polar\":{\"bgcolor\":\"#E5ECF6\",\"angularaxis\":{\"gridcolor\":\"white\",\"linecolor\":\"white\",\"ticks\":\"\"},\"radialaxis\":{\"gridcolor\":\"white\",\"linecolor\":\"white\",\"ticks\":\"\"}},\"ternary\":{\"bgcolor\":\"#E5ECF6\",\"aaxis\":{\"gridcolor\":\"white\",\"linecolor\":\"white\",\"ticks\":\"\"},\"baxis\":{\"gridcolor\":\"white\",\"linecolor\":\"white\",\"ticks\":\"\"},\"caxis\":{\"gridcolor\":\"white\",\"linecolor\":\"white\",\"ticks\":\"\"}},\"coloraxis\":{\"colorbar\":{\"outlinewidth\":0,\"ticks\":\"\"}},\"colorscale\":{\"sequential\":[[0.0,\"#0d0887\"],[0.1111111111111111,\"#46039f\"],[0.2222222222222222,\"#7201a8\"],[0.3333333333333333,\"#9c179e\"],[0.4444444444444444,\"#bd3786\"],[0.5555555555555556,\"#d8576b\"],[0.6666666666666666,\"#ed7953\"],[0.7777777777777778,\"#fb9f3a\"],[0.8888888888888888,\"#fdca26\"],[1.0,\"#f0f921\"]],\"sequentialminus\":[[0.0,\"#0d0887\"],[0.1111111111111111,\"#46039f\"],[0.2222222222222222,\"#7201a8\"],[0.3333333333333333,\"#9c179e\"],[0.4444444444444444,\"#bd3786\"],[0.5555555555555556,\"#d8576b\"],[0.6666666666666666,\"#ed7953\"],[0.7777777777777778,\"#fb9f3a\"],[0.8888888888888888,\"#fdca26\"],[1.0,\"#f0f921\"]],\"diverging\":[[0,\"#8e0152\"],[0.1,\"#c51b7d\"],[0.2,\"#de77ae\"],[0.3,\"#f1b6da\"],[0.4,\"#fde0ef\"],[0.5,\"#f7f7f7\"],[0.6,\"#e6f5d0\"],[0.7,\"#b8e186\"],[0.8,\"#7fbc41\"],[0.9,\"#4d9221\"],[1,\"#276419\"]]},\"xaxis\":{\"gridcolor\":\"white\",\"linecolor\":\"white\",\"ticks\":\"\",\"title\":{\"standoff\":15},\"zerolinecolor\":\"white\",\"automargin\":true,\"zerolinewidth\":2},\"yaxis\":{\"gridcolor\":\"white\",\"linecolor\":\"white\",\"ticks\":\"\",\"title\":{\"standoff\":15},\"zerolinecolor\":\"white\",\"automargin\":true,\"zerolinewidth\":2},\"scene\":{\"xaxis\":{\"backgroundcolor\":\"#E5ECF6\",\"gridcolor\":\"white\",\"linecolor\":\"white\",\"showbackground\":true,\"ticks\":\"\",\"zerolinecolor\":\"white\",\"gridwidth\":2},\"yaxis\":{\"backgroundcolor\":\"#E5ECF6\",\"gridcolor\":\"white\",\"linecolor\":\"white\",\"showbackground\":true,\"ticks\":\"\",\"zerolinecolor\":\"white\",\"gridwidth\":2},\"zaxis\":{\"backgroundcolor\":\"#E5ECF6\",\"gridcolor\":\"white\",\"linecolor\":\"white\",\"showbackground\":true,\"ticks\":\"\",\"zerolinecolor\":\"white\",\"gridwidth\":2}},\"shapedefaults\":{\"line\":{\"color\":\"#2a3f5f\"}},\"annotationdefaults\":{\"arrowcolor\":\"#2a3f5f\",\"arrowhead\":0,\"arrowwidth\":1},\"geo\":{\"bgcolor\":\"white\",\"landcolor\":\"#E5ECF6\",\"subunitcolor\":\"white\",\"showland\":true,\"showlakes\":true,\"lakecolor\":\"white\"},\"title\":{\"x\":0.05},\"mapbox\":{\"style\":\"light\"}}},\"margin\":{\"l\":0,\"r\":0,\"b\":0,\"t\":0},\"title\":{\"text\":\"RFM Segmentation with Top, Medium, and Low Segments\"},\"scene\":{\"xaxis\":{\"title\":{\"text\":\"Recency\"}},\"yaxis\":{\"title\":{\"text\":\"Frequency\"}},\"zaxis\":{\"title\":{\"text\":\"Monetary\"}}}},                        {\"responsive\": true}                    ).then(function(){\n",
              "                            \n",
              "var gd = document.getElementById('c4f88c33-9336-4d79-b034-340a217286ec');\n",
              "var x = new MutationObserver(function (mutations, observer) {{\n",
              "        var display = window.getComputedStyle(gd).display;\n",
              "        if (!display || display === 'none') {{\n",
              "            console.log([gd, 'removed!']);\n",
              "            Plotly.purge(gd);\n",
              "            observer.disconnect();\n",
              "        }}\n",
              "}});\n",
              "\n",
              "// Listen for the removal of the full notebook cells\n",
              "var notebookContainer = gd.closest('#notebook-container');\n",
              "if (notebookContainer) {{\n",
              "    x.observe(notebookContainer, {childList: true});\n",
              "}}\n",
              "\n",
              "// Listen for the clearing of the current output cell\n",
              "var outputEl = gd.closest('.output');\n",
              "if (outputEl) {{\n",
              "    x.observe(outputEl, {childList: true});\n",
              "}}\n",
              "\n",
              "                        })                };                            </script>        </div>\n",
              "</body>\n",
              "</html>"
            ]
          },
          "metadata": {}
        }
      ],
      "source": [
        "from sklearn.cluster import KMeans\n",
        "import plotly.graph_objects as go\n",
        "from sklearn.cluster import KMeans\n",
        "from sklearn.preprocessing import StandardScaler\n",
        "from sklearn.cluster import KMeans\n",
        "\n",
        "# Assume you have determined the number of clusters to be 3 for 'top', 'medium', and 'low' segments\n",
        "kmeans = KMeans(n_clusters=3, random_state=42)\n",
        "rfm['Cluster'] = kmeans.fit_predict(rfm_scaled)\n",
        "\n",
        "# Analyze the centroids to label the segments\n",
        "centroids = kmeans.cluster_centers_\n",
        "# Sort the centroids by Monetary value (or another criterion you deem important for segmentation)\n",
        "sorted_idx = centroids[:, 2].argsort()\n",
        "\n",
        "# Assign segment labels based on the sorted index\n",
        "segment_labels = {sorted_idx[0]: 'Low', sorted_idx[1]: 'Medium', sorted_idx[2]: 'Top'}\n",
        "rfm['Segment'] = rfm['Cluster'].map(segment_labels)\n",
        "\n",
        "# You can now use the 'Segment' column in your plot or further analysis\n",
        "fig = go.Figure(data=[go.Scatter3d(\n",
        "    x=rfm['Recency'],\n",
        "    y=rfm['Frequency'],\n",
        "    z=rfm['Monetary'],\n",
        "    mode='markers',\n",
        "    marker=dict(\n",
        "        size=5,\n",
        "        color=rfm['Segment'].map({'Top': 'green', 'Medium': 'yellow', 'Low': 'red'}),  # color by segment\n",
        "        opacity=0.8\n",
        "    ),\n",
        "    text=rfm.index  # UserIDs as hover text\n",
        ")])\n",
        "\n",
        "# Setting the layout for the 3D plot\n",
        "fig.update_layout(\n",
        "    title=\"RFM Segmentation with Top, Medium, and Low Segments\",\n",
        "    scene=dict(\n",
        "        xaxis_title='Recency',\n",
        "        yaxis_title='Frequency',\n",
        "        zaxis_title='Monetary'\n",
        "    ),\n",
        "    margin=dict(l=0, r=0, b=0, t=0)  # tight layout\n",
        ")\n",
        "\n",
        "# Showing the figure\n",
        "fig.show()\n"
      ]
    },
    {
      "cell_type": "code",
      "execution_count": 12,
      "id": "7fa8dde3",
      "metadata": {
        "colab": {
          "base_uri": "https://localhost:8080/"
        },
        "id": "7fa8dde3",
        "outputId": "df62ed2d-fc71-4dfc-ef4f-9f051e9900ba"
      },
      "outputs": [
        {
          "output_type": "stream",
          "name": "stdout",
          "text": [
            "[[3 1]\n",
            " [1 1]]\n",
            "              precision    recall  f1-score   support\n",
            "\n",
            "           0       0.75      0.75      0.75         4\n",
            "           1       0.50      0.50      0.50         2\n",
            "\n",
            "    accuracy                           0.67         6\n",
            "   macro avg       0.62      0.62      0.62         6\n",
            "weighted avg       0.67      0.67      0.67         6\n",
            "\n"
          ]
        }
      ],
      "source": [
        "import pandas as pd\n",
        "from sklearn.model_selection import train_test_split\n",
        "from sklearn.ensemble import RandomForestClassifier\n",
        "from sklearn.metrics import classification_report, confusion_matrix\n",
        "from sklearn.preprocessing import StandardScaler\n",
        "\n",
        "\n",
        "# Convert 'Datetime' to datetime format and create additional time features\n",
        "df['Datetime'] = pd.to_datetime(df['Datetime'])\n",
        "df['Datetime'] = df['Datetime'].dt.tz_localize(None)\n",
        "df['Month'] = df['Datetime'].dt.month\n",
        "df['Year'] = df['Datetime'].dt.year\n",
        "\n",
        "# Aggregate data at the customer level\n",
        "customer_df = df.groupby('UserID').agg(\n",
        "    Total_Spend=('USDPrice', 'sum'),\n",
        "    Average_Spend=('USDPrice', 'mean'),\n",
        "    Total_Orders=('OrderID', 'nunique'),\n",
        "    Total_Items=('Quantity', 'sum'),\n",
        "    Recency=('Datetime', lambda x: (pd.Timestamp.now() - x.max()).days),\n",
        "    # Include other features that might be relevant\n",
        ").reset_index()\n",
        "\n",
        "# Assuming you have another DataFrame 'rfm' with RFM scores already calculated\n",
        "# customer_df = customer_df.merge(rfm, on='UserID', how='left')\n",
        "\n",
        "# Create a dummy target variable for demonstration purposes\n",
        "# In practice, this should be based on your specific business logic\n",
        "customer_df['Will_Purchase_Next_Month'] = (customer_df['Total_Orders'] % 2).astype(int)\n",
        "\n",
        "# Split the dataset into features (X) and target (y)\n",
        "X = customer_df.drop(['UserID', 'Will_Purchase_Next_Month'], axis=1)\n",
        "y = customer_df['Will_Purchase_Next_Month']\n",
        "\n",
        "# Split the data into training and testing sets\n",
        "X_train, X_test, y_train, y_test = train_test_split(X, y, test_size=0.3, random_state=42)\n",
        "\n",
        "# Scale the features\n",
        "scaler = StandardScaler()\n",
        "X_train_scaled = scaler.fit_transform(X_train)\n",
        "X_test_scaled = scaler.transform(X_test)\n",
        "\n",
        "# Initialize the Random Forest Classifier\n",
        "rf_classifier = RandomForestClassifier(n_estimators=100, random_state=42)\n",
        "\n",
        "# Train the model\n",
        "rf_classifier.fit(X_train_scaled, y_train)\n",
        "\n",
        "# Make predictions\n",
        "y_pred = rf_classifier.predict(X_test_scaled)\n",
        "\n",
        "# Evaluate the model\n",
        "print(confusion_matrix(y_test, y_pred))\n",
        "print(classification_report(y_test, y_pred))\n"
      ]
    },
    {
      "cell_type": "code",
      "execution_count": 13,
      "id": "c1f91e05",
      "metadata": {
        "colab": {
          "base_uri": "https://localhost:8080/"
        },
        "id": "c1f91e05",
        "outputId": "c140b237-f997-43f1-a56b-d0e136ba9c36"
      },
      "outputs": [
        {
          "output_type": "stream",
          "name": "stdout",
          "text": [
            "jewelry.earring     29052\n",
            "jewelry.ring        28300\n",
            "jewelry.pendant     13088\n",
            "other                9933\n",
            "jewelry.bracelet     6188\n",
            "                    ...  \n",
            "626.58                  1\n",
            "13.42                   1\n",
            "2.88                    1\n",
            "101.23                  1\n",
            "253.77                  1\n",
            "Name: CategoryCode, Length: 219, dtype: int64\n"
          ]
        }
      ],
      "source": [
        "import pandas as pd\n",
        "\n",
        "\n",
        "# Check the distribution of the target class\n",
        "class_distribution = df['CategoryCode'].value_counts()\n",
        "print(class_distribution)\n"
      ]
    },
    {
      "cell_type": "code",
      "execution_count": 14,
      "id": "cde57b72",
      "metadata": {
        "scrolled": true,
        "colab": {
          "base_uri": "https://localhost:8080/"
        },
        "id": "cde57b72",
        "outputId": "050bb902-3a3d-4b30-d97e-48fb4c69b502"
      },
      "outputs": [
        {
          "output_type": "stream",
          "name": "stdout",
          "text": [
            "jewelry.earring     29052\n",
            "jewelry.ring        28300\n",
            "jewelry.pendant     13088\n",
            "other                9933\n",
            "jewelry.bracelet     6188\n",
            "Name: CategoryCode, dtype: int64\n"
          ]
        }
      ],
      "source": [
        "# Keep only rows where CategoryCode is a valid category\n",
        "valid_categories = ['jewelry.earring', 'jewelry.ring', 'jewelry.pendant', 'other', 'jewelry.bracelet']  # Add other valid categories\n",
        "df = df[df['CategoryCode'].isin(valid_categories)]\n",
        "\n",
        "# Check the distribution again\n",
        "print(df['CategoryCode'].value_counts())\n",
        "\n"
      ]
    },
    {
      "cell_type": "code",
      "execution_count": 15,
      "id": "9aa1d2ab",
      "metadata": {
        "colab": {
          "base_uri": "https://localhost:8080/"
        },
        "id": "9aa1d2ab",
        "outputId": "abe752eb-a80f-4138-c9ec-c58f61b09e80"
      },
      "outputs": [
        {
          "output_type": "stream",
          "name": "stdout",
          "text": [
            "jewelry.earring     29052\n",
            "jewelry.ring        29052\n",
            "jewelry.pendant     29052\n",
            "other               29052\n",
            "jewelry.bracelet    29052\n",
            "Name: CategoryCode, dtype: int64\n"
          ]
        }
      ],
      "source": [
        "from sklearn.utils import resample\n",
        "\n",
        "# Upsample minority classes\n",
        "df_upsampled_list = []\n",
        "majority_class_size = df['CategoryCode'].value_counts().max()\n",
        "\n",
        "for category in valid_categories:\n",
        "    df_category = df[df.CategoryCode == category]\n",
        "    df_category_upsampled = resample(df_category,\n",
        "                                     replace=True,\n",
        "                                     n_samples=majority_class_size,\n",
        "                                     random_state=123)\n",
        "    df_upsampled_list.append(df_category_upsampled)\n",
        "\n",
        "# Combine upsampled dataframes\n",
        "df_upsampled = pd.concat(df_upsampled_list)\n",
        "\n",
        "# Check new class distribution\n",
        "print(df_upsampled.CategoryCode.value_counts())\n"
      ]
    },
    {
      "cell_type": "code",
      "execution_count": 16,
      "id": "cfd61875",
      "metadata": {
        "id": "cfd61875"
      },
      "outputs": [],
      "source": [
        "from sklearn.preprocessing import StandardScaler, OneHotEncoder\n",
        "from sklearn.compose import ColumnTransformer\n",
        "from sklearn.pipeline import Pipeline\n",
        "\n",
        "# Assuming df is your DataFrame after addressing class imbalance\n",
        "\n",
        "# Select columns for feature engineering\n",
        "categorical_features = ['Gender', 'Color', 'Metal', 'Gem']  # Add other categorical columns\n",
        "numerical_features = ['Quantity', 'USDPrice']  # Add other numerical columns\n",
        "\n",
        "# Create transformers for categorical and numerical features\n",
        "categorical_transformer = OneHotEncoder(handle_unknown='ignore')\n",
        "numerical_transformer = StandardScaler()\n",
        "\n",
        "# Create a column transformer to apply transformations to the respective columns\n",
        "preprocessor = ColumnTransformer(\n",
        "    transformers=[\n",
        "        ('num', numerical_transformer, numerical_features),\n",
        "        ('cat', categorical_transformer, categorical_features)\n",
        "    ])\n",
        "\n",
        "# Prepare features and target variable\n",
        "X = df.drop(['CategoryCode', 'OrderID', 'ProductID', 'UserID', 'Datetime'], axis=1)\n",
        "y = df['CategoryCode']\n"
      ]
    },
    {
      "cell_type": "code",
      "execution_count": 17,
      "id": "b6656023",
      "metadata": {
        "scrolled": true,
        "colab": {
          "base_uri": "https://localhost:8080/",
          "height": 460
        },
        "id": "b6656023",
        "outputId": "5e57089f-1ce7-4217-e881-4798a7fbeea1"
      },
      "outputs": [
        {
          "output_type": "error",
          "ename": "ValueError",
          "evalue": "ignored",
          "traceback": [
            "\u001b[0;31m---------------------------------------------------------------------------\u001b[0m",
            "\u001b[0;31mValueError\u001b[0m                                Traceback (most recent call last)",
            "\u001b[0;32m<ipython-input-17-86954ff8b80a>\u001b[0m in \u001b[0;36m<cell line: 30>\u001b[0;34m()\u001b[0m\n\u001b[1;32m     28\u001b[0m     \u001b[0;34m(\u001b[0m\u001b[0;34m'classifier'\u001b[0m\u001b[0;34m,\u001b[0m \u001b[0mRandomForestClassifier\u001b[0m\u001b[0;34m(\u001b[0m\u001b[0mrandom_state\u001b[0m\u001b[0;34m=\u001b[0m\u001b[0;36m42\u001b[0m\u001b[0;34m)\u001b[0m\u001b[0;34m)\u001b[0m\u001b[0;34m\u001b[0m\u001b[0;34m\u001b[0m\u001b[0m\n\u001b[1;32m     29\u001b[0m ])\n\u001b[0;32m---> 30\u001b[0;31m \u001b[0mmodel\u001b[0m\u001b[0;34m.\u001b[0m\u001b[0mfit\u001b[0m\u001b[0;34m(\u001b[0m\u001b[0mX_train\u001b[0m\u001b[0;34m,\u001b[0m \u001b[0my_train\u001b[0m\u001b[0;34m)\u001b[0m\u001b[0;34m\u001b[0m\u001b[0;34m\u001b[0m\u001b[0m\n\u001b[0m\u001b[1;32m     31\u001b[0m \u001b[0;34m\u001b[0m\u001b[0m\n\u001b[1;32m     32\u001b[0m \u001b[0;31m# Evaluate the model\u001b[0m\u001b[0;34m\u001b[0m\u001b[0;34m\u001b[0m\u001b[0m\n",
            "\u001b[0;32m/usr/local/lib/python3.10/dist-packages/sklearn/pipeline.py\u001b[0m in \u001b[0;36mfit\u001b[0;34m(self, X, y, **fit_params)\u001b[0m\n\u001b[1;32m    403\u001b[0m             \u001b[0;32mif\u001b[0m \u001b[0mself\u001b[0m\u001b[0;34m.\u001b[0m\u001b[0m_final_estimator\u001b[0m \u001b[0;34m!=\u001b[0m \u001b[0;34m\"passthrough\"\u001b[0m\u001b[0;34m:\u001b[0m\u001b[0;34m\u001b[0m\u001b[0;34m\u001b[0m\u001b[0m\n\u001b[1;32m    404\u001b[0m                 \u001b[0mfit_params_last_step\u001b[0m \u001b[0;34m=\u001b[0m \u001b[0mfit_params_steps\u001b[0m\u001b[0;34m[\u001b[0m\u001b[0mself\u001b[0m\u001b[0;34m.\u001b[0m\u001b[0msteps\u001b[0m\u001b[0;34m[\u001b[0m\u001b[0;34m-\u001b[0m\u001b[0;36m1\u001b[0m\u001b[0;34m]\u001b[0m\u001b[0;34m[\u001b[0m\u001b[0;36m0\u001b[0m\u001b[0;34m]\u001b[0m\u001b[0;34m]\u001b[0m\u001b[0;34m\u001b[0m\u001b[0;34m\u001b[0m\u001b[0m\n\u001b[0;32m--> 405\u001b[0;31m                 \u001b[0mself\u001b[0m\u001b[0;34m.\u001b[0m\u001b[0m_final_estimator\u001b[0m\u001b[0;34m.\u001b[0m\u001b[0mfit\u001b[0m\u001b[0;34m(\u001b[0m\u001b[0mXt\u001b[0m\u001b[0;34m,\u001b[0m \u001b[0my\u001b[0m\u001b[0;34m,\u001b[0m \u001b[0;34m**\u001b[0m\u001b[0mfit_params_last_step\u001b[0m\u001b[0;34m)\u001b[0m\u001b[0;34m\u001b[0m\u001b[0;34m\u001b[0m\u001b[0m\n\u001b[0m\u001b[1;32m    406\u001b[0m \u001b[0;34m\u001b[0m\u001b[0m\n\u001b[1;32m    407\u001b[0m         \u001b[0;32mreturn\u001b[0m \u001b[0mself\u001b[0m\u001b[0;34m\u001b[0m\u001b[0;34m\u001b[0m\u001b[0m\n",
            "\u001b[0;32m/usr/local/lib/python3.10/dist-packages/sklearn/ensemble/_forest.py\u001b[0m in \u001b[0;36mfit\u001b[0;34m(self, X, y, sample_weight)\u001b[0m\n\u001b[1;32m    343\u001b[0m         \u001b[0;32mif\u001b[0m \u001b[0missparse\u001b[0m\u001b[0;34m(\u001b[0m\u001b[0my\u001b[0m\u001b[0;34m)\u001b[0m\u001b[0;34m:\u001b[0m\u001b[0;34m\u001b[0m\u001b[0;34m\u001b[0m\u001b[0m\n\u001b[1;32m    344\u001b[0m             \u001b[0;32mraise\u001b[0m \u001b[0mValueError\u001b[0m\u001b[0;34m(\u001b[0m\u001b[0;34m\"sparse multilabel-indicator for y is not supported.\"\u001b[0m\u001b[0;34m)\u001b[0m\u001b[0;34m\u001b[0m\u001b[0;34m\u001b[0m\u001b[0m\n\u001b[0;32m--> 345\u001b[0;31m         X, y = self._validate_data(\n\u001b[0m\u001b[1;32m    346\u001b[0m             \u001b[0mX\u001b[0m\u001b[0;34m,\u001b[0m \u001b[0my\u001b[0m\u001b[0;34m,\u001b[0m \u001b[0mmulti_output\u001b[0m\u001b[0;34m=\u001b[0m\u001b[0;32mTrue\u001b[0m\u001b[0;34m,\u001b[0m \u001b[0maccept_sparse\u001b[0m\u001b[0;34m=\u001b[0m\u001b[0;34m\"csc\"\u001b[0m\u001b[0;34m,\u001b[0m \u001b[0mdtype\u001b[0m\u001b[0;34m=\u001b[0m\u001b[0mDTYPE\u001b[0m\u001b[0;34m\u001b[0m\u001b[0;34m\u001b[0m\u001b[0m\n\u001b[1;32m    347\u001b[0m         )\n",
            "\u001b[0;32m/usr/local/lib/python3.10/dist-packages/sklearn/base.py\u001b[0m in \u001b[0;36m_validate_data\u001b[0;34m(self, X, y, reset, validate_separately, **check_params)\u001b[0m\n\u001b[1;32m    582\u001b[0m                 \u001b[0my\u001b[0m \u001b[0;34m=\u001b[0m \u001b[0mcheck_array\u001b[0m\u001b[0;34m(\u001b[0m\u001b[0my\u001b[0m\u001b[0;34m,\u001b[0m \u001b[0minput_name\u001b[0m\u001b[0;34m=\u001b[0m\u001b[0;34m\"y\"\u001b[0m\u001b[0;34m,\u001b[0m \u001b[0;34m**\u001b[0m\u001b[0mcheck_y_params\u001b[0m\u001b[0;34m)\u001b[0m\u001b[0;34m\u001b[0m\u001b[0;34m\u001b[0m\u001b[0m\n\u001b[1;32m    583\u001b[0m             \u001b[0;32melse\u001b[0m\u001b[0;34m:\u001b[0m\u001b[0;34m\u001b[0m\u001b[0;34m\u001b[0m\u001b[0m\n\u001b[0;32m--> 584\u001b[0;31m                 \u001b[0mX\u001b[0m\u001b[0;34m,\u001b[0m \u001b[0my\u001b[0m \u001b[0;34m=\u001b[0m \u001b[0mcheck_X_y\u001b[0m\u001b[0;34m(\u001b[0m\u001b[0mX\u001b[0m\u001b[0;34m,\u001b[0m \u001b[0my\u001b[0m\u001b[0;34m,\u001b[0m \u001b[0;34m**\u001b[0m\u001b[0mcheck_params\u001b[0m\u001b[0;34m)\u001b[0m\u001b[0;34m\u001b[0m\u001b[0;34m\u001b[0m\u001b[0m\n\u001b[0m\u001b[1;32m    585\u001b[0m             \u001b[0mout\u001b[0m \u001b[0;34m=\u001b[0m \u001b[0mX\u001b[0m\u001b[0;34m,\u001b[0m \u001b[0my\u001b[0m\u001b[0;34m\u001b[0m\u001b[0;34m\u001b[0m\u001b[0m\n\u001b[1;32m    586\u001b[0m \u001b[0;34m\u001b[0m\u001b[0m\n",
            "\u001b[0;32m/usr/local/lib/python3.10/dist-packages/sklearn/utils/validation.py\u001b[0m in \u001b[0;36mcheck_X_y\u001b[0;34m(X, y, accept_sparse, accept_large_sparse, dtype, order, copy, force_all_finite, ensure_2d, allow_nd, multi_output, ensure_min_samples, ensure_min_features, y_numeric, estimator)\u001b[0m\n\u001b[1;32m   1104\u001b[0m         )\n\u001b[1;32m   1105\u001b[0m \u001b[0;34m\u001b[0m\u001b[0m\n\u001b[0;32m-> 1106\u001b[0;31m     X = check_array(\n\u001b[0m\u001b[1;32m   1107\u001b[0m         \u001b[0mX\u001b[0m\u001b[0;34m,\u001b[0m\u001b[0;34m\u001b[0m\u001b[0;34m\u001b[0m\u001b[0m\n\u001b[1;32m   1108\u001b[0m         \u001b[0maccept_sparse\u001b[0m\u001b[0;34m=\u001b[0m\u001b[0maccept_sparse\u001b[0m\u001b[0;34m,\u001b[0m\u001b[0;34m\u001b[0m\u001b[0;34m\u001b[0m\u001b[0m\n",
            "\u001b[0;32m/usr/local/lib/python3.10/dist-packages/sklearn/utils/validation.py\u001b[0m in \u001b[0;36mcheck_array\u001b[0;34m(array, accept_sparse, accept_large_sparse, dtype, order, copy, force_all_finite, ensure_2d, allow_nd, ensure_min_samples, ensure_min_features, estimator, input_name)\u001b[0m\n\u001b[1;32m    843\u001b[0m     \u001b[0;32mif\u001b[0m \u001b[0msp\u001b[0m\u001b[0;34m.\u001b[0m\u001b[0missparse\u001b[0m\u001b[0;34m(\u001b[0m\u001b[0marray\u001b[0m\u001b[0;34m)\u001b[0m\u001b[0;34m:\u001b[0m\u001b[0;34m\u001b[0m\u001b[0;34m\u001b[0m\u001b[0m\n\u001b[1;32m    844\u001b[0m         \u001b[0m_ensure_no_complex_data\u001b[0m\u001b[0;34m(\u001b[0m\u001b[0marray\u001b[0m\u001b[0;34m)\u001b[0m\u001b[0;34m\u001b[0m\u001b[0;34m\u001b[0m\u001b[0m\n\u001b[0;32m--> 845\u001b[0;31m         array = _ensure_sparse_format(\n\u001b[0m\u001b[1;32m    846\u001b[0m             \u001b[0marray\u001b[0m\u001b[0;34m,\u001b[0m\u001b[0;34m\u001b[0m\u001b[0;34m\u001b[0m\u001b[0m\n\u001b[1;32m    847\u001b[0m             \u001b[0maccept_sparse\u001b[0m\u001b[0;34m=\u001b[0m\u001b[0maccept_sparse\u001b[0m\u001b[0;34m,\u001b[0m\u001b[0;34m\u001b[0m\u001b[0;34m\u001b[0m\u001b[0m\n",
            "\u001b[0;32m/usr/local/lib/python3.10/dist-packages/sklearn/utils/validation.py\u001b[0m in \u001b[0;36m_ensure_sparse_format\u001b[0;34m(spmatrix, accept_sparse, dtype, copy, force_all_finite, accept_large_sparse, estimator_name, input_name)\u001b[0m\n\u001b[1;32m    559\u001b[0m             )\n\u001b[1;32m    560\u001b[0m         \u001b[0;32melse\u001b[0m\u001b[0;34m:\u001b[0m\u001b[0;34m\u001b[0m\u001b[0;34m\u001b[0m\u001b[0m\n\u001b[0;32m--> 561\u001b[0;31m             _assert_all_finite(\n\u001b[0m\u001b[1;32m    562\u001b[0m                 \u001b[0mspmatrix\u001b[0m\u001b[0;34m.\u001b[0m\u001b[0mdata\u001b[0m\u001b[0;34m,\u001b[0m\u001b[0;34m\u001b[0m\u001b[0;34m\u001b[0m\u001b[0m\n\u001b[1;32m    563\u001b[0m                 \u001b[0mallow_nan\u001b[0m\u001b[0;34m=\u001b[0m\u001b[0mforce_all_finite\u001b[0m \u001b[0;34m==\u001b[0m \u001b[0;34m\"allow-nan\"\u001b[0m\u001b[0;34m,\u001b[0m\u001b[0;34m\u001b[0m\u001b[0;34m\u001b[0m\u001b[0m\n",
            "\u001b[0;32m/usr/local/lib/python3.10/dist-packages/sklearn/utils/validation.py\u001b[0m in \u001b[0;36m_assert_all_finite\u001b[0;34m(X, allow_nan, msg_dtype, estimator_name, input_name)\u001b[0m\n\u001b[1;32m    159\u001b[0m                 \u001b[0;34m\"#estimators-that-handle-nan-values\"\u001b[0m\u001b[0;34m\u001b[0m\u001b[0;34m\u001b[0m\u001b[0m\n\u001b[1;32m    160\u001b[0m             )\n\u001b[0;32m--> 161\u001b[0;31m         \u001b[0;32mraise\u001b[0m \u001b[0mValueError\u001b[0m\u001b[0;34m(\u001b[0m\u001b[0mmsg_err\u001b[0m\u001b[0;34m)\u001b[0m\u001b[0;34m\u001b[0m\u001b[0;34m\u001b[0m\u001b[0m\n\u001b[0m\u001b[1;32m    162\u001b[0m \u001b[0;34m\u001b[0m\u001b[0m\n\u001b[1;32m    163\u001b[0m \u001b[0;34m\u001b[0m\u001b[0m\n",
            "\u001b[0;31mValueError\u001b[0m: Input X contains NaN.\nRandomForestClassifier does not accept missing values encoded as NaN natively. For supervised learning, you might want to consider sklearn.ensemble.HistGradientBoostingClassifier and Regressor which accept missing values encoded as NaNs natively. Alternatively, it is possible to preprocess the data, for instance by using an imputer transformer in a pipeline or drop samples with missing values. See https://scikit-learn.org/stable/modules/impute.html You can find a list of all estimators that handle NaN values at the following page: https://scikit-learn.org/stable/modules/impute.html#estimators-that-handle-nan-values"
          ]
        }
      ],
      "source": [
        "from sklearn.model_selection import train_test_split\n",
        "from sklearn.ensemble import RandomForestClassifier\n",
        "from sklearn.metrics import classification_report\n",
        "from sklearn.preprocessing import StandardScaler, OneHotEncoder\n",
        "from sklearn.compose import ColumnTransformer\n",
        "from sklearn.pipeline import Pipeline\n",
        "\n",
        "# Prepare features and target variable\n",
        "X = df_upsampled.drop(['CategoryCode'], axis=1)  # Include relevant features\n",
        "y = df_upsampled['CategoryCode']\n",
        "\n",
        "# Encoding and scaling\n",
        "categorical_features = ['Gender', 'Color', 'Metal', 'Gem']  # Update as per your dataset\n",
        "numerical_features = ['Quantity', 'USDPrice']  # Update as per your dataset\n",
        "\n",
        "preprocessor = ColumnTransformer(\n",
        "    transformers=[\n",
        "        ('num', StandardScaler(), numerical_features),\n",
        "        ('cat', OneHotEncoder(handle_unknown='ignore'), categorical_features)\n",
        "    ])\n",
        "\n",
        "# Split the dataset\n",
        "X_train, X_test, y_train, y_test = train_test_split(X, y, test_size=0.3, random_state=42)\n",
        "\n",
        "# Create and train the model\n",
        "model = Pipeline([\n",
        "    ('preprocessor', preprocessor),\n",
        "    ('classifier', RandomForestClassifier(random_state=42))\n",
        "])\n",
        "model.fit(X_train, y_train)\n",
        "\n",
        "# Evaluate the model\n",
        "y_pred = model.predict(X_test)\n",
        "print(classification_report(y_test, y_pred))\n"
      ]
    },
    {
      "cell_type": "code",
      "execution_count": null,
      "id": "e3276803",
      "metadata": {
        "id": "e3276803",
        "outputId": "039efc5a-d52f-41f3-a5fd-e742202e5a0f"
      },
      "outputs": [
        {
          "name": "stdout",
          "output_type": "stream",
          "text": [
            "Mean Squared Error: 1666.104554933043\n",
            "R2 Score: 0.2284364722267167\n"
          ]
        }
      ],
      "source": [
        "import pandas as pd\n",
        "from sklearn.model_selection import train_test_split\n",
        "from sklearn.ensemble import RandomForestRegressor\n",
        "from sklearn.metrics import mean_squared_error, r2_score\n",
        "from sklearn.preprocessing import StandardScaler\n",
        "\n",
        "\n",
        "# Prepare the features by selecting only numeric columns for scaling\n",
        "numeric_features = customer_df.select_dtypes(include=['int64', 'float64'])\n",
        "\n",
        "# Prepare the target variable\n",
        "y = customer_df['Average_Spend']\n",
        "\n",
        "# Drop the non-numeric and target columns from features\n",
        "X = numeric_features.drop(['Total_Spend', 'Average_Spend'], axis=1)\n",
        "\n",
        "# Split the dataset into training and testing sets\n",
        "X_train, X_test, y_train, y_test = train_test_split(X, y, test_size=0.3, random_state=42)\n",
        "\n",
        "# Scale the features\n",
        "scaler = StandardScaler()\n",
        "X_train_scaled = scaler.fit_transform(X_train)\n",
        "X_test_scaled = scaler.transform(X_test)\n",
        "\n",
        "# Initialize the Random Forest Regressor\n",
        "rf_regressor = RandomForestRegressor(n_estimators=100, random_state=42)\n",
        "\n",
        "# Train the model\n",
        "rf_regressor.fit(X_train_scaled, y_train)\n",
        "\n",
        "# Make predictions\n",
        "y_pred = rf_regressor.predict(X_test_scaled)\n",
        "\n",
        "# Calculate regression metrics\n",
        "mse = mean_squared_error(y_test, y_pred)\n",
        "r2 = r2_score(y_test, y_pred)\n",
        "\n",
        "print(f'Mean Squared Error: {mse}')\n",
        "print(f'R2 Score: {r2}')\n"
      ]
    },
    {
      "cell_type": "code",
      "execution_count": null,
      "id": "b33d4f11",
      "metadata": {
        "id": "b33d4f11"
      },
      "outputs": [],
      "source": [
        "import pandas as pd\n",
        "\n",
        "# Filter the dataset to include only the relevant categories\n",
        "categories = ['jewelry.bracelet', 'jewelry.earring', 'jewelry.pendant', 'jewelry.ring', 'other']\n",
        "df_filtered = df[df['CategoryCode'].isin(categories)]\n",
        "\n",
        "# Define features and target\n",
        "features = ['Quantity', 'CategoryCode', 'Gender', 'Color', 'Metal', 'Gem']\n",
        "target = 'USDPrice'\n",
        "\n"
      ]
    },
    {
      "cell_type": "code",
      "execution_count": null,
      "id": "dd70500a",
      "metadata": {
        "id": "dd70500a"
      },
      "outputs": [],
      "source": [
        "from sklearn.preprocessing import StandardScaler, OneHotEncoder\n",
        "from sklearn.compose import ColumnTransformer\n",
        "\n",
        "# Define categorical and numerical features\n",
        "categorical_features = ['CategoryCode', 'Gender', 'Color', 'Metal', 'Gem']\n",
        "numerical_features = ['Quantity']\n",
        "\n",
        "# Create transformers for categorical and numerical features\n",
        "preprocessor = ColumnTransformer(\n",
        "    transformers=[\n",
        "        ('num', StandardScaler(), numerical_features),\n",
        "        ('cat', OneHotEncoder(handle_unknown='ignore'), categorical_features)\n",
        "    ])\n",
        "\n",
        "# Prepare features and target variable\n",
        "X = df_filtered.drop(target, axis=1)\n",
        "y = df_filtered[target]\n",
        "\n"
      ]
    },
    {
      "cell_type": "code",
      "execution_count": null,
      "id": "d007dd35",
      "metadata": {
        "id": "d007dd35",
        "outputId": "7ddc3cf7-e5b9-4908-a589-399b34761a4d"
      },
      "outputs": [
        {
          "data": {
            "text/html": [
              "<style>#sk-container-id-1 {color: black;}#sk-container-id-1 pre{padding: 0;}#sk-container-id-1 div.sk-toggleable {background-color: white;}#sk-container-id-1 label.sk-toggleable__label {cursor: pointer;display: block;width: 100%;margin-bottom: 0;padding: 0.3em;box-sizing: border-box;text-align: center;}#sk-container-id-1 label.sk-toggleable__label-arrow:before {content: \"▸\";float: left;margin-right: 0.25em;color: #696969;}#sk-container-id-1 label.sk-toggleable__label-arrow:hover:before {color: black;}#sk-container-id-1 div.sk-estimator:hover label.sk-toggleable__label-arrow:before {color: black;}#sk-container-id-1 div.sk-toggleable__content {max-height: 0;max-width: 0;overflow: hidden;text-align: left;background-color: #f0f8ff;}#sk-container-id-1 div.sk-toggleable__content pre {margin: 0.2em;color: black;border-radius: 0.25em;background-color: #f0f8ff;}#sk-container-id-1 input.sk-toggleable__control:checked~div.sk-toggleable__content {max-height: 200px;max-width: 100%;overflow: auto;}#sk-container-id-1 input.sk-toggleable__control:checked~label.sk-toggleable__label-arrow:before {content: \"▾\";}#sk-container-id-1 div.sk-estimator input.sk-toggleable__control:checked~label.sk-toggleable__label {background-color: #d4ebff;}#sk-container-id-1 div.sk-label input.sk-toggleable__control:checked~label.sk-toggleable__label {background-color: #d4ebff;}#sk-container-id-1 input.sk-hidden--visually {border: 0;clip: rect(1px 1px 1px 1px);clip: rect(1px, 1px, 1px, 1px);height: 1px;margin: -1px;overflow: hidden;padding: 0;position: absolute;width: 1px;}#sk-container-id-1 div.sk-estimator {font-family: monospace;background-color: #f0f8ff;border: 1px dotted black;border-radius: 0.25em;box-sizing: border-box;margin-bottom: 0.5em;}#sk-container-id-1 div.sk-estimator:hover {background-color: #d4ebff;}#sk-container-id-1 div.sk-parallel-item::after {content: \"\";width: 100%;border-bottom: 1px solid gray;flex-grow: 1;}#sk-container-id-1 div.sk-label:hover label.sk-toggleable__label {background-color: #d4ebff;}#sk-container-id-1 div.sk-serial::before {content: \"\";position: absolute;border-left: 1px solid gray;box-sizing: border-box;top: 0;bottom: 0;left: 50%;z-index: 0;}#sk-container-id-1 div.sk-serial {display: flex;flex-direction: column;align-items: center;background-color: white;padding-right: 0.2em;padding-left: 0.2em;position: relative;}#sk-container-id-1 div.sk-item {position: relative;z-index: 1;}#sk-container-id-1 div.sk-parallel {display: flex;align-items: stretch;justify-content: center;background-color: white;position: relative;}#sk-container-id-1 div.sk-item::before, #sk-container-id-1 div.sk-parallel-item::before {content: \"\";position: absolute;border-left: 1px solid gray;box-sizing: border-box;top: 0;bottom: 0;left: 50%;z-index: -1;}#sk-container-id-1 div.sk-parallel-item {display: flex;flex-direction: column;z-index: 1;position: relative;background-color: white;}#sk-container-id-1 div.sk-parallel-item:first-child::after {align-self: flex-end;width: 50%;}#sk-container-id-1 div.sk-parallel-item:last-child::after {align-self: flex-start;width: 50%;}#sk-container-id-1 div.sk-parallel-item:only-child::after {width: 0;}#sk-container-id-1 div.sk-dashed-wrapped {border: 1px dashed gray;margin: 0 0.4em 0.5em 0.4em;box-sizing: border-box;padding-bottom: 0.4em;background-color: white;}#sk-container-id-1 div.sk-label label {font-family: monospace;font-weight: bold;display: inline-block;line-height: 1.2em;}#sk-container-id-1 div.sk-label-container {text-align: center;}#sk-container-id-1 div.sk-container {/* jupyter's `normalize.less` sets `[hidden] { display: none; }` but bootstrap.min.css set `[hidden] { display: none !important; }` so we also need the `!important` here to be able to override the default hidden behavior on the sphinx rendered scikit-learn.org. See: https://github.com/scikit-learn/scikit-learn/issues/21755 */display: inline-block !important;position: relative;}#sk-container-id-1 div.sk-text-repr-fallback {display: none;}</style><div id=\"sk-container-id-1\" class=\"sk-top-container\"><div class=\"sk-text-repr-fallback\"><pre>Pipeline(steps=[(&#x27;preprocessor&#x27;,\n",
              "                 ColumnTransformer(transformers=[(&#x27;num&#x27;, StandardScaler(),\n",
              "                                                  [&#x27;Quantity&#x27;]),\n",
              "                                                 (&#x27;cat&#x27;,\n",
              "                                                  OneHotEncoder(handle_unknown=&#x27;ignore&#x27;),\n",
              "                                                  [&#x27;CategoryCode&#x27;, &#x27;Gender&#x27;,\n",
              "                                                   &#x27;Color&#x27;, &#x27;Metal&#x27;,\n",
              "                                                   &#x27;Gem&#x27;])])),\n",
              "                (&#x27;regressor&#x27;, RandomForestRegressor(random_state=42))])</pre><b>In a Jupyter environment, please rerun this cell to show the HTML representation or trust the notebook. <br />On GitHub, the HTML representation is unable to render, please try loading this page with nbviewer.org.</b></div><div class=\"sk-container\" hidden><div class=\"sk-item sk-dashed-wrapped\"><div class=\"sk-label-container\"><div class=\"sk-label sk-toggleable\"><input class=\"sk-toggleable__control sk-hidden--visually\" id=\"sk-estimator-id-1\" type=\"checkbox\" ><label for=\"sk-estimator-id-1\" class=\"sk-toggleable__label sk-toggleable__label-arrow\">Pipeline</label><div class=\"sk-toggleable__content\"><pre>Pipeline(steps=[(&#x27;preprocessor&#x27;,\n",
              "                 ColumnTransformer(transformers=[(&#x27;num&#x27;, StandardScaler(),\n",
              "                                                  [&#x27;Quantity&#x27;]),\n",
              "                                                 (&#x27;cat&#x27;,\n",
              "                                                  OneHotEncoder(handle_unknown=&#x27;ignore&#x27;),\n",
              "                                                  [&#x27;CategoryCode&#x27;, &#x27;Gender&#x27;,\n",
              "                                                   &#x27;Color&#x27;, &#x27;Metal&#x27;,\n",
              "                                                   &#x27;Gem&#x27;])])),\n",
              "                (&#x27;regressor&#x27;, RandomForestRegressor(random_state=42))])</pre></div></div></div><div class=\"sk-serial\"><div class=\"sk-item sk-dashed-wrapped\"><div class=\"sk-label-container\"><div class=\"sk-label sk-toggleable\"><input class=\"sk-toggleable__control sk-hidden--visually\" id=\"sk-estimator-id-2\" type=\"checkbox\" ><label for=\"sk-estimator-id-2\" class=\"sk-toggleable__label sk-toggleable__label-arrow\">preprocessor: ColumnTransformer</label><div class=\"sk-toggleable__content\"><pre>ColumnTransformer(transformers=[(&#x27;num&#x27;, StandardScaler(), [&#x27;Quantity&#x27;]),\n",
              "                                (&#x27;cat&#x27;, OneHotEncoder(handle_unknown=&#x27;ignore&#x27;),\n",
              "                                 [&#x27;CategoryCode&#x27;, &#x27;Gender&#x27;, &#x27;Color&#x27;, &#x27;Metal&#x27;,\n",
              "                                  &#x27;Gem&#x27;])])</pre></div></div></div><div class=\"sk-parallel\"><div class=\"sk-parallel-item\"><div class=\"sk-item\"><div class=\"sk-label-container\"><div class=\"sk-label sk-toggleable\"><input class=\"sk-toggleable__control sk-hidden--visually\" id=\"sk-estimator-id-3\" type=\"checkbox\" ><label for=\"sk-estimator-id-3\" class=\"sk-toggleable__label sk-toggleable__label-arrow\">num</label><div class=\"sk-toggleable__content\"><pre>[&#x27;Quantity&#x27;]</pre></div></div></div><div class=\"sk-serial\"><div class=\"sk-item\"><div class=\"sk-estimator sk-toggleable\"><input class=\"sk-toggleable__control sk-hidden--visually\" id=\"sk-estimator-id-4\" type=\"checkbox\" ><label for=\"sk-estimator-id-4\" class=\"sk-toggleable__label sk-toggleable__label-arrow\">StandardScaler</label><div class=\"sk-toggleable__content\"><pre>StandardScaler()</pre></div></div></div></div></div></div><div class=\"sk-parallel-item\"><div class=\"sk-item\"><div class=\"sk-label-container\"><div class=\"sk-label sk-toggleable\"><input class=\"sk-toggleable__control sk-hidden--visually\" id=\"sk-estimator-id-5\" type=\"checkbox\" ><label for=\"sk-estimator-id-5\" class=\"sk-toggleable__label sk-toggleable__label-arrow\">cat</label><div class=\"sk-toggleable__content\"><pre>[&#x27;CategoryCode&#x27;, &#x27;Gender&#x27;, &#x27;Color&#x27;, &#x27;Metal&#x27;, &#x27;Gem&#x27;]</pre></div></div></div><div class=\"sk-serial\"><div class=\"sk-item\"><div class=\"sk-estimator sk-toggleable\"><input class=\"sk-toggleable__control sk-hidden--visually\" id=\"sk-estimator-id-6\" type=\"checkbox\" ><label for=\"sk-estimator-id-6\" class=\"sk-toggleable__label sk-toggleable__label-arrow\">OneHotEncoder</label><div class=\"sk-toggleable__content\"><pre>OneHotEncoder(handle_unknown=&#x27;ignore&#x27;)</pre></div></div></div></div></div></div></div></div><div class=\"sk-item\"><div class=\"sk-estimator sk-toggleable\"><input class=\"sk-toggleable__control sk-hidden--visually\" id=\"sk-estimator-id-7\" type=\"checkbox\" ><label for=\"sk-estimator-id-7\" class=\"sk-toggleable__label sk-toggleable__label-arrow\">RandomForestRegressor</label><div class=\"sk-toggleable__content\"><pre>RandomForestRegressor(random_state=42)</pre></div></div></div></div></div></div></div>"
            ],
            "text/plain": [
              "Pipeline(steps=[('preprocessor',\n",
              "                 ColumnTransformer(transformers=[('num', StandardScaler(),\n",
              "                                                  ['Quantity']),\n",
              "                                                 ('cat',\n",
              "                                                  OneHotEncoder(handle_unknown='ignore'),\n",
              "                                                  ['CategoryCode', 'Gender',\n",
              "                                                   'Color', 'Metal',\n",
              "                                                   'Gem'])])),\n",
              "                ('regressor', RandomForestRegressor(random_state=42))])"
            ]
          },
          "execution_count": 52,
          "metadata": {},
          "output_type": "execute_result"
        }
      ],
      "source": [
        "from sklearn.model_selection import train_test_split\n",
        "from sklearn.ensemble import RandomForestRegressor\n",
        "from sklearn.pipeline import Pipeline\n",
        "\n",
        "# Split the dataset\n",
        "X_train, X_test, y_train, y_test = train_test_split(X, y, test_size=0.3, random_state=42)\n",
        "\n",
        "# Create and train the model\n",
        "model = Pipeline([\n",
        "    ('preprocessor', preprocessor),\n",
        "    ('regressor', RandomForestRegressor(random_state=42))\n",
        "])\n",
        "model.fit(X_train, y_train)\n",
        "\n"
      ]
    },
    {
      "cell_type": "code",
      "execution_count": null,
      "id": "154ea589",
      "metadata": {
        "id": "154ea589",
        "outputId": "fbb65dd5-f6c3-4788-8581-2f4b3750cd60"
      },
      "outputs": [
        {
          "name": "stdout",
          "output_type": "stream",
          "text": [
            "Predicted amount to be spent on jewelry.bracelet: $141.40\n",
            "Predicted amount to be spent on jewelry.earring: $233.62\n",
            "Predicted amount to be spent on jewelry.pendant: $301.05\n",
            "Predicted amount to be spent on jewelry.ring: $347.99\n",
            "Predicted amount to be spent on other: $194.89\n"
          ]
        }
      ],
      "source": [
        "# Example user data for different types of jewelry\n",
        "user_data_examples = [\n",
        "    {'CategoryCode': 'jewelry.bracelet', 'Quantity': 1, 'Gender': 'Female', 'Color': 'Gold', 'Metal': 'Gold', 'Gem': 'Diamond'},\n",
        "    {'CategoryCode': 'jewelry.earring', 'Quantity': 1, 'Gender': 'Female', 'Color': 'Silver', 'Metal': 'Silver', 'Gem': 'Diamond'},\n",
        "    {'CategoryCode': 'jewelry.pendant', 'Quantity': 1, 'Gender': 'Female', 'Color': 'Gold', 'Metal': 'Gold', 'Gem': 'Emerald'},\n",
        "    {'CategoryCode': 'jewelry.ring', 'Quantity': 1, 'Gender': 'Female', 'Color': 'Rose Gold', 'Metal': 'Rose Gold', 'Gem': 'Ruby'},\n",
        "    {'CategoryCode': 'other', 'Quantity': 1, 'Gender': 'Unisex', 'Color': 'Multicolor', 'Metal': 'Mixed', 'Gem': 'None'}\n",
        "]\n",
        "\n",
        "# Predict for each type of jewelry\n",
        "for user_data in user_data_examples:\n",
        "    user_df = pd.DataFrame([user_data])\n",
        "    predicted_spend = model.predict(user_df)\n",
        "    print(f\"Predicted amount to be spent on {user_data['CategoryCode']}: ${predicted_spend[0]:.2f}\")\n",
        "\n"
      ]
    },
    {
      "cell_type": "code",
      "execution_count": null,
      "id": "752802e5",
      "metadata": {
        "id": "752802e5",
        "outputId": "7aa76264-5b5f-4dd0-e76b-d00fbdae4825"
      },
      "outputs": [
        {
          "name": "stdout",
          "output_type": "stream",
          "text": [
            "Customer Churn Rate: 0.00%\n"
          ]
        }
      ],
      "source": [
        "import pandas as pd\n",
        "\n",
        "# Define the time frame for churn analysis\n",
        "start_date = pd.Timestamp('2020-01-01')  # Start of the period\n",
        "end_date = pd.Timestamp('2021-12-01')    # End of the period\n",
        "\n",
        "# Identify active customers at the start of the period\n",
        "active_customers = df[df['Datetime'] < start_date]['UserID'].unique()\n",
        "\n",
        "# Identify customers who made purchases during the period\n",
        "active_during_period = df[(df['Datetime'] >= start_date) &\n",
        "                          (df['Datetime'] <= end_date)]['UserID'].unique()\n",
        "\n",
        "# Identify customers who have churned\n",
        "# Churned customers are those who were active before but not active during the period\n",
        "churned_customers = set(active_customers) - set(active_during_period)\n",
        "\n",
        "# Calculate churn rate\n",
        "churn_rate = len(churned_customers) / len(active_customers) * 100\n",
        "\n",
        "print(f\"Customer Churn Rate: {churn_rate:.2f}%\")\n"
      ]
    },
    {
      "cell_type": "code",
      "execution_count": null,
      "id": "8c456380",
      "metadata": {
        "id": "8c456380",
        "outputId": "2e477702-0c06-4b64-a81b-39285e5f57f1"
      },
      "outputs": [
        {
          "ename": "NameError",
          "evalue": "name 'X_processed' is not defined",
          "output_type": "error",
          "traceback": [
            "\u001b[1;31m---------------------------------------------------------------------------\u001b[0m",
            "\u001b[1;31mNameError\u001b[0m                                 Traceback (most recent call last)",
            "Cell \u001b[1;32mIn[55], line 9\u001b[0m\n\u001b[0;32m      7\u001b[0m \u001b[38;5;66;03m# Apply K-means clustering with 5 clusters\u001b[39;00m\n\u001b[0;32m      8\u001b[0m kmeans \u001b[38;5;241m=\u001b[39m KMeans(n_clusters\u001b[38;5;241m=\u001b[39m\u001b[38;5;241m5\u001b[39m, n_init\u001b[38;5;241m=\u001b[39m\u001b[38;5;241m10\u001b[39m, random_state\u001b[38;5;241m=\u001b[39m\u001b[38;5;241m42\u001b[39m)\n\u001b[1;32m----> 9\u001b[0m kmeans\u001b[38;5;241m.\u001b[39mfit(X_processed)\n\u001b[0;32m     11\u001b[0m \u001b[38;5;66;03m# Get the cluster labels\u001b[39;00m\n\u001b[0;32m     12\u001b[0m labels \u001b[38;5;241m=\u001b[39m kmeans\u001b[38;5;241m.\u001b[39mlabels_\n",
            "\u001b[1;31mNameError\u001b[0m: name 'X_processed' is not defined"
          ]
        }
      ],
      "source": [
        "import plotly.graph_objects as go\n",
        "import pandas as pd\n",
        "from sklearn.decomposition import TruncatedSVD\n",
        "from sklearn.cluster import KMeans\n",
        "from sklearn.preprocessing import StandardScaler, OneHotEncoder\n",
        "from sklearn.compose import ColumnTransformer\n",
        "# Apply K-means clustering with 5 clusters\n",
        "kmeans = KMeans(n_clusters=5, n_init=10, random_state=42)\n",
        "kmeans.fit(X_processed)\n",
        "\n",
        "# Get the cluster labels\n",
        "labels = kmeans.labels_\n",
        "\n",
        "# Reduce dimensions for 3D visualization\n",
        "svd = TruncatedSVD(n_components=3, random_state=42)\n",
        "X_svd = svd.fit_transform(X_processed)\n"
      ]
    },
    {
      "cell_type": "code",
      "execution_count": null,
      "id": "9f509c8d",
      "metadata": {
        "id": "9f509c8d",
        "outputId": "3df8c91f-77ad-43ec-f27b-393c77dc4178"
      },
      "outputs": [
        {
          "name": "stdout",
          "output_type": "stream",
          "text": [
            "Requirement already satisfied: plotly in c:\\users\\rebeccaoseiakoto\\anaconda3\\lib\\site-packages (5.9.0)\n",
            "Requirement already satisfied: tenacity>=6.2.0 in c:\\users\\rebeccaoseiakoto\\anaconda3\\lib\\site-packages (from plotly) (8.2.2)\n"
          ]
        }
      ],
      "source": [
        "!pip install plotly\n"
      ]
    },
    {
      "cell_type": "code",
      "execution_count": null,
      "id": "5c251299",
      "metadata": {
        "id": "5c251299"
      },
      "outputs": [],
      "source": [
        "# Create a 3D scatter plot using plotly\n",
        "fig = go.Figure()\n",
        "\n",
        "colors = ['blue', 'green', 'red', 'cyan', 'magenta']\n",
        "\n",
        "for i in range(5):\n",
        "    fig.add_trace(go.Scatter3d(\n",
        "        x=X_svd[labels == i, 0],\n",
        "        y=X_svd[labels == i, 1],\n",
        "        z=X_svd[labels == i, 2],\n",
        "        mode='markers',\n",
        "        marker=dict(size=5, color=colors[i], opacity=0.8),\n",
        "        name=f'Cluster {i+1}'\n",
        "    ))\n",
        "\n",
        "# Update plot layout\n",
        "fig.update_layout(\n",
        "    title='3D view of K-Means Clusters',\n",
        "    scene=dict(\n",
        "        xaxis_title='SVD Component 1',\n",
        "        yaxis_title='SVD Component 2',\n",
        "        zaxis_title='SVD Component 3'\n",
        "    ),\n",
        "    margin=dict(l=0, r=0, b=0, t=0)\n",
        ")\n",
        "\n",
        "# Show the plot\n",
        "fig.show()\n",
        "\n"
      ]
    },
    {
      "cell_type": "code",
      "execution_count": null,
      "id": "2f240607",
      "metadata": {
        "id": "2f240607"
      },
      "outputs": [],
      "source": [
        "from sklearn.cluster import KMeans\n",
        "\n",
        "# Assuming you have already processed your dataset into X_processed\n",
        "kmeans = KMeans(n_clusters=5, n_init=10, random_state=42)\n",
        "df['Cluster_Labels'] = kmeans.fit_predict(X_processed)\n"
      ]
    },
    {
      "cell_type": "code",
      "execution_count": null,
      "id": "e4ea684e",
      "metadata": {
        "id": "e4ea684e"
      },
      "outputs": [],
      "source": [
        "# Convert datetime columns to numeric (e.g., extracting year, month, day)\n",
        "df['Year'] = df['Datetime'].dt.year\n",
        "df['Month'] = df['Datetime'].dt.month\n",
        "df['Day'] = df['Datetime'].dt.day\n",
        "\n",
        "# Drop the original datetime column\n",
        "df = df.drop('Datetime', axis=1)\n",
        "\n",
        "# Handle categorical data (e.g., using one-hot encoding)\n",
        "categorical_columns = ['CategoryCode', 'Gender', 'Color', 'Metal', 'Gem']  # Update this list based on your dataset\n",
        "df = pd.get_dummies(df, columns=categorical_columns)\n",
        "\n",
        "# Now prepare your features (X) and target (y) again\n",
        "X = df.drop(['Churn', 'Cluster_Labels'], axis=1)\n",
        "y = df['Cluster_Labels']\n",
        "\n"
      ]
    },
    {
      "cell_type": "code",
      "execution_count": null,
      "id": "8036560e",
      "metadata": {
        "id": "8036560e"
      },
      "outputs": [],
      "source": [
        "print(df.columns)"
      ]
    },
    {
      "cell_type": "code",
      "execution_count": null,
      "id": "f6b2f740",
      "metadata": {
        "id": "f6b2f740"
      },
      "outputs": [],
      "source": [
        "# Prepare the features and target variable for cross-validation\n",
        "X = df.drop(['Churn', 'Cluster_Labels'], axis=1)\n",
        "y = df['Cluster_Labels']\n"
      ]
    },
    {
      "cell_type": "code",
      "execution_count": null,
      "id": "97979b72",
      "metadata": {
        "id": "97979b72"
      },
      "outputs": [],
      "source": [
        "\n",
        "# Exclude non-numeric or unnecessary columns for the model\n",
        "columns_to_exclude = ['Item_Features']  # Add any other non-numeric columns here\n",
        "X = df.drop(columns_to_exclude + ['Churn', 'Cluster_Labels'], axis=1)\n",
        "y = df['Cluster_Labels']\n"
      ]
    },
    {
      "cell_type": "code",
      "execution_count": null,
      "id": "616a85ee",
      "metadata": {
        "id": "616a85ee"
      },
      "outputs": [],
      "source": [
        "from sklearn.model_selection import cross_val_score\n",
        "from sklearn.ensemble import RandomForestClassifier\n",
        "\n",
        "# Initialize the model\n",
        "model = RandomForestClassifier(random_state=42)\n",
        "\n",
        "# Perform cross-validation\n",
        "scores = cross_val_score(model, X, y, cv=5)\n",
        "\n",
        "print(\"Cross-validation scores:\", scores)\n",
        "print(\"Average score:\", scores.mean())\n"
      ]
    },
    {
      "cell_type": "code",
      "execution_count": null,
      "id": "34c2fe4e",
      "metadata": {
        "id": "34c2fe4e"
      },
      "outputs": [],
      "source": [
        "df.info()\n",
        "df.describe(include= 'all')"
      ]
    },
    {
      "cell_type": "code",
      "execution_count": null,
      "id": "c52aba5d",
      "metadata": {
        "scrolled": true,
        "id": "c52aba5d"
      },
      "outputs": [],
      "source": [
        "df.head()"
      ]
    },
    {
      "cell_type": "code",
      "execution_count": null,
      "id": "2b9aa78e",
      "metadata": {
        "id": "2b9aa78e"
      },
      "outputs": [],
      "source": [
        "df[['USDPrice']].describe()"
      ]
    },
    {
      "cell_type": "code",
      "execution_count": null,
      "id": "a2cc185e",
      "metadata": {
        "id": "a2cc185e"
      },
      "outputs": [],
      "source": [
        "!pip install pandas numpy statsmodels\n"
      ]
    },
    {
      "cell_type": "code",
      "execution_count": null,
      "id": "005afcae",
      "metadata": {
        "scrolled": false,
        "id": "005afcae"
      },
      "outputs": [],
      "source": [
        "import pandas as pd\n",
        "import numpy as np\n",
        "import statsmodels.api as sm\n",
        "\n",
        "\n",
        "# Create a binary 'Purchase' indicator based on 'Quantity'\n",
        "df['Purchase'] = np.where(df['Quantity'] > 0, 1, 0)\n",
        "\n",
        "# Selecting relevant columns for the model\n",
        "X = df[['USDPrice']]  # Predictor variable(s)\n",
        "y = df['Purchase']    # Response variable\n",
        "\n",
        "# Adding a constant to the model (intercept)\n",
        "X = sm.add_constant(X)\n",
        "\n",
        "# Building the logistic regression model with regularization\n",
        "model = sm.Logit(y, X)\n",
        "result = model.fit_regularized(method='l1')  # L1 regularization\n",
        "\n",
        "\n",
        "\n",
        "# Output the summary of the model\n",
        "print(result.summary())\n",
        "\n",
        "# Calculating elasticity\n",
        "# Note: This is a simplification, as elasticity can vary across different price points\n",
        "df['prob'] = result.predict(X)\n",
        "df['elasticity'] = df['prob'] * (1 - df['prob']) * df['USDPrice']\n",
        "\n",
        "# Average elasticity\n",
        "avg_elasticity = df['elasticity'].mean()\n",
        "print(f\"Average Price Elasticity of Purchase Probability: {avg_elasticity}\")\n",
        "\n"
      ]
    },
    {
      "cell_type": "code",
      "execution_count": null,
      "id": "19df10d2",
      "metadata": {
        "id": "19df10d2"
      },
      "outputs": [],
      "source": [
        "import matplotlib.pyplot as plt\n",
        "\n",
        "# Assuming df is your DataFrame and it contains 'USDPrice' and 'elasticity' columns\n",
        "# Make sure to run the logistic regression and elasticity calculation code before this\n",
        "\n",
        "plt.figure(figsize=(10, 6))\n",
        "plt.scatter(df['USDPrice'], df['elasticity'], alpha=0.5)\n",
        "plt.title('Price Elasticity of Purchase Probability')\n",
        "plt.xlabel('Price (USD)')\n",
        "plt.ylabel('Elasticity')\n",
        "plt.grid(True)\n",
        "plt.show()\n"
      ]
    },
    {
      "cell_type": "code",
      "execution_count": null,
      "id": "9c9c0ba0",
      "metadata": {
        "id": "9c9c0ba0"
      },
      "outputs": [],
      "source": [
        "pip install pandas scikit-learn\n"
      ]
    },
    {
      "cell_type": "code",
      "execution_count": null,
      "id": "d07456d5",
      "metadata": {
        "id": "d07456d5"
      },
      "outputs": [],
      "source": [
        "import pandas as pd\n",
        "from sklearn.svm import SVC\n",
        "from sklearn.model_selection import train_test_split\n",
        "from sklearn.metrics import classification_report, confusion_matrix\n",
        "from sklearn.preprocessing import StandardScaler\n",
        "\n",
        "\n",
        "# Create a binary 'Purchase' indicator based on 'Quantity'\n",
        "df['Purchase'] = df['Quantity'].apply(lambda x: 1 if x > 0 else 0)\n",
        "\n",
        "# Selecting features for the model\n",
        "# You can add more features as needed\n",
        "X = df[['USDPrice']]  # Predictor variable(s)\n",
        "y = df['Purchase']    # Response variable\n",
        "\n",
        "# Splitting the dataset into training and testing sets\n",
        "X_train, X_test, y_train, y_test = train_test_split(X, y, test_size=0.2, random_state=42)\n",
        "\n",
        "# Feature Scaling\n",
        "scaler = StandardScaler()\n",
        "X_train = scaler.fit_transform(X_train)\n",
        "X_test = scaler.transform(X_test)\n",
        "\n",
        "# Creating the SVM model\n",
        "model = SVC(kernel='linear')  # You can try different kernels like 'rbf', 'poly'\n",
        "model.fit(X_train, y_train)\n",
        "\n",
        "# Making predictions\n",
        "y_pred = model.predict(X_test)\n",
        "\n",
        "# Evaluating the model\n",
        "print(confusion_matrix(y_test, y_pred))\n",
        "print(classification_report(y_test, y_pred))\n"
      ]
    },
    {
      "cell_type": "code",
      "execution_count": null,
      "id": "cf4a9959",
      "metadata": {
        "id": "cf4a9959"
      },
      "outputs": [],
      "source": [
        "import pandas as pd\n",
        "from sklearn.preprocessing import MinMaxScaler\n",
        "from sklearn.model_selection import train_test_split\n",
        "import numpy as np\n",
        "\n",
        "\n",
        "df['Datetime'] = pd.to_datetime(df['Datetime']).dt.tz_localize(None)\n",
        "\n",
        "# Sort the data by customer and date\n",
        "df.sort_values(['UserID', 'Datetime'], inplace=True)\n",
        "\n",
        "# Define a function to create sequences for each customer\n",
        "def create_sequences(df, sequence_length):\n",
        "    sequences = []\n",
        "    targets = []\n",
        "    customers = df['UserID'].unique()\n",
        "\n",
        "    for customer in customers:\n",
        "        customer_data = df[df['UserID'] == customer]\n",
        "        for i in range(len(customer_data) - sequence_length):\n",
        "            seq = customer_data.iloc[i:i+sequence_length]  # Sequence of purchases\n",
        "            target = customer_data.iloc[i+sequence_length]  # Next purchase\n",
        "            sequences.append(seq[['Quantity', 'USDPrice']].values)  # Example features\n",
        "            targets.append(target['Quantity'])  # Example target\n",
        "            # Note: Adjust the features and target as per your requirement\n",
        "\n",
        "    return sequences, targets\n",
        "\n",
        "# Define your sequence length\n",
        "sequence_length = 10  # For example, last 10 transactions\n",
        "\n",
        "# Create sequences and targets\n",
        "X, y = create_sequences(df, sequence_length)\n",
        "\n",
        "# Example: Convert X and y into suitable formats for training\n",
        "# Normalize X if needed\n",
        "# X = [MinMaxScaler().fit_transform(seq) for seq in X]\n",
        "\n",
        "# Convert the list of sequences into a numpy array for RNN training\n",
        "# X = np.array(X)\n",
        "\n",
        "# Split data into training and testing sets\n",
        "# X_train, X_test, y_train, y_test = train_test_split(X, y, test_size=0.2, random_state=42)\n"
      ]
    },
    {
      "cell_type": "code",
      "execution_count": null,
      "id": "2bbde43d",
      "metadata": {
        "id": "2bbde43d"
      },
      "outputs": [],
      "source": []
    }
  ],
  "metadata": {
    "kernelspec": {
      "display_name": "Python 3 (ipykernel)",
      "language": "python",
      "name": "python3"
    },
    "language_info": {
      "codemirror_mode": {
        "name": "ipython",
        "version": 3
      },
      "file_extension": ".py",
      "mimetype": "text/x-python",
      "name": "python",
      "nbconvert_exporter": "python",
      "pygments_lexer": "ipython3",
      "version": "3.11.5"
    },
    "colab": {
      "provenance": [],
      "include_colab_link": true
    }
  },
  "nbformat": 4,
  "nbformat_minor": 5
}