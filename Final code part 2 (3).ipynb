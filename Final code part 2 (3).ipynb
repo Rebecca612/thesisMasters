{
 "cells": [
  {
   "cell_type": "code",
   "execution_count": 1,
   "id": "54341781",
   "metadata": {},
   "outputs": [
    {
     "name": "stdout",
     "output_type": "stream",
     "text": [
      "                      Datetime       OrderID     ProductID  Quantity  \\\n",
      "0      2018-12-01 11:40:29 UTC  1.920000e+18  1.840000e+18      12.0   \n",
      "1      2018-12-01 17:38:31 UTC  1.920000e+18  1.810000e+18      36.0   \n",
      "2      2018-12-02 13:53:42 UTC  1.930000e+18  1.840000e+18      12.0   \n",
      "3      2018-12-02 17:44:02 UTC  1.930000e+18  1.840000e+18      12.0   \n",
      "4      2018-12-02 21:30:19 UTC  1.930000e+18  1.870000e+18       6.0   \n",
      "...                        ...           ...           ...       ...   \n",
      "95906  2021-12-01 09:47:37 UTC  2.720000e+18  1.520000e+18       6.0   \n",
      "95907  2021-12-01 09:50:37 UTC  2.720000e+18  1.960000e+18       6.0   \n",
      "95908  2021-12-01 09:52:06 UTC  2.720000e+18  1.960000e+18      12.0   \n",
      "95909  2021-12-01 09:55:35 UTC  2.720000e+18  1.840000e+18      10.0   \n",
      "95910  2021-12-01 09:59:07 UTC  2.720000e+18  1.960000e+18       4.0   \n",
      "\n",
      "         CategoryID      CategoryCode       BrandID    USDPrice        UserID  \\\n",
      "0      1.810000e+18   jewelry.earring  0.000000e+00  561.510000  1.520000e+18   \n",
      "1      1.810000e+18               NaN  8.914580e+16  212.140000  1.520000e+18   \n",
      "2      1.810000e+18   jewelry.pendant  1.000000e+00   54.660000  1.520000e+18   \n",
      "3      1.810000e+18   jewelry.pendant  0.000000e+00   88.900000  1.520000e+18   \n",
      "4      1.810000e+18  jewelry.necklace  0.000000e+00  417.670000  1.520000e+18   \n",
      "...             ...               ...           ...         ...           ...   \n",
      "95906  1.809106e+18                 0  1.520000e+18  362.215217  1.516588e+18   \n",
      "95907  1.810000e+18               NaN  0.000000e+00  229.990000  1.520000e+18   \n",
      "95908  1.810000e+18   jewelry.earring  1.000000e+00  630.000000  1.520000e+18   \n",
      "95909  1.810000e+18   jewelry.earring  0.000000e+00   83.420000  1.520000e+18   \n",
      "95910  1.810000e+18   jewelry.pendant  1.000000e+00   97.120000  1.520000e+18   \n",
      "\n",
      "      Gender   Color Metal       Gem         Country  \n",
      "0        NaN     red  gold   diamond  United Kingdom  \n",
      "1        NaN  yellow  gold       NaN  United Kingdom  \n",
      "2          f   white  gold  sapphire  United Kingdom  \n",
      "3          f     red  gold   diamond  United Kingdom  \n",
      "4        NaN     red  gold  amethyst  United Kingdom  \n",
      "...      ...     ...   ...       ...             ...  \n",
      "95906    NaN     NaN   NaN       NaN  United Kingdom  \n",
      "95907    NaN     red  gold       NaN  United Kingdom  \n",
      "95908      f   white  gold   diamond  United Kingdom  \n",
      "95909    NaN   white  gold    fianit  United Kingdom  \n",
      "95910    NaN     red  gold       NaN  United Kingdom  \n",
      "\n",
      "[95911 rows x 14 columns]\n"
     ]
    }
   ],
   "source": [
    "import pandas as pd\n",
    "import warnings\n",
    "warnings.filterwarnings(\"ignore\")\n",
    "import numpy as np\n",
    "\n",
    "# Define your column names in a list\n",
    "column_names = ['Datetime', 'OrderID', 'ProductID', 'Quantity', 'CategoryID', \n",
    "                'CategoryCode', 'BrandID', 'USDPrice', 'UserID', \n",
    "                'Gender', 'Color', 'Metal', 'Gem','Country']\n",
    "\n",
    "\n",
    "df = pd.read_csv('C:\\\\Users\\\\RebeccaOseiAkoto\\\\e-comjewerly.csv', names=column_names,low_memory=False)\n",
    "# Select only numeric columns for mean calculation\n",
    "numeric_df = df.select_dtypes(include=[np.number])\n",
    "mean = numeric_df.mean()\n",
    "\n",
    "# Fill missing values in numeric columns\n",
    "df.fillna(mean, inplace=True)\n",
    "df.head(10)\n",
    "print(df)"
   ]
  },
  {
   "cell_type": "code",
   "execution_count": 2,
   "id": "a161933b",
   "metadata": {},
   "outputs": [
    {
     "data": {
      "text/plain": [
       "<Axes: xlabel='Gender', ylabel='count'>"
      ]
     },
     "execution_count": 2,
     "metadata": {},
     "output_type": "execute_result"
    },
    {
     "data": {
      "image/png": "[encoded data removed]",
      "text/plain": [
       "<Figure size 640x480 with 1 Axes>"
      ]
     },
     "metadata": {},
     "output_type": "display_data"
    }
   ],
   "source": [
    "import seaborn as sns\n",
    "import matplotlib.pyplot as plt\n",
    "\n",
    "sns.countplot(data = df, x = 'Gender')"
   ]
  },
  {
   "cell_type": "code",
   "execution_count": 3,
   "id": "42bd2763",
   "metadata": {},
   "outputs": [
    {
     "name": "stdout",
     "output_type": "stream",
     "text": [
      "Index(['Datetime', 'OrderID', 'ProductID', 'Quantity', 'CategoryID',\n",
      "       'CategoryCode', 'BrandID', 'USDPrice', 'UserID', 'Gender', 'Color',\n",
      "       'Metal', 'Gem', 'Country'],\n",
      "      dtype='object')\n"
     ]
    }
   ],
   "source": [
    "print(df.columns)"
   ]
  },
  {
   "cell_type": "code",
   "execution_count": 4,
   "id": "b7e8e4a0",
   "metadata": {},
   "outputs": [
    {
     "name": "stdout",
     "output_type": "stream",
     "text": [
      "<class 'pandas.core.frame.DataFrame'>\n",
      "RangeIndex: 95911 entries, 0 to 95910\n",
      "Data columns (total 14 columns):\n",
      " #   Column        Non-Null Count  Dtype  \n",
      "---  ------        --------------  -----  \n",
      " 0   Datetime      95911 non-null  object \n",
      " 1   OrderID       95911 non-null  float64\n",
      " 2   ProductID     95911 non-null  float64\n",
      " 3   Quantity      95911 non-null  float64\n",
      " 4   CategoryID    95911 non-null  float64\n",
      " 5   CategoryCode  85978 non-null  object \n",
      " 6   BrandID       95911 non-null  float64\n",
      " 7   USDPrice      95911 non-null  float64\n",
      " 8   UserID        95911 non-null  float64\n",
      " 9   Gender        95911 non-null  object \n",
      " 10  Color         88251 non-null  object \n",
      " 11  Metal         90449 non-null  object \n",
      " 12  Gem           61853 non-null  object \n",
      " 13  Country       95911 non-null  object \n",
      "dtypes: float64(7), object(7)\n",
      "memory usage: 10.2+ MB\n"
     ]
    }
   ],
   "source": [
    "df.Gender.fillna('f', inplace=True)\n",
    "df.info()\n",
    "df.CategoryCode.fillna('other', inplace=True)\n",
    "df['BrandID'].fillna('-1',inplace=True)\n",
    "df['Gem'].unique()\n",
    "for i in ('Color','Metal','Gem'):\n",
    "  if i == 'Color':\n",
    "    df[i].fillna('unknown-color',inplace=True)\n",
    "  else:\n",
    "    df[i].fillna('unknown',inplace=True)"
   ]
  },
  {
   "cell_type": "code",
   "execution_count": 5,
   "id": "416e714e",
   "metadata": {},
   "outputs": [
    {
     "data": {
      "text/html": [
       "<div>\n",
       "<style scoped>\n",
       "    .dataframe tbody tr th:only-of-type {\n",
       "        vertical-align: middle;\n",
       "    }\n",
       "\n",
       "    .dataframe tbody tr th {\n",
       "        vertical-align: top;\n",
       "    }\n",
       "\n",
       "    .dataframe thead th {\n",
       "        text-align: right;\n",
       "    }\n",
       "</style>\n",
       "<table border=\"1\" class=\"dataframe\">\n",
       "  <thead>\n",
       "    <tr style=\"text-align: right;\">\n",
       "      <th></th>\n",
       "      <th>Recency (Days)</th>\n",
       "      <th>Frequency (orders)</th>\n",
       "      <th>Monetary(USD)</th>\n",
       "    </tr>\n",
       "    <tr>\n",
       "      <th>UserID</th>\n",
       "      <th></th>\n",
       "      <th></th>\n",
       "      <th></th>\n",
       "    </tr>\n",
       "  </thead>\n",
       "  <tbody>\n",
       "    <tr>\n",
       "      <th>1.310000e+18</th>\n",
       "      <td>21</td>\n",
       "      <td>277</td>\n",
       "      <td>102452.13</td>\n",
       "    </tr>\n",
       "    <tr>\n",
       "      <th>1.320000e+18</th>\n",
       "      <td>1</td>\n",
       "      <td>441</td>\n",
       "      <td>153919.99</td>\n",
       "    </tr>\n",
       "    <tr>\n",
       "      <th>1.330000e+18</th>\n",
       "      <td>10</td>\n",
       "      <td>321</td>\n",
       "      <td>120457.90</td>\n",
       "    </tr>\n",
       "    <tr>\n",
       "      <th>1.340000e+18</th>\n",
       "      <td>45</td>\n",
       "      <td>120</td>\n",
       "      <td>48179.17</td>\n",
       "    </tr>\n",
       "    <tr>\n",
       "      <th>1.350000e+18</th>\n",
       "      <td>22</td>\n",
       "      <td>74</td>\n",
       "      <td>19918.57</td>\n",
       "    </tr>\n",
       "  </tbody>\n",
       "</table>\n",
       "</div>"
      ],
      "text/plain": [
       "              Recency (Days)  Frequency (orders)  Monetary(USD)\n",
       "UserID                                                         \n",
       "1.310000e+18              21                 277      102452.13\n",
       "1.320000e+18               1                 441      153919.99\n",
       "1.330000e+18              10                 321      120457.90\n",
       "1.340000e+18              45                 120       48179.17\n",
       "1.350000e+18              22                  74       19918.57"
      ]
     },
     "execution_count": 5,
     "metadata": {},
     "output_type": "execute_result"
    }
   ],
   "source": [
    "from sklearn.preprocessing import StandardScaler\n",
    "from sklearn.cluster import KMeans\n",
    "import datetime as dt\n",
    "\n",
    "\n",
    "# Ensure that 'Datetime' is a datetime object and 'USDPrice' is float\n",
    "df['Datetime'] = pd.to_datetime(df['Datetime'])\n",
    "df['USDPrice'] = df['USDPrice'].astype(float)\n",
    "\n",
    "# Current date for recency calculation (assuming the latest date in the dataset + 1 day)\n",
    "current_date = df['Datetime'].max() + dt.timedelta(days=1)\n",
    "\n",
    "# RFM Calculation\n",
    "rfm = df.groupby('UserID').agg({\n",
    "    'Datetime': lambda x: (current_date - x.max()).days,  # Recency\n",
    "    'OrderID': 'count',                                   # Frequency\n",
    "    'USDPrice': 'sum'                                     # Monetary\n",
    "})\n",
    "\n",
    "# Renaming columns for clarity\n",
    "rfm.columns = ['Recency (Days)', 'Frequency (orders)', 'Monetary(USD)']\n",
    "\n",
    "\n",
    "# Checking the first few rows of the RFM DataFrame\n",
    "rfm.head()\n"
   ]
  },
  {
   "cell_type": "code",
   "execution_count": 56,
   "id": "de88d04c",
   "metadata": {},
   "outputs": [
    {
     "data": {
      "text/plain": [
       "(   Cluster  Recency (Days)  Frequency (orders)  Monetary(USD)\n",
       " 0        0       16.133333              532.60   1.946762e+05\n",
       " 1        1        1.000000            87630.00   3.172226e+07\n",
       " 2        2      125.000000               63.00   1.722036e+04\n",
       " 3        3      401.000000              103.00   4.636014e+04\n",
       " 4  Overall       50.950000             4795.55   1.737021e+06,\n",
       "               Recency (Days)  Frequency (orders)  Monetary(USD)\n",
       " UserID                                                         \n",
       " 1.310000e+18       -0.322639           -0.231342      -0.231185\n",
       " 1.320000e+18       -0.538090           -0.222945      -0.223906\n",
       " 1.330000e+18       -0.441137           -0.229089      -0.228638\n",
       " 1.340000e+18       -0.064097           -0.239380      -0.238861\n",
       " 1.350000e+18       -0.311866           -0.241735      -0.242858)"
      ]
     },
     "execution_count": 56,
     "metadata": {},
     "output_type": "execute_result"
    }
   ],
   "source": [
    "from sklearn.cluster import KMeans\n",
    "import numpy as np\n",
    "\n",
    "# Calculating the average scores for Recency, Frequency, and Monetary\n",
    "rfm_avg = rfm.mean()\n",
    "\n",
    "# Normalizing the RFM data\n",
    "rfm_normalized = (rfm - rfm.mean()) / rfm.std()\n",
    "\n",
    "# Using KMeans to cluster the data\n",
    "kmeans = KMeans(n_clusters=4, random_state=1)\n",
    "rfm['Cluster'] = kmeans.fit_predict(rfm_normalized)\n",
    "\n",
    "# Calculating the average values for each cluster\n",
    "cluster_avg = rfm.groupby('Cluster').mean()\n",
    "\n",
    "# Combining overall averages with cluster averages\n",
    "combined_avg = cluster_avg.copy()\n",
    "combined_avg.loc['Overall'] = rfm_avg\n",
    "\n",
    "combined_avg.reset_index(inplace=True)\n",
    "\n",
    "combined_avg, rfm_normalized.head()\n"
   ]
  },
  {
   "cell_type": "code",
   "execution_count": 63,
   "id": "302edbb8",
   "metadata": {},
   "outputs": [
    {
     "data": {
      "application/vnd.plotly.v1+json": {
       "config": {
        "plotlyServerURL": "https://plot.ly"
       },
       "data": [
        {
         "marker": {
          "color": [
           "yellow",
           "yellow",
           "yellow",
           "yellow",
           "yellow",
           "yellow",
           "yellow",
           "yellow",
           "yellow",
           "yellow",
           "yellow",
           "yellow",
           "yellow",
           "yellow",
           "yellow",
           "yellow",
           "green",
           "yellow",
           "red",
           "yellow"
          ],
          "opacity": 0.8,
          "size": 5
         },
         "mode": "markers",
         "text": [
          1310000000000000000,
          1320000000000000000,
          1330000000000000000,
          1340000000000000000,
          1350000000000000000,
          1360000000000000000,
          1370000000000000000,
          1380000000000000000,
          1450000000000000000,
          1460000000000000000,
          1470000000000000000,
          1480000000000000000,
          1490000000000000000,
          1500000000000000000,
          1510000000000000000,
          1516587970273523500,
          1520000000000000000,
          1530000000000000000,
          1540000000000000000,
          1550000000000000000
         ],
         "type": "scatter3d",
         "x": [
          21,
          1,
          10,
          45,
          22,
          110,
          8,
          42,
          3,
          1,
          42,
          128,
          2,
          20,
          137,
          1,
          1,
          23,
          401,
          1
         ],
         "y": [
          277,
          441,
          321,
          120,
          74,
          37,
          114,
          16,
          200,
          374,
          162,
          87,
          87,
          80,
          65,
          5352,
          87630,
          125,
          103,
          246
         ],
         "z": [
          102452.13,
          153919.99,
          120457.9,
          48179.17,
          19918.57,
          9662.36,
          40287.62,
          4630.32,
          76994.1,
          136653.27,
          62600.41,
          24081.69,
          34569.03,
          22546.58,
          17917.04,
          1938575.8439664748,
          31722259.4,
          34603.85,
          46360.14,
          123754.31
         ]
        }
       ],
       "layout": {
        "margin": {
         "b": 0,
         "l": 0,
         "r": 0,
         "t": 0
        },
        "scene": {
         "xaxis": {
          "title": {
           "text": "Recency"
          }
         },
         "yaxis": {
          "title": {
           "text": "Frequency"
          }
         },
         "zaxis": {
          "title": {
           "text": "Monetary"
          }
         }
        },
        "template": {
         "data": {
          "bar": [
           {
            "error_x": {
             "color": "#2a3f5f"
            },
            "error_y": {
             "color": "#2a3f5f"
            },
            "marker": {
             "line": {
              "color": "#E5ECF6",
              "width": 0.5
             },
             "pattern": {
              "fillmode": "overlay",
              "size": 10,
              "solidity": 0.2
             }
            },
            "type": "bar"
           }
          ],
          "barpolar": [
           {
            "marker": {
             "line": {
              "color": "#E5ECF6",
              "width": 0.5
             },
             "pattern": {
              "fillmode": "overlay",
              "size": 10,
              "solidity": 0.2
             }
            },
            "type": "barpolar"
           }
          ],
          "carpet": [
           {
            "aaxis": {
             "endlinecolor": "#2a3f5f",
             "gridcolor": "white",
             "linecolor": "white",
             "minorgridcolor": "white",
             "startlinecolor": "#2a3f5f"
            },
            "baxis": {
             "endlinecolor": "#2a3f5f",
             "gridcolor": "white",
             "linecolor": "white",
             "minorgridcolor": "white",
             "startlinecolor": "#2a3f5f"
            },
            "type": "carpet"
           }
          ],
          "choropleth": [
           {
            "colorbar": {
             "outlinewidth": 0,
             "ticks": ""
            },
            "type": "choropleth"
           }
          ],
          "contour": [
           {
            "colorbar": {
             "outlinewidth": 0,
             "ticks": ""
            },
            "colorscale": [
             [
              0,
              "#0d0887"
             ],
             [
              0.1111111111111111,
              "#46039f"
             ],
             [
              0.2222222222222222,
              "#7201a8"
             ],
             [
              0.3333333333333333,
              "#9c179e"
             ],
             [
              0.4444444444444444,
              "#bd3786"
             ],
             [
              0.5555555555555556,
              "#d8576b"
             ],
             [
              0.6666666666666666,
              "#ed7953"
             ],
             [
              0.7777777777777778,
              "#fb9f3a"
             ],
             [
              0.8888888888888888,
              "#fdca26"
             ],
             [
              1,
              "#f0f921"
             ]
            ],
            "type": "contour"
           }
          ],
          "contourcarpet": [
           {
            "colorbar": {
             "outlinewidth": 0,
             "ticks": ""
            },
            "type": "contourcarpet"
           }
          ],
          "heatmap": [
           {
            "colorbar": {
             "outlinewidth": 0,
             "ticks": ""
            },
            "colorscale": [
             [
              0,
              "#0d0887"
             ],
             [
              0.1111111111111111,
              "#46039f"
             ],
             [
              0.2222222222222222,
              "#7201a8"
             ],
             [
              0.3333333333333333,
              "#9c179e"
             ],
             [
              0.4444444444444444,
              "#bd3786"
             ],
             [
              0.5555555555555556,
              "#d8576b"
             ],
             [
              0.6666666666666666,
              "#ed7953"
             ],
             [
              0.7777777777777778,
              "#fb9f3a"
             ],
             [
              0.8888888888888888,
              "#fdca26"
             ],
             [
              1,
              "#f0f921"
             ]
            ],
            "type": "heatmap"
           }
          ],
          "heatmapgl": [
           {
            "colorbar": {
             "outlinewidth": 0,
             "ticks": ""
            },
            "colorscale": [
             [
              0,
              "#0d0887"
             ],
             [
              0.1111111111111111,
              "#46039f"
             ],
             [
              0.2222222222222222,
              "#7201a8"
             ],
             [
              0.3333333333333333,
              "#9c179e"
             ],
             [
              0.4444444444444444,
              "#bd3786"
             ],
             [
              0.5555555555555556,
              "#d8576b"
             ],
             [
              0.6666666666666666,
              "#ed7953"
             ],
             [
              0.7777777777777778,
              "#fb9f3a"
             ],
             [
              0.8888888888888888,
              "#fdca26"
             ],
             [
              1,
              "#f0f921"
             ]
            ],
            "type": "heatmapgl"
           }
          ],
          "histogram": [
           {
            "marker": {
             "pattern": {
              "fillmode": "overlay",
              "size": 10,
              "solidity": 0.2
             }
            },
            "type": "histogram"
           }
          ],
          "histogram2d": [
           {
            "colorbar": {
             "outlinewidth": 0,
             "ticks": ""
            },
            "colorscale": [
             [
              0,
              "#0d0887"
             ],
             [
              0.1111111111111111,
              "#46039f"
             ],
             [
              0.2222222222222222,
              "#7201a8"
             ],
             [
              0.3333333333333333,
              "#9c179e"
             ],
             [
              0.4444444444444444,
              "#bd3786"
             ],
             [
              0.5555555555555556,
              "#d8576b"
             ],
             [
              0.6666666666666666,
              "#ed7953"
             ],
             [
              0.7777777777777778,
              "#fb9f3a"
             ],
             [
              0.8888888888888888,
              "#fdca26"
             ],
             [
              1,
              "#f0f921"
             ]
            ],
            "type": "histogram2d"
           }
          ],
          "histogram2dcontour": [
           {
            "colorbar": {
             "outlinewidth": 0,
             "ticks": ""
            },
            "colorscale": [
             [
              0,
              "#0d0887"
             ],
             [
              0.1111111111111111,
              "#46039f"
             ],
             [
              0.2222222222222222,
              "#7201a8"
             ],
             [
              0.3333333333333333,
              "#9c179e"
             ],
             [
              0.4444444444444444,
              "#bd3786"
             ],
             [
              0.5555555555555556,
              "#d8576b"
             ],
             [
              0.6666666666666666,
              "#ed7953"
             ],
             [
              0.7777777777777778,
              "#fb9f3a"
             ],
             [
              0.8888888888888888,
              "#fdca26"
             ],
             [
              1,
              "#f0f921"
             ]
            ],
            "type": "histogram2dcontour"
           }
          ],
          "mesh3d": [
           {
            "colorbar": {
             "outlinewidth": 0,
             "ticks": ""
            },
            "type": "mesh3d"
           }
          ],
          "parcoords": [
           {
            "line": {
             "colorbar": {
              "outlinewidth": 0,
              "ticks": ""
             }
            },
            "type": "parcoords"
           }
          ],
          "pie": [
           {
            "automargin": true,
            "type": "pie"
           }
          ],
          "scatter": [
           {
            "fillpattern": {
             "fillmode": "overlay",
             "size": 10,
             "solidity": 0.2
            },
            "type": "scatter"
           }
          ],
          "scatter3d": [
           {
            "line": {
             "colorbar": {
              "outlinewidth": 0,
              "ticks": ""
             }
            },
            "marker": {
             "colorbar": {
              "outlinewidth": 0,
              "ticks": ""
             }
            },
            "type": "scatter3d"
           }
          ],
          "scattercarpet": [
           {
            "marker": {
             "colorbar": {
              "outlinewidth": 0,
              "ticks": ""
             }
            },
            "type": "scattercarpet"
           }
          ],
          "scattergeo": [
           {
            "marker": {
             "colorbar": {
              "outlinewidth": 0,
              "ticks": ""
             }
            },
            "type": "scattergeo"
           }
          ],
          "scattergl": [
           {
            "marker": {
             "colorbar": {
              "outlinewidth": 0,
              "ticks": ""
             }
            },
            "type": "scattergl"
           }
          ],
          "scattermapbox": [
           {
            "marker": {
             "colorbar": {
              "outlinewidth": 0,
              "ticks": ""
             }
            },
            "type": "scattermapbox"
           }
          ],
          "scatterpolar": [
           {
            "marker": {
             "colorbar": {
              "outlinewidth": 0,
              "ticks": ""
             }
            },
            "type": "scatterpolar"
           }
          ],
          "scatterpolargl": [
           {
            "marker": {
             "colorbar": {
              "outlinewidth": 0,
              "ticks": ""
             }
            },
            "type": "scatterpolargl"
           }
          ],
          "scatterternary": [
           {
            "marker": {
             "colorbar": {
              "outlinewidth": 0,
              "ticks": ""
             }
            },
            "type": "scatterternary"
           }
          ],
          "surface": [
           {
            "colorbar": {
             "outlinewidth": 0,
             "ticks": ""
            },
            "colorscale": [
             [
              0,
              "#0d0887"
             ],
             [
              0.1111111111111111,
              "#46039f"
             ],
             [
              0.2222222222222222,
              "#7201a8"
             ],
             [
              0.3333333333333333,
              "#9c179e"
             ],
             [
              0.4444444444444444,
              "#bd3786"
             ],
             [
              0.5555555555555556,
              "#d8576b"
             ],
             [
              0.6666666666666666,
              "#ed7953"
             ],
             [
              0.7777777777777778,
              "#fb9f3a"
             ],
             [
              0.8888888888888888,
              "#fdca26"
             ],
             [
              1,
              "#f0f921"
             ]
            ],
            "type": "surface"
           }
          ],
          "table": [
           {
            "cells": {
             "fill": {
              "color": "#EBF0F8"
             },
             "line": {
              "color": "white"
             }
            },
            "header": {
             "fill": {
              "color": "#C8D4E3"
             },
             "line": {
              "color": "white"
             }
            },
            "type": "table"
           }
          ]
         },
         "layout": {
          "annotationdefaults": {
           "arrowcolor": "#2a3f5f",
           "arrowhead": 0,
           "arrowwidth": 1
          },
          "autotypenumbers": "strict",
          "coloraxis": {
           "colorbar": {
            "outlinewidth": 0,
            "ticks": ""
           }
          },
          "colorscale": {
           "diverging": [
            [
             0,
             "#8e0152"
            ],
            [
             0.1,
             "#c51b7d"
            ],
            [
             0.2,
             "#de77ae"
            ],
            [
             0.3,
             "#f1b6da"
            ],
            [
             0.4,
             "#fde0ef"
            ],
            [
             0.5,
             "#f7f7f7"
            ],
            [
             0.6,
             "#e6f5d0"
            ],
            [
             0.7,
             "#b8e186"
            ],
            [
             0.8,
             "#7fbc41"
            ],
            [
             0.9,
             "#4d9221"
            ],
            [
             1,
             "#276419"
            ]
           ],
           "sequential": [
            [
             0,
             "#0d0887"
            ],
            [
             0.1111111111111111,
             "#46039f"
            ],
            [
             0.2222222222222222,
             "#7201a8"
            ],
            [
             0.3333333333333333,
             "#9c179e"
            ],
            [
             0.4444444444444444,
             "#bd3786"
            ],
            [
             0.5555555555555556,
             "#d8576b"
            ],
            [
             0.6666666666666666,
             "#ed7953"
            ],
            [
             0.7777777777777778,
             "#fb9f3a"
            ],
            [
             0.8888888888888888,
             "#fdca26"
            ],
            [
             1,
             "#f0f921"
            ]
           ],
           "sequentialminus": [
            [
             0,
             "#0d0887"
            ],
            [
             0.1111111111111111,
             "#46039f"
            ],
            [
             0.2222222222222222,
             "#7201a8"
            ],
            [
             0.3333333333333333,
             "#9c179e"
            ],
            [
             0.4444444444444444,
             "#bd3786"
            ],
            [
             0.5555555555555556,
             "#d8576b"
            ],
            [
             0.6666666666666666,
             "#ed7953"
            ],
            [
             0.7777777777777778,
             "#fb9f3a"
            ],
            [
             0.8888888888888888,
             "#fdca26"
            ],
            [
             1,
             "#f0f921"
            ]
           ]
          },
          "colorway": [
           "#636efa",
           "#EF553B",
           "#00cc96",
           "#ab63fa",
           "#FFA15A",
           "#19d3f3",
           "#FF6692",
           "#B6E880",
           "#FF97FF",
           "#FECB52"
          ],
          "font": {
           "color": "#2a3f5f"
          },
          "geo": {
           "bgcolor": "white",
           "lakecolor": "white",
           "landcolor": "#E5ECF6",
           "showlakes": true,
           "showland": true,
           "subunitcolor": "white"
          },
          "hoverlabel": {
           "align": "left"
          },
          "hovermode": "closest",
          "mapbox": {
           "style": "light"
          },
          "paper_bgcolor": "white",
          "plot_bgcolor": "#E5ECF6",
          "polar": {
           "angularaxis": {
            "gridcolor": "white",
            "linecolor": "white",
            "ticks": ""
           },
           "bgcolor": "#E5ECF6",
           "radialaxis": {
            "gridcolor": "white",
            "linecolor": "white",
            "ticks": ""
           }
          },
          "scene": {
           "xaxis": {
            "backgroundcolor": "#E5ECF6",
            "gridcolor": "white",
            "gridwidth": 2,
            "linecolor": "white",
            "showbackground": true,
            "ticks": "",
            "zerolinecolor": "white"
           },
           "yaxis": {
            "backgroundcolor": "#E5ECF6",
            "gridcolor": "white",
            "gridwidth": 2,
            "linecolor": "white",
            "showbackground": true,
            "ticks": "",
            "zerolinecolor": "white"
           },
           "zaxis": {
            "backgroundcolor": "#E5ECF6",
            "gridcolor": "white",
            "gridwidth": 2,
            "linecolor": "white",
            "showbackground": true,
            "ticks": "",
            "zerolinecolor": "white"
           }
          },
          "shapedefaults": {
           "line": {
            "color": "#2a3f5f"
           }
          },
          "ternary": {
           "aaxis": {
            "gridcolor": "white",
            "linecolor": "white",
            "ticks": ""
           },
           "baxis": {
            "gridcolor": "white",
            "linecolor": "white",
            "ticks": ""
           },
           "bgcolor": "#E5ECF6",
           "caxis": {
            "gridcolor": "white",
            "linecolor": "white",
            "ticks": ""
           }
          },
          "title": {
           "x": 0.05
          },
          "xaxis": {
           "automargin": true,
           "gridcolor": "white",
           "linecolor": "white",
           "ticks": "",
           "title": {
            "standoff": 15
           },
           "zerolinecolor": "white",
           "zerolinewidth": 2
          },
          "yaxis": {
           "automargin": true,
           "gridcolor": "white",
           "linecolor": "white",
           "ticks": "",
           "title": {
            "standoff": 15
           },
           "zerolinecolor": "white",
           "zerolinewidth": 2
          }
         }
        },
        "title": {
         "text": "RFM Segmentation with Top, Medium, and Low Segments"
        }
       }
      },
      "text/html": [
       "<div>                            <div id=\"b7b6ca90-1345-4eba-aca3-c5e92d1794c8\" class=\"plotly-graph-div\" style=\"height:525px; width:100%;\"></div>            <script type=\"text/javascript\">                require([\"plotly\"], function(Plotly) {                    window.PLOTLYENV=window.PLOTLYENV || {};                                    if (document.getElementById(\"b7b6ca90-1345-4eba-aca3-c5e92d1794c8\")) {                    Plotly.newPlot(                        \"b7b6ca90-1345-4eba-aca3-c5e92d1794c8\",                        [{\"marker\":{\"color\":[\"yellow\",\"yellow\",\"yellow\",\"yellow\",\"yellow\",\"yellow\",\"yellow\",\"yellow\",\"yellow\",\"yellow\",\"yellow\",\"yellow\",\"yellow\",\"yellow\",\"yellow\",\"yellow\",\"green\",\"yellow\",\"red\",\"yellow\"],\"opacity\":0.8,\"size\":5},\"mode\":\"markers\",\"text\":[1.31e+18,1.32e+18,1.33e+18,1.34e+18,1.35e+18,1.36e+18,1.37e+18,1.38e+18,1.45e+18,1.46e+18,1.47e+18,1.48e+18,1.49e+18,1.5e+18,1.51e+18,1.5165879702735235e+18,1.52e+18,1.53e+18,1.54e+18,1.55e+18],\"x\":[21,1,10,45,22,110,8,42,3,1,42,128,2,20,137,1,1,23,401,1],\"y\":[277,441,321,120,74,37,114,16,200,374,162,87,87,80,65,5352,87630,125,103,246],\"z\":[102452.13,153919.99,120457.9,48179.17,19918.57,9662.36,40287.62,4630.32,76994.1,136653.27,62600.41,24081.69,34569.03,22546.58,17917.04,1938575.8439664748,31722259.4,34603.85,46360.14,123754.31],\"type\":\"scatter3d\"}],                        {\"template\":{\"data\":{\"histogram2dcontour\":[{\"type\":\"histogram2dcontour\",\"colorbar\":{\"outlinewidth\":0,\"ticks\":\"\"},\"colorscale\":[[0.0,\"#0d0887\"],[0.1111111111111111,\"#46039f\"],[0.2222222222222222,\"#7201a8\"],[0.3333333333333333,\"#9c179e\"],[0.4444444444444444,\"#bd3786\"],[0.5555555555555556,\"#d8576b\"],[0.6666666666666666,\"#ed7953\"],[0.7777777777777778,\"#fb9f3a\"],[0.8888888888888888,\"#fdca26\"],[1.0,\"#f0f921\"]]}],\"choropleth\":[{\"type\":\"choropleth\",\"colorbar\":{\"outlinewidth\":0,\"ticks\":\"\"}}],\"histogram2d\":[{\"type\":\"histogram2d\",\"colorbar\":{\"outlinewidth\":0,\"ticks\":\"\"},\"colorscale\":[[0.0,\"#0d0887\"],[0.1111111111111111,\"#46039f\"],[0.2222222222222222,\"#7201a8\"],[0.3333333333333333,\"#9c179e\"],[0.4444444444444444,\"#bd3786\"],[0.5555555555555556,\"#d8576b\"],[0.6666666666666666,\"#ed7953\"],[0.7777777777777778,\"#fb9f3a\"],[0.8888888888888888,\"#fdca26\"],[1.0,\"#f0f921\"]]}],\"heatmap\":[{\"type\":\"heatmap\",\"colorbar\":{\"outlinewidth\":0,\"ticks\":\"\"},\"colorscale\":[[0.0,\"#0d0887\"],[0.1111111111111111,\"#46039f\"],[0.2222222222222222,\"#7201a8\"],[0.3333333333333333,\"#9c179e\"],[0.4444444444444444,\"#bd3786\"],[0.5555555555555556,\"#d8576b\"],[0.6666666666666666,\"#ed7953\"],[0.7777777777777778,\"#fb9f3a\"],[0.8888888888888888,\"#fdca26\"],[1.0,\"#f0f921\"]]}],\"heatmapgl\":[{\"type\":\"heatmapgl\",\"colorbar\":{\"outlinewidth\":0,\"ticks\":\"\"},\"colorscale\":[[0.0,\"#0d0887\"],[0.1111111111111111,\"#46039f\"],[0.2222222222222222,\"#7201a8\"],[0.3333333333333333,\"#9c179e\"],[0.4444444444444444,\"#bd3786\"],[0.5555555555555556,\"#d8576b\"],[0.6666666666666666,\"#ed7953\"],[0.7777777777777778,\"#fb9f3a\"],[0.8888888888888888,\"#fdca26\"],[1.0,\"#f0f921\"]]}],\"contourcarpet\":[{\"type\":\"contourcarpet\",\"colorbar\":{\"outlinewidth\":0,\"ticks\":\"\"}}],\"contour\":[{\"type\":\"contour\",\"colorbar\":{\"outlinewidth\":0,\"ticks\":\"\"},\"colorscale\":[[0.0,\"#0d0887\"],[0.1111111111111111,\"#46039f\"],[0.2222222222222222,\"#7201a8\"],[0.3333333333333333,\"#9c179e\"],[0.4444444444444444,\"#bd3786\"],[0.5555555555555556,\"#d8576b\"],[0.6666666666666666,\"#ed7953\"],[0.7777777777777778,\"#fb9f3a\"],[0.8888888888888888,\"#fdca26\"],[1.0,\"#f0f921\"]]}],\"surface\":[{\"type\":\"surface\",\"colorbar\":{\"outlinewidth\":0,\"ticks\":\"\"},\"colorscale\":[[0.0,\"#0d0887\"],[0.1111111111111111,\"#46039f\"],[0.2222222222222222,\"#7201a8\"],[0.3333333333333333,\"#9c179e\"],[0.4444444444444444,\"#bd3786\"],[0.5555555555555556,\"#d8576b\"],[0.6666666666666666,\"#ed7953\"],[0.7777777777777778,\"#fb9f3a\"],[0.8888888888888888,\"#fdca26\"],[1.0,\"#f0f921\"]]}],\"mesh3d\":[{\"type\":\"mesh3d\",\"colorbar\":{\"outlinewidth\":0,\"ticks\":\"\"}}],\"scatter\":[{\"fillpattern\":{\"fillmode\":\"overlay\",\"size\":10,\"solidity\":0.2},\"type\":\"scatter\"}],\"parcoords\":[{\"type\":\"parcoords\",\"line\":{\"colorbar\":{\"outlinewidth\":0,\"ticks\":\"\"}}}],\"scatterpolargl\":[{\"type\":\"scatterpolargl\",\"marker\":{\"colorbar\":{\"outlinewidth\":0,\"ticks\":\"\"}}}],\"bar\":[{\"error_x\":{\"color\":\"#2a3f5f\"},\"error_y\":{\"color\":\"#2a3f5f\"},\"marker\":{\"line\":{\"color\":\"#E5ECF6\",\"width\":0.5},\"pattern\":{\"fillmode\":\"overlay\",\"size\":10,\"solidity\":0.2}},\"type\":\"bar\"}],\"scattergeo\":[{\"type\":\"scattergeo\",\"marker\":{\"colorbar\":{\"outlinewidth\":0,\"ticks\":\"\"}}}],\"scatterpolar\":[{\"type\":\"scatterpolar\",\"marker\":{\"colorbar\":{\"outlinewidth\":0,\"ticks\":\"\"}}}],\"histogram\":[{\"marker\":{\"pattern\":{\"fillmode\":\"overlay\",\"size\":10,\"solidity\":0.2}},\"type\":\"histogram\"}],\"scattergl\":[{\"type\":\"scattergl\",\"marker\":{\"colorbar\":{\"outlinewidth\":0,\"ticks\":\"\"}}}],\"scatter3d\":[{\"type\":\"scatter3d\",\"line\":{\"colorbar\":{\"outlinewidth\":0,\"ticks\":\"\"}},\"marker\":{\"colorbar\":{\"outlinewidth\":0,\"ticks\":\"\"}}}],\"scattermapbox\":[{\"type\":\"scattermapbox\",\"marker\":{\"colorbar\":{\"outlinewidth\":0,\"ticks\":\"\"}}}],\"scatterternary\":[{\"type\":\"scatterternary\",\"marker\":{\"colorbar\":{\"outlinewidth\":0,\"ticks\":\"\"}}}],\"scattercarpet\":[{\"type\":\"scattercarpet\",\"marker\":{\"colorbar\":{\"outlinewidth\":0,\"ticks\":\"\"}}}],\"carpet\":[{\"aaxis\":{\"endlinecolor\":\"#2a3f5f\",\"gridcolor\":\"white\",\"linecolor\":\"white\",\"minorgridcolor\":\"white\",\"startlinecolor\":\"#2a3f5f\"},\"baxis\":{\"endlinecolor\":\"#2a3f5f\",\"gridcolor\":\"white\",\"linecolor\":\"white\",\"minorgridcolor\":\"white\",\"startlinecolor\":\"#2a3f5f\"},\"type\":\"carpet\"}],\"table\":[{\"cells\":{\"fill\":{\"color\":\"#EBF0F8\"},\"line\":{\"color\":\"white\"}},\"header\":{\"fill\":{\"color\":\"#C8D4E3\"},\"line\":{\"color\":\"white\"}},\"type\":\"table\"}],\"barpolar\":[{\"marker\":{\"line\":{\"color\":\"#E5ECF6\",\"width\":0.5},\"pattern\":{\"fillmode\":\"overlay\",\"size\":10,\"solidity\":0.2}},\"type\":\"barpolar\"}],\"pie\":[{\"automargin\":true,\"type\":\"pie\"}]},\"layout\":{\"autotypenumbers\":\"strict\",\"colorway\":[\"#636efa\",\"#EF553B\",\"#00cc96\",\"#ab63fa\",\"#FFA15A\",\"#19d3f3\",\"#FF6692\",\"#B6E880\",\"#FF97FF\",\"#FECB52\"],\"font\":{\"color\":\"#2a3f5f\"},\"hovermode\":\"closest\",\"hoverlabel\":{\"align\":\"left\"},\"paper_bgcolor\":\"white\",\"plot_bgcolor\":\"#E5ECF6\",\"polar\":{\"bgcolor\":\"#E5ECF6\",\"angularaxis\":{\"gridcolor\":\"white\",\"linecolor\":\"white\",\"ticks\":\"\"},\"radialaxis\":{\"gridcolor\":\"white\",\"linecolor\":\"white\",\"ticks\":\"\"}},\"ternary\":{\"bgcolor\":\"#E5ECF6\",\"aaxis\":{\"gridcolor\":\"white\",\"linecolor\":\"white\",\"ticks\":\"\"},\"baxis\":{\"gridcolor\":\"white\",\"linecolor\":\"white\",\"ticks\":\"\"},\"caxis\":{\"gridcolor\":\"white\",\"linecolor\":\"white\",\"ticks\":\"\"}},\"coloraxis\":{\"colorbar\":{\"outlinewidth\":0,\"ticks\":\"\"}},\"colorscale\":{\"sequential\":[[0.0,\"#0d0887\"],[0.1111111111111111,\"#46039f\"],[0.2222222222222222,\"#7201a8\"],[0.3333333333333333,\"#9c179e\"],[0.4444444444444444,\"#bd3786\"],[0.5555555555555556,\"#d8576b\"],[0.6666666666666666,\"#ed7953\"],[0.7777777777777778,\"#fb9f3a\"],[0.8888888888888888,\"#fdca26\"],[1.0,\"#f0f921\"]],\"sequentialminus\":[[0.0,\"#0d0887\"],[0.1111111111111111,\"#46039f\"],[0.2222222222222222,\"#7201a8\"],[0.3333333333333333,\"#9c179e\"],[0.4444444444444444,\"#bd3786\"],[0.5555555555555556,\"#d8576b\"],[0.6666666666666666,\"#ed7953\"],[0.7777777777777778,\"#fb9f3a\"],[0.8888888888888888,\"#fdca26\"],[1.0,\"#f0f921\"]],\"diverging\":[[0,\"#8e0152\"],[0.1,\"#c51b7d\"],[0.2,\"#de77ae\"],[0.3,\"#f1b6da\"],[0.4,\"#fde0ef\"],[0.5,\"#f7f7f7\"],[0.6,\"#e6f5d0\"],[0.7,\"#b8e186\"],[0.8,\"#7fbc41\"],[0.9,\"#4d9221\"],[1,\"#276419\"]]},\"xaxis\":{\"gridcolor\":\"white\",\"linecolor\":\"white\",\"ticks\":\"\",\"title\":{\"standoff\":15},\"zerolinecolor\":\"white\",\"automargin\":true,\"zerolinewidth\":2},\"yaxis\":{\"gridcolor\":\"white\",\"linecolor\":\"white\",\"ticks\":\"\",\"title\":{\"standoff\":15},\"zerolinecolor\":\"white\",\"automargin\":true,\"zerolinewidth\":2},\"scene\":{\"xaxis\":{\"backgroundcolor\":\"#E5ECF6\",\"gridcolor\":\"white\",\"linecolor\":\"white\",\"showbackground\":true,\"ticks\":\"\",\"zerolinecolor\":\"white\",\"gridwidth\":2},\"yaxis\":{\"backgroundcolor\":\"#E5ECF6\",\"gridcolor\":\"white\",\"linecolor\":\"white\",\"showbackground\":true,\"ticks\":\"\",\"zerolinecolor\":\"white\",\"gridwidth\":2},\"zaxis\":{\"backgroundcolor\":\"#E5ECF6\",\"gridcolor\":\"white\",\"linecolor\":\"white\",\"showbackground\":true,\"ticks\":\"\",\"zerolinecolor\":\"white\",\"gridwidth\":2}},\"shapedefaults\":{\"line\":{\"color\":\"#2a3f5f\"}},\"annotationdefaults\":{\"arrowcolor\":\"#2a3f5f\",\"arrowhead\":0,\"arrowwidth\":1},\"geo\":{\"bgcolor\":\"white\",\"landcolor\":\"#E5ECF6\",\"subunitcolor\":\"white\",\"showland\":true,\"showlakes\":true,\"lakecolor\":\"white\"},\"title\":{\"x\":0.05},\"mapbox\":{\"style\":\"light\"}}},\"margin\":{\"l\":0,\"r\":0,\"b\":0,\"t\":0},\"title\":{\"text\":\"RFM Segmentation with Top, Medium, and Low Segments\"},\"scene\":{\"xaxis\":{\"title\":{\"text\":\"Recency\"}},\"yaxis\":{\"title\":{\"text\":\"Frequency\"}},\"zaxis\":{\"title\":{\"text\":\"Monetary\"}}}},                        {\"responsive\": true}                    ).then(function(){\n",
       "                            \n",
       "var gd = document.getElementById('b7b6ca90-1345-4eba-aca3-c5e92d1794c8');\n",
       "var x = new MutationObserver(function (mutations, observer) {{\n",
       "        var display = window.getComputedStyle(gd).display;\n",
       "        if (!display || display === 'none') {{\n",
       "            console.log([gd, 'removed!']);\n",
       "            Plotly.purge(gd);\n",
       "            observer.disconnect();\n",
       "        }}\n",
       "}});\n",
       "\n",
       "// Listen for the removal of the full notebook cells\n",
       "var notebookContainer = gd.closest('#notebook-container');\n",
       "if (notebookContainer) {{\n",
       "    x.observe(notebookContainer, {childList: true});\n",
       "}}\n",
       "\n",
       "// Listen for the clearing of the current output cell\n",
       "var outputEl = gd.closest('.output');\n",
       "if (outputEl) {{\n",
       "    x.observe(outputEl, {childList: true});\n",
       "}}\n",
       "\n",
       "                        })                };                });            </script>        </div>"
      ]
     },
     "metadata": {},
     "output_type": "display_data"
    }
   ],
   "source": [
    "import plotly.graph_objects as go\n",
    "from sklearn.cluster import KMeans\n",
    "from sklearn.preprocessing import StandardScaler\n",
    "from sklearn.cluster import KMeans\n",
    "# Scaling the RFM data\n",
    "scaler = StandardScaler()\n",
    "rfm_scaled = scaler.fit_transform(rfm[['Recency (Days)', 'Frequency (orders)', 'Monetary(USD)']])\n",
    "\n",
    "# Assume you have determined the number of clusters to be 3 for 'top', 'medium', and 'low' segments\n",
    "kmeans = KMeans(n_clusters=3, random_state=42)\n",
    "rfm['Cluster'] = kmeans.fit_predict(rfm_scaled)\n",
    "\n",
    "# Analyze the centroids to label the segments\n",
    "centroids = kmeans.cluster_centers_\n",
    "# Sort the centroids by Monetary value (or another criterion you deem important for segmentation)\n",
    "sorted_idx = centroids[:, 2].argsort()\n",
    "\n",
    "# Assign segment labels based on the sorted index\n",
    "segment_labels = {sorted_idx[0]: 'Low', sorted_idx[1]: 'Medium', sorted_idx[2]: 'Top'}\n",
    "rfm['Segment'] = rfm['Cluster'].map(segment_labels)\n",
    "\n",
    "# You can now use the 'Segment' column in your plot or further analysis\n",
    "\n",
    "fig = go.Figure(data=[go.Scatter3d(\n",
    "    x=rfm['Recency (Days)'],\n",
    "    y=rfm['Frequency (orders)'],\n",
    "    z=rfm['Monetary(USD)'],\n",
    "    mode='markers',\n",
    "    marker=dict(\n",
    "        size=5,\n",
    "        color=rfm['Segment'].map({'Top': 'green', 'Medium': 'yellow', 'Low': 'red'}),  # color by segment\n",
    "        opacity=0.8\n",
    "    ),\n",
    "    text=rfm.index  # UserIDs as hover text\n",
    ")])\n",
    "\n",
    "# Setting the layout for the 3D plot\n",
    "fig.update_layout(\n",
    "    title=\"RFM Segmentation with Top, Medium, and Low Segments\",\n",
    "    scene=dict(\n",
    "        xaxis_title='Recency',\n",
    "        yaxis_title='Frequency',\n",
    "        zaxis_title='Monetary'\n",
    "    ),\n",
    "    margin=dict(l=0, r=0, b=0, t=0)  # tight layout\n",
    ")\n",
    "\n",
    "# Showing the figure\n",
    "fig.show()"
   ]
  },
  {
   "cell_type": "code",
   "execution_count": 17,
   "id": "7fa8dde3",
   "metadata": {},
   "outputs": [
    {
     "name": "stdout",
     "output_type": "stream",
     "text": [
      "[[1 2]\n",
      " [0 3]]\n",
      "              precision    recall  f1-score   support\n",
      "\n",
      "           0       1.00      0.33      0.50         3\n",
      "           1       0.60      1.00      0.75         3\n",
      "\n",
      "    accuracy                           0.67         6\n",
      "   macro avg       0.80      0.67      0.62         6\n",
      "weighted avg       0.80      0.67      0.62         6\n",
      "\n"
     ]
    }
   ],
   "source": [
    "from sklearn.model_selection import train_test_split\n",
    "from sklearn.ensemble import RandomForestClassifier\n",
    "from sklearn.metrics import classification_report, confusion_matrix\n",
    "from sklearn.preprocessing import StandardScaler\n",
    "\n",
    "\n",
    "# Convert 'Datetime' to datetime format and create additional time features\n",
    "df['Datetime'] = pd.to_datetime(df['Datetime'])\n",
    "df['Datetime'] = df['Datetime'].dt.tz_localize(None)\n",
    "df['Month'] = df['Datetime'].dt.month\n",
    "df['Year'] = df['Datetime'].dt.year\n",
    "\n",
    "# Aggregate data at the customer level\n",
    "customer_df = df.groupby('UserID').agg(\n",
    "    Total_Spend=('USDPrice', 'sum'),\n",
    "    Average_Spend=('USDPrice', 'mean'),\n",
    "    Total_Orders=('OrderID', 'nunique'),\n",
    "    Total_Items=('Quantity', 'sum'),\n",
    "    Recency=('Datetime', lambda x: (pd.Timestamp.now() - x.max()).days),\n",
    "    # Include other features that might be relevant\n",
    ").reset_index()\n",
    "\n",
    "# Assuming you have another DataFrame 'rfm' with RFM scores already calculated\n",
    "# customer_df = customer_df.merge(rfm, on='UserID', how='left')\n",
    "\n",
    "# Create a dummy target variable for demonstration purposes\n",
    "# In practice, this should be based on your specific business logic\n",
    "customer_df['Will_Purchase_Next_Month'] = (customer_df['Total_Orders'] % 2).astype(int)\n",
    "\n",
    "# Split the dataset into features (X) and target (y)\n",
    "X = customer_df.drop(['UserID', 'Will_Purchase_Next_Month'], axis=1)\n",
    "y = customer_df['Will_Purchase_Next_Month']\n",
    "\n",
    "# Split the data into training and testing sets\n",
    "X_train, X_test, y_train, y_test = train_test_split(X, y, test_size=0.3, random_state=42)\n",
    "\n",
    "# Scale the features\n",
    "scaler = StandardScaler()\n",
    "X_train_scaled = scaler.fit_transform(X_train)\n",
    "X_test_scaled = scaler.transform(X_test)\n",
    "\n",
    "# Initialize the Random Forest Classifier\n",
    "rf_classifier = RandomForestClassifier(n_estimators=100, random_state=42)\n",
    "\n",
    "# Train the model\n",
    "rf_classifier.fit(X_train_scaled, y_train)\n",
    "\n",
    "# Make predictions\n",
    "y_pred = rf_classifier.predict(X_test_scaled)\n",
    "\n",
    "# Evaluate the model\n",
    "print(confusion_matrix(y_test, y_pred))\n",
    "print(classification_report(y_test, y_pred))\n"
   ]
  },
  {
   "cell_type": "code",
   "execution_count": 84,
   "id": "a0a65cf1",
   "metadata": {},
   "outputs": [
    {
     "data": {
      "image/png": "[encoded data removed]",
      "text/plain": [
       "<Figure size 640x480 with 2 Axes>"
      ]
     },
     "metadata": {},
     "output_type": "display_data"
    }
   ],
   "source": [
    "import seaborn as sns\n",
    "import matplotlib.pyplot as plt\n",
    "from sklearn.metrics import confusion_matrix\n",
    "\n",
    "cm = confusion_matrix(y_test, y_pred)\n",
    "sns.heatmap(cm, annot=True, fmt='d')\n",
    "plt.xlabel('Predicted')\n",
    "plt.ylabel('True')\n",
    "plt.show()\n"
   ]
  },
  {
   "cell_type": "code",
   "execution_count": 18,
   "id": "c1f91e05",
   "metadata": {},
   "outputs": [
    {
     "name": "stdout",
     "output_type": "stream",
     "text": [
      "CategoryCode\n",
      "jewelry.earring     29052\n",
      "jewelry.ring        28300\n",
      "jewelry.pendant     13088\n",
      "other                9933\n",
      "jewelry.bracelet     6188\n",
      "Name: count, dtype: int64\n"
     ]
    }
   ],
   "source": [
    "\n",
    "\n",
    "\n",
    "# Check the distribution of the target class\n",
    "class_distribution = df['CategoryCode'].value_counts()\n",
    "print(class_distribution)\n"
   ]
  },
  {
   "cell_type": "code",
   "execution_count": 19,
   "id": "cde57b72",
   "metadata": {
    "scrolled": true
   },
   "outputs": [
    {
     "name": "stdout",
     "output_type": "stream",
     "text": [
      "CategoryCode\n",
      "jewelry.earring     29052\n",
      "jewelry.ring        28300\n",
      "jewelry.pendant     13088\n",
      "other                9933\n",
      "jewelry.bracelet     6188\n",
      "Name: count, dtype: int64\n"
     ]
    }
   ],
   "source": [
    "# Keep only rows where CategoryCode is a valid category\n",
    "valid_categories = ['jewelry.earring', 'jewelry.ring', 'jewelry.pendant', 'other', 'jewelry.bracelet']  # Add other valid categories\n",
    "df = df[df['CategoryCode'].isin(valid_categories)]\n",
    "\n",
    "# Check the distribution again\n",
    "print(df['CategoryCode'].value_counts())\n",
    "\n"
   ]
  },
  {
   "cell_type": "code",
   "execution_count": 20,
   "id": "9aa1d2ab",
   "metadata": {},
   "outputs": [
    {
     "name": "stdout",
     "output_type": "stream",
     "text": [
      "CategoryCode\n",
      "jewelry.earring     29052\n",
      "jewelry.ring        29052\n",
      "jewelry.pendant     29052\n",
      "other               29052\n",
      "jewelry.bracelet    29052\n",
      "Name: count, dtype: int64\n"
     ]
    }
   ],
   "source": [
    "from sklearn.utils import resample\n",
    "\n",
    "# Filter out categories that do not exist in the DataFrame\n",
    "valid_categories = [cat for cat in valid_categories if cat in df['CategoryCode'].unique()]\n",
    "\n",
    "# Ensure that there is at least one sample in each category\n",
    "if not valid_categories:\n",
    "    raise ValueError(\"No valid categories found in DataFrame.\")\n",
    "\n",
    "# Calculate the size of the largest category\n",
    "majority_class_size = df['CategoryCode'].value_counts().loc[valid_categories].max()\n",
    "\n",
    "# Upsample minority classes\n",
    "df_upsampled_list = []\n",
    "for category in valid_categories:\n",
    "    df_category = df[df.CategoryCode == category]\n",
    "    df_category_upsampled = resample(df_category, \n",
    "                                     replace=True,     \n",
    "                                     n_samples=majority_class_size,    \n",
    "                                     random_state=123)\n",
    "    df_upsampled_list.append(df_category_upsampled)\n",
    "\n",
    "# Combine upsampled dataframes\n",
    "df_upsampled = pd.concat(df_upsampled_list)\n",
    "\n",
    "# Check new class distribution\n",
    "print(df_upsampled.CategoryCode.value_counts())\n",
    "\n"
   ]
  },
  {
   "cell_type": "code",
   "execution_count": 21,
   "id": "cfd61875",
   "metadata": {},
   "outputs": [],
   "source": [
    "from sklearn.preprocessing import StandardScaler, OneHotEncoder\n",
    "from sklearn.compose import ColumnTransformer\n",
    "from sklearn.pipeline import Pipeline\n",
    "\n",
    "# Assuming df is your DataFrame after addressing class imbalance\n",
    "\n",
    "# Select columns for feature engineering\n",
    "categorical_features = ['Gender', 'Color', 'Metal', 'Gem']  # Add other categorical columns\n",
    "numerical_features = ['Quantity', 'USDPrice']  # Add other numerical columns\n",
    "\n",
    "# Create transformers for categorical and numerical features\n",
    "categorical_transformer = OneHotEncoder(handle_unknown='ignore')\n",
    "numerical_transformer = StandardScaler()\n",
    "\n",
    "# Create a column transformer to apply transformations to the respective columns\n",
    "preprocessor = ColumnTransformer(\n",
    "    transformers=[\n",
    "        ('num', numerical_transformer, numerical_features),\n",
    "        ('cat', categorical_transformer, categorical_features)\n",
    "    ])\n",
    "\n",
    "# Prepare features and target variable\n",
    "X = df.drop(['CategoryCode', 'OrderID', 'ProductID', 'UserID', 'Datetime'], axis=1)\n",
    "y = df['CategoryCode']\n"
   ]
  },
  {
   "cell_type": "code",
   "execution_count": 22,
   "id": "b6656023",
   "metadata": {
    "scrolled": true
   },
   "outputs": [
    {
     "name": "stdout",
     "output_type": "stream",
     "text": [
      "                  precision    recall  f1-score   support\n",
      "\n",
      "jewelry.bracelet       0.93      0.97      0.95      8746\n",
      " jewelry.earring       0.83      0.76      0.79      8700\n",
      " jewelry.pendant       0.86      0.91      0.88      8621\n",
      "    jewelry.ring       0.84      0.81      0.82      8842\n",
      "           other       0.98      0.99      0.98      8669\n",
      "\n",
      "        accuracy                           0.89     43578\n",
      "       macro avg       0.89      0.89      0.89     43578\n",
      "    weighted avg       0.89      0.89      0.89     43578\n",
      "\n"
     ]
    }
   ],
   "source": [
    "from sklearn.model_selection import train_test_split\n",
    "from sklearn.ensemble import RandomForestClassifier\n",
    "from sklearn.metrics import classification_report\n",
    "from sklearn.preprocessing import StandardScaler, OneHotEncoder\n",
    "from sklearn.compose import ColumnTransformer\n",
    "from sklearn.pipeline import Pipeline\n",
    "\n",
    "# Prepare features and target variable\n",
    "X = df_upsampled.drop(['CategoryCode'], axis=1)  # Include relevant features\n",
    "y = df_upsampled['CategoryCode']\n",
    "\n",
    "# Encoding and scaling\n",
    "categorical_features = ['Gender', 'Color', 'Metal', 'Gem']  # Update as per your dataset\n",
    "numerical_features = ['Quantity', 'USDPrice']  # Update as per your dataset\n",
    "\n",
    "preprocessor = ColumnTransformer(\n",
    "    transformers=[\n",
    "        ('num', StandardScaler(), numerical_features),\n",
    "        ('cat', OneHotEncoder(handle_unknown='ignore'), categorical_features)\n",
    "    ])\n",
    "\n",
    "# Split the dataset\n",
    "X_train, X_test, y_train, y_test = train_test_split(X, y, test_size=0.3, random_state=42)\n",
    "\n",
    "# Create and train the model\n",
    "model = Pipeline([\n",
    "    ('preprocessor', preprocessor),\n",
    "    ('classifier', RandomForestClassifier(random_state=42))\n",
    "])\n",
    "model.fit(X_train, y_train)\n",
    "\n",
    "# Evaluate the model\n",
    "y_pred = model.predict(X_test)\n",
    "print(classification_report(y_test, y_pred))\n"
   ]
  },
  {
   "cell_type": "code",
   "execution_count": 23,
   "id": "e3276803",
   "metadata": {},
   "outputs": [
    {
     "name": "stdout",
     "output_type": "stream",
     "text": [
      "Mean Squared Error: 464.49579732730945\n",
      "R2 Score: 0.7848946424396963\n"
     ]
    }
   ],
   "source": [
    "import pandas as pd\n",
    "from sklearn.model_selection import train_test_split\n",
    "from sklearn.ensemble import RandomForestRegressor\n",
    "from sklearn.metrics import mean_squared_error, r2_score\n",
    "from sklearn.preprocessing import StandardScaler\n",
    "\n",
    "\n",
    "# Prepare the features by selecting only numeric columns for scaling\n",
    "numeric_features = customer_df.select_dtypes(include=['int64', 'float64'])\n",
    "\n",
    "# Prepare the target variable\n",
    "y = customer_df['Average_Spend']\n",
    "\n",
    "# Drop the non-numeric and target columns from features\n",
    "X = numeric_features.drop(['Total_Spend', 'Average_Spend'], axis=1)\n",
    "\n",
    "# Split the dataset into training and testing sets\n",
    "X_train, X_test, y_train, y_test = train_test_split(X, y, test_size=0.3, random_state=42)\n",
    "\n",
    "# Scale the features\n",
    "scaler = StandardScaler()\n",
    "X_train_scaled = scaler.fit_transform(X_train)\n",
    "X_test_scaled = scaler.transform(X_test)\n",
    "\n",
    "# Initialize the Random Forest Regressor\n",
    "rf_regressor = RandomForestRegressor(n_estimators=100, random_state=42)\n",
    "\n",
    "# Train the model\n",
    "rf_regressor.fit(X_train_scaled, y_train)\n",
    "\n",
    "# Make predictions\n",
    "y_pred = rf_regressor.predict(X_test_scaled)\n",
    "\n",
    "# Calculate regression metrics\n",
    "mse = mean_squared_error(y_test, y_pred)\n",
    "r2 = r2_score(y_test, y_pred)\n",
    "\n",
    "print(f'Mean Squared Error: {mse}')\n",
    "print(f'R2 Score: {r2}')\n"
   ]
  },
  {
   "cell_type": "code",
   "execution_count": 24,
   "id": "b33d4f11",
   "metadata": {},
   "outputs": [],
   "source": [
    "import pandas as pd\n",
    "\n",
    "# Filter the dataset to include only the relevant categories\n",
    "categories = ['jewelry.bracelet', 'jewelry.earring', 'jewelry.pendant', 'jewelry.ring', 'other']\n",
    "df_filtered = df[df['CategoryCode'].isin(categories)]\n",
    "\n",
    "# Define features and target\n",
    "features = ['Quantity', 'CategoryCode', 'Gender', 'Color', 'Metal', 'Gem']\n",
    "target = 'USDPrice'\n",
    "\n"
   ]
  },
  {
   "cell_type": "code",
   "execution_count": 25,
   "id": "dd70500a",
   "metadata": {},
   "outputs": [],
   "source": [
    "from sklearn.preprocessing import StandardScaler, OneHotEncoder\n",
    "from sklearn.compose import ColumnTransformer\n",
    "\n",
    "# Define categorical and numerical features\n",
    "categorical_features = ['CategoryCode', 'Gender', 'Color', 'Metal', 'Gem']\n",
    "numerical_features = ['Quantity']\n",
    "\n",
    "# Create transformers for categorical and numerical features\n",
    "preprocessor = ColumnTransformer(\n",
    "    transformers=[\n",
    "        ('num', StandardScaler(), numerical_features),\n",
    "        ('cat', OneHotEncoder(handle_unknown='ignore'), categorical_features)\n",
    "    ])\n",
    "\n",
    "# Prepare features and target variable\n",
    "X = df_filtered.drop(target, axis=1)\n",
    "y = df_filtered[target]\n",
    "\n"
   ]
  },
  {
   "cell_type": "code",
   "execution_count": 26,
   "id": "d007dd35",
   "metadata": {},
   "outputs": [
    {
     "data": {
      "text/html": [
       "<style>#sk-container-id-1 {color: black;}#sk-container-id-1 pre{padding: 0;}#sk-container-id-1 div.sk-toggleable {background-color: white;}#sk-container-id-1 label.sk-toggleable__label {cursor: pointer;display: block;width: 100%;margin-bottom: 0;padding: 0.3em;box-sizing: border-box;text-align: center;}#sk-container-id-1 label.sk-toggleable__label-arrow:before {content: \"▸\";float: left;margin-right: 0.25em;color: #696969;}#sk-container-id-1 label.sk-toggleable__label-arrow:hover:before {color: black;}#sk-container-id-1 div.sk-estimator:hover label.sk-toggleable__label-arrow:before {color: black;}#sk-container-id-1 div.sk-toggleable__content {max-height: 0;max-width: 0;overflow: hidden;text-align: left;background-color: #f0f8ff;}#sk-container-id-1 div.sk-toggleable__content pre {margin: 0.2em;color: black;border-radius: 0.25em;background-color: #f0f8ff;}#sk-container-id-1 input.sk-toggleable__control:checked~div.sk-toggleable__content {max-height: 200px;max-width: 100%;overflow: auto;}#sk-container-id-1 input.sk-toggleable__control:checked~label.sk-toggleable__label-arrow:before {content: \"▾\";}#sk-container-id-1 div.sk-estimator input.sk-toggleable__control:checked~label.sk-toggleable__label {background-color: #d4ebff;}#sk-container-id-1 div.sk-label input.sk-toggleable__control:checked~label.sk-toggleable__label {background-color: #d4ebff;}#sk-container-id-1 input.sk-hidden--visually {border: 0;clip: rect(1px 1px 1px 1px);clip: rect(1px, 1px, 1px, 1px);height: 1px;margin: -1px;overflow: hidden;padding: 0;position: absolute;width: 1px;}#sk-container-id-1 div.sk-estimator {font-family: monospace;background-color: #f0f8ff;border: 1px dotted black;border-radius: 0.25em;box-sizing: border-box;margin-bottom: 0.5em;}#sk-container-id-1 div.sk-estimator:hover {background-color: #d4ebff;}#sk-container-id-1 div.sk-parallel-item::after {content: \"\";width: 100%;border-bottom: 1px solid gray;flex-grow: 1;}#sk-container-id-1 div.sk-label:hover label.sk-toggleable__label {background-color: #d4ebff;}#sk-container-id-1 div.sk-serial::before {content: \"\";position: absolute;border-left: 1px solid gray;box-sizing: border-box;top: 0;bottom: 0;left: 50%;z-index: 0;}#sk-container-id-1 div.sk-serial {display: flex;flex-direction: column;align-items: center;background-color: white;padding-right: 0.2em;padding-left: 0.2em;position: relative;}#sk-container-id-1 div.sk-item {position: relative;z-index: 1;}#sk-container-id-1 div.sk-parallel {display: flex;align-items: stretch;justify-content: center;background-color: white;position: relative;}#sk-container-id-1 div.sk-item::before, #sk-container-id-1 div.sk-parallel-item::before {content: \"\";position: absolute;border-left: 1px solid gray;box-sizing: border-box;top: 0;bottom: 0;left: 50%;z-index: -1;}#sk-container-id-1 div.sk-parallel-item {display: flex;flex-direction: column;z-index: 1;position: relative;background-color: white;}#sk-container-id-1 div.sk-parallel-item:first-child::after {align-self: flex-end;width: 50%;}#sk-container-id-1 div.sk-parallel-item:last-child::after {align-self: flex-start;width: 50%;}#sk-container-id-1 div.sk-parallel-item:only-child::after {width: 0;}#sk-container-id-1 div.sk-dashed-wrapped {border: 1px dashed gray;margin: 0 0.4em 0.5em 0.4em;box-sizing: border-box;padding-bottom: 0.4em;background-color: white;}#sk-container-id-1 div.sk-label label {font-family: monospace;font-weight: bold;display: inline-block;line-height: 1.2em;}#sk-container-id-1 div.sk-label-container {text-align: center;}#sk-container-id-1 div.sk-container {/* jupyter's `normalize.less` sets `[hidden] { display: none; }` but bootstrap.min.css set `[hidden] { display: none !important; }` so we also need the `!important` here to be able to override the default hidden behavior on the sphinx rendered scikit-learn.org. See: https://github.com/scikit-learn/scikit-learn/issues/21755 */display: inline-block !important;position: relative;}#sk-container-id-1 div.sk-text-repr-fallback {display: none;}</style><div id=\"sk-container-id-1\" class=\"sk-top-container\"><div class=\"sk-text-repr-fallback\"><pre>Pipeline(steps=[(&#x27;preprocessor&#x27;,\n",
       "                 ColumnTransformer(transformers=[(&#x27;num&#x27;, StandardScaler(),\n",
       "                                                  [&#x27;Quantity&#x27;]),\n",
       "                                                 (&#x27;cat&#x27;,\n",
       "                                                  OneHotEncoder(handle_unknown=&#x27;ignore&#x27;),\n",
       "                                                  [&#x27;CategoryCode&#x27;, &#x27;Gender&#x27;,\n",
       "                                                   &#x27;Color&#x27;, &#x27;Metal&#x27;,\n",
       "                                                   &#x27;Gem&#x27;])])),\n",
       "                (&#x27;regressor&#x27;, RandomForestRegressor(random_state=42))])</pre><b>In a Jupyter environment, please rerun this cell to show the HTML representation or trust the notebook. <br />On GitHub, the HTML representation is unable to render, please try loading this page with nbviewer.org.</b></div><div class=\"sk-container\" hidden><div class=\"sk-item sk-dashed-wrapped\"><div class=\"sk-label-container\"><div class=\"sk-label sk-toggleable\"><input class=\"sk-toggleable__control sk-hidden--visually\" id=\"sk-estimator-id-1\" type=\"checkbox\" ><label for=\"sk-estimator-id-1\" class=\"sk-toggleable__label sk-toggleable__label-arrow\">Pipeline</label><div class=\"sk-toggleable__content\"><pre>Pipeline(steps=[(&#x27;preprocessor&#x27;,\n",
       "                 ColumnTransformer(transformers=[(&#x27;num&#x27;, StandardScaler(),\n",
       "                                                  [&#x27;Quantity&#x27;]),\n",
       "                                                 (&#x27;cat&#x27;,\n",
       "                                                  OneHotEncoder(handle_unknown=&#x27;ignore&#x27;),\n",
       "                                                  [&#x27;CategoryCode&#x27;, &#x27;Gender&#x27;,\n",
       "                                                   &#x27;Color&#x27;, &#x27;Metal&#x27;,\n",
       "                                                   &#x27;Gem&#x27;])])),\n",
       "                (&#x27;regressor&#x27;, RandomForestRegressor(random_state=42))])</pre></div></div></div><div class=\"sk-serial\"><div class=\"sk-item sk-dashed-wrapped\"><div class=\"sk-label-container\"><div class=\"sk-label sk-toggleable\"><input class=\"sk-toggleable__control sk-hidden--visually\" id=\"sk-estimator-id-2\" type=\"checkbox\" ><label for=\"sk-estimator-id-2\" class=\"sk-toggleable__label sk-toggleable__label-arrow\">preprocessor: ColumnTransformer</label><div class=\"sk-toggleable__content\"><pre>ColumnTransformer(transformers=[(&#x27;num&#x27;, StandardScaler(), [&#x27;Quantity&#x27;]),\n",
       "                                (&#x27;cat&#x27;, OneHotEncoder(handle_unknown=&#x27;ignore&#x27;),\n",
       "                                 [&#x27;CategoryCode&#x27;, &#x27;Gender&#x27;, &#x27;Color&#x27;, &#x27;Metal&#x27;,\n",
       "                                  &#x27;Gem&#x27;])])</pre></div></div></div><div class=\"sk-parallel\"><div class=\"sk-parallel-item\"><div class=\"sk-item\"><div class=\"sk-label-container\"><div class=\"sk-label sk-toggleable\"><input class=\"sk-toggleable__control sk-hidden--visually\" id=\"sk-estimator-id-3\" type=\"checkbox\" ><label for=\"sk-estimator-id-3\" class=\"sk-toggleable__label sk-toggleable__label-arrow\">num</label><div class=\"sk-toggleable__content\"><pre>[&#x27;Quantity&#x27;]</pre></div></div></div><div class=\"sk-serial\"><div class=\"sk-item\"><div class=\"sk-estimator sk-toggleable\"><input class=\"sk-toggleable__control sk-hidden--visually\" id=\"sk-estimator-id-4\" type=\"checkbox\" ><label for=\"sk-estimator-id-4\" class=\"sk-toggleable__label sk-toggleable__label-arrow\">StandardScaler</label><div class=\"sk-toggleable__content\"><pre>StandardScaler()</pre></div></div></div></div></div></div><div class=\"sk-parallel-item\"><div class=\"sk-item\"><div class=\"sk-label-container\"><div class=\"sk-label sk-toggleable\"><input class=\"sk-toggleable__control sk-hidden--visually\" id=\"sk-estimator-id-5\" type=\"checkbox\" ><label for=\"sk-estimator-id-5\" class=\"sk-toggleable__label sk-toggleable__label-arrow\">cat</label><div class=\"sk-toggleable__content\"><pre>[&#x27;CategoryCode&#x27;, &#x27;Gender&#x27;, &#x27;Color&#x27;, &#x27;Metal&#x27;, &#x27;Gem&#x27;]</pre></div></div></div><div class=\"sk-serial\"><div class=\"sk-item\"><div class=\"sk-estimator sk-toggleable\"><input class=\"sk-toggleable__control sk-hidden--visually\" id=\"sk-estimator-id-6\" type=\"checkbox\" ><label for=\"sk-estimator-id-6\" class=\"sk-toggleable__label sk-toggleable__label-arrow\">OneHotEncoder</label><div class=\"sk-toggleable__content\"><pre>OneHotEncoder(handle_unknown=&#x27;ignore&#x27;)</pre></div></div></div></div></div></div></div></div><div class=\"sk-item\"><div class=\"sk-estimator sk-toggleable\"><input class=\"sk-toggleable__control sk-hidden--visually\" id=\"sk-estimator-id-7\" type=\"checkbox\" ><label for=\"sk-estimator-id-7\" class=\"sk-toggleable__label sk-toggleable__label-arrow\">RandomForestRegressor</label><div class=\"sk-toggleable__content\"><pre>RandomForestRegressor(random_state=42)</pre></div></div></div></div></div></div></div>"
      ],
      "text/plain": [
       "Pipeline(steps=[('preprocessor',\n",
       "                 ColumnTransformer(transformers=[('num', StandardScaler(),\n",
       "                                                  ['Quantity']),\n",
       "                                                 ('cat',\n",
       "                                                  OneHotEncoder(handle_unknown='ignore'),\n",
       "                                                  ['CategoryCode', 'Gender',\n",
       "                                                   'Color', 'Metal',\n",
       "                                                   'Gem'])])),\n",
       "                ('regressor', RandomForestRegressor(random_state=42))])"
      ]
     },
     "execution_count": 26,
     "metadata": {},
     "output_type": "execute_result"
    }
   ],
   "source": [
    "from sklearn.model_selection import train_test_split\n",
    "from sklearn.ensemble import RandomForestRegressor\n",
    "from sklearn.pipeline import Pipeline\n",
    "\n",
    "# Split the dataset\n",
    "X_train, X_test, y_train, y_test = train_test_split(X, y, test_size=0.3, random_state=42)\n",
    "\n",
    "# Create and train the model\n",
    "model = Pipeline([\n",
    "    ('preprocessor', preprocessor),\n",
    "    ('regressor', RandomForestRegressor(random_state=42))\n",
    "])\n",
    "model.fit(X_train, y_train)\n",
    "\n"
   ]
  },
  {
   "cell_type": "code",
   "execution_count": 27,
   "id": "154ea589",
   "metadata": {},
   "outputs": [
    {
     "name": "stdout",
     "output_type": "stream",
     "text": [
      "Predicted amount to be spent on jewelry.bracelet: $141.40\n",
      "Predicted amount to be spent on jewelry.earring: $233.62\n",
      "Predicted amount to be spent on jewelry.pendant: $301.05\n",
      "Predicted amount to be spent on jewelry.ring: $347.99\n",
      "Predicted amount to be spent on other: $194.89\n"
     ]
    }
   ],
   "source": [
    "# Example user data for different types of jewelry\n",
    "user_data_examples = [\n",
    "    {'CategoryCode': 'jewelry.bracelet', 'Quantity': 1, 'Gender': 'Female', 'Color': 'Gold', 'Metal': 'Gold', 'Gem': 'Diamond'},\n",
    "    {'CategoryCode': 'jewelry.earring', 'Quantity': 1, 'Gender': 'Female', 'Color': 'Silver', 'Metal': 'Silver', 'Gem': 'Diamond'},\n",
    "    {'CategoryCode': 'jewelry.pendant', 'Quantity': 1, 'Gender': 'Female', 'Color': 'Gold', 'Metal': 'Gold', 'Gem': 'Emerald'},\n",
    "    {'CategoryCode': 'jewelry.ring', 'Quantity': 1, 'Gender': 'Female', 'Color': 'Rose Gold', 'Metal': 'Rose Gold', 'Gem': 'Ruby'},\n",
    "    {'CategoryCode': 'other', 'Quantity': 1, 'Gender': 'Unisex', 'Color': 'Multicolor', 'Metal': 'Mixed', 'Gem': 'None'}\n",
    "]\n",
    "\n",
    "# Predict for each type of jewelry\n",
    "for user_data in user_data_examples:\n",
    "    user_df = pd.DataFrame([user_data])\n",
    "    predicted_spend = model.predict(user_df)\n",
    "    print(f\"Predicted amount to be spent on {user_data['CategoryCode']}: ${predicted_spend[0]:.2f}\")\n",
    "\n"
   ]
  },
  {
   "cell_type": "code",
   "execution_count": 64,
   "id": "9f509c8d",
   "metadata": {},
   "outputs": [
    {
     "name": "stdout",
     "output_type": "stream",
     "text": [
      "Requirement already satisfied: plotly in c:\\users\\rebeccaoseiakoto\\anaconda3\\lib\\site-packages (5.9.0)\n",
      "Requirement already satisfied: tenacity>=6.2.0 in c:\\users\\rebeccaoseiakoto\\anaconda3\\lib\\site-packages (from plotly) (8.2.2)\n"
     ]
    }
   ],
   "source": [
    "!pip install plotly\n"
   ]
  },
  {
   "cell_type": "code",
   "execution_count": 36,
   "id": "f6443d2b",
   "metadata": {},
   "outputs": [
    {
     "name": "stdout",
     "output_type": "stream",
     "text": [
      "Index(['OrderID', 'ProductID', 'Quantity', 'CategoryID', 'CategoryCode',\n",
      "       'BrandID', 'USDPrice', 'UserID', 'Gender', 'Color', 'Metal', 'Gem',\n",
      "       'Country', 'Year', 'Month', 'Day', 'Hour'],\n",
      "      dtype='object')\n"
     ]
    }
   ],
   "source": [
    "print(df.columns)"
   ]
  },
  {
   "cell_type": "code",
   "execution_count": 40,
   "id": "34c2fe4e",
   "metadata": {},
   "outputs": [
    {
     "name": "stdout",
     "output_type": "stream",
     "text": [
      "<class 'pandas.core.frame.DataFrame'>\n",
      "RangeIndex: 95911 entries, 0 to 95910\n",
      "Data columns (total 17 columns):\n",
      " #   Column        Non-Null Count  Dtype  \n",
      "---  ------        --------------  -----  \n",
      " 0   OrderID       95911 non-null  float64\n",
      " 1   ProductID     95911 non-null  float64\n",
      " 2   Quantity      95794 non-null  float64\n",
      " 3   CategoryID    90559 non-null  float64\n",
      " 4   CategoryCode  95911 non-null  int32  \n",
      " 5   BrandID       91126 non-null  float64\n",
      " 6   USDPrice      90559 non-null  float64\n",
      " 7   UserID        90559 non-null  float64\n",
      " 8   Gender        95911 non-null  int32  \n",
      " 9   Color         95911 non-null  int32  \n",
      " 10  Metal         95911 non-null  int32  \n",
      " 11  Gem           95911 non-null  int32  \n",
      " 12  Country       95911 non-null  int32  \n",
      " 13  Year          95911 non-null  int32  \n",
      " 14  Month         95911 non-null  int32  \n",
      " 15  Day           95911 non-null  int32  \n",
      " 16  Hour          95911 non-null  int32  \n",
      "dtypes: float64(7), int32(10)\n",
      "memory usage: 8.8 MB\n"
     ]
    },
    {
     "data": {
      "text/html": [
       "<div>\n",
       "<style scoped>\n",
       "    .dataframe tbody tr th:only-of-type {\n",
       "        vertical-align: middle;\n",
       "    }\n",
       "\n",
       "    .dataframe tbody tr th {\n",
       "        vertical-align: top;\n",
       "    }\n",
       "\n",
       "    .dataframe thead th {\n",
       "        text-align: right;\n",
       "    }\n",
       "</style>\n",
       "<table border=\"1\" class=\"dataframe\">\n",
       "  <thead>\n",
       "    <tr style=\"text-align: right;\">\n",
       "      <th></th>\n",
       "      <th>OrderID</th>\n",
       "      <th>ProductID</th>\n",
       "      <th>Quantity</th>\n",
       "      <th>CategoryID</th>\n",
       "      <th>CategoryCode</th>\n",
       "      <th>BrandID</th>\n",
       "      <th>USDPrice</th>\n",
       "      <th>UserID</th>\n",
       "      <th>Gender</th>\n",
       "      <th>Color</th>\n",
       "      <th>Metal</th>\n",
       "      <th>Gem</th>\n",
       "      <th>Country</th>\n",
       "      <th>Year</th>\n",
       "      <th>Month</th>\n",
       "      <th>Day</th>\n",
       "      <th>Hour</th>\n",
       "    </tr>\n",
       "  </thead>\n",
       "  <tbody>\n",
       "    <tr>\n",
       "      <th>count</th>\n",
       "      <td>9.591100e+04</td>\n",
       "      <td>9.591100e+04</td>\n",
       "      <td>95794.000000</td>\n",
       "      <td>9.055900e+04</td>\n",
       "      <td>95911.000000</td>\n",
       "      <td>9.112600e+04</td>\n",
       "      <td>90559.000000</td>\n",
       "      <td>9.055900e+04</td>\n",
       "      <td>95911.000000</td>\n",
       "      <td>95911.000000</td>\n",
       "      <td>95911.000000</td>\n",
       "      <td>95911.000000</td>\n",
       "      <td>95911.000000</td>\n",
       "      <td>95911.000000</td>\n",
       "      <td>95911.000000</td>\n",
       "      <td>95911.000000</td>\n",
       "      <td>95911.000000</td>\n",
       "    </tr>\n",
       "    <tr>\n",
       "      <th>mean</th>\n",
       "      <td>2.485202e+18</td>\n",
       "      <td>1.818768e+18</td>\n",
       "      <td>9.600184</td>\n",
       "      <td>1.809106e+18</td>\n",
       "      <td>202.855001</td>\n",
       "      <td>8.914580e+16</td>\n",
       "      <td>362.215217</td>\n",
       "      <td>1.516588e+18</td>\n",
       "      <td>1.008226</td>\n",
       "      <td>1.744836</td>\n",
       "      <td>0.199331</td>\n",
       "      <td>18.362315</td>\n",
       "      <td>21.960828</td>\n",
       "      <td>2020.460813</td>\n",
       "      <td>7.356768</td>\n",
       "      <td>16.604644</td>\n",
       "      <td>12.144134</td>\n",
       "    </tr>\n",
       "    <tr>\n",
       "      <th>std</th>\n",
       "      <td>1.935255e+17</td>\n",
       "      <td>2.138343e+17</td>\n",
       "      <td>266.213471</td>\n",
       "      <td>2.112882e+16</td>\n",
       "      <td>46.165711</td>\n",
       "      <td>3.569103e+17</td>\n",
       "      <td>444.155706</td>\n",
       "      <td>2.430700e+16</td>\n",
       "      <td>0.998072</td>\n",
       "      <td>1.295841</td>\n",
       "      <td>0.727846</td>\n",
       "      <td>10.079483</td>\n",
       "      <td>3.837049</td>\n",
       "      <td>0.713050</td>\n",
       "      <td>3.443492</td>\n",
       "      <td>8.774976</td>\n",
       "      <td>4.629203</td>\n",
       "    </tr>\n",
       "    <tr>\n",
       "      <th>min</th>\n",
       "      <td>1.920000e+18</td>\n",
       "      <td>1.310000e+18</td>\n",
       "      <td>-18.000000</td>\n",
       "      <td>1.310000e+18</td>\n",
       "      <td>0.000000</td>\n",
       "      <td>0.000000e+00</td>\n",
       "      <td>0.990000</td>\n",
       "      <td>1.310000e+18</td>\n",
       "      <td>0.000000</td>\n",
       "      <td>0.000000</td>\n",
       "      <td>0.000000</td>\n",
       "      <td>0.000000</td>\n",
       "      <td>0.000000</td>\n",
       "      <td>2018.000000</td>\n",
       "      <td>1.000000</td>\n",
       "      <td>1.000000</td>\n",
       "      <td>0.000000</td>\n",
       "    </tr>\n",
       "    <tr>\n",
       "      <th>25%</th>\n",
       "      <td>2.380000e+18</td>\n",
       "      <td>1.520000e+18</td>\n",
       "      <td>1.000000</td>\n",
       "      <td>1.810000e+18</td>\n",
       "      <td>212.000000</td>\n",
       "      <td>0.000000e+00</td>\n",
       "      <td>145.620000</td>\n",
       "      <td>1.520000e+18</td>\n",
       "      <td>0.000000</td>\n",
       "      <td>1.000000</td>\n",
       "      <td>0.000000</td>\n",
       "      <td>8.000000</td>\n",
       "      <td>23.000000</td>\n",
       "      <td>2020.000000</td>\n",
       "      <td>4.000000</td>\n",
       "      <td>9.000000</td>\n",
       "      <td>9.000000</td>\n",
       "    </tr>\n",
       "    <tr>\n",
       "      <th>50%</th>\n",
       "      <td>2.520000e+18</td>\n",
       "      <td>1.960000e+18</td>\n",
       "      <td>3.000000</td>\n",
       "      <td>1.810000e+18</td>\n",
       "      <td>214.000000</td>\n",
       "      <td>1.000000e+00</td>\n",
       "      <td>258.770000</td>\n",
       "      <td>1.520000e+18</td>\n",
       "      <td>2.000000</td>\n",
       "      <td>1.000000</td>\n",
       "      <td>0.000000</td>\n",
       "      <td>14.000000</td>\n",
       "      <td>23.000000</td>\n",
       "      <td>2021.000000</td>\n",
       "      <td>8.000000</td>\n",
       "      <td>17.000000</td>\n",
       "      <td>12.000000</td>\n",
       "    </tr>\n",
       "    <tr>\n",
       "      <th>75%</th>\n",
       "      <td>2.640000e+18</td>\n",
       "      <td>1.960000e+18</td>\n",
       "      <td>10.000000</td>\n",
       "      <td>1.810000e+18</td>\n",
       "      <td>215.000000</td>\n",
       "      <td>1.000000e+00</td>\n",
       "      <td>431.370000</td>\n",
       "      <td>1.520000e+18</td>\n",
       "      <td>2.000000</td>\n",
       "      <td>3.000000</td>\n",
       "      <td>0.000000</td>\n",
       "      <td>30.000000</td>\n",
       "      <td>23.000000</td>\n",
       "      <td>2021.000000</td>\n",
       "      <td>11.000000</td>\n",
       "      <td>24.000000</td>\n",
       "      <td>16.000000</td>\n",
       "    </tr>\n",
       "    <tr>\n",
       "      <th>max</th>\n",
       "      <td>2.720000e+18</td>\n",
       "      <td>2.540000e+18</td>\n",
       "      <td>80995.000000</td>\n",
       "      <td>1.810000e+18</td>\n",
       "      <td>218.000000</td>\n",
       "      <td>1.550000e+18</td>\n",
       "      <td>34448.600000</td>\n",
       "      <td>1.550000e+18</td>\n",
       "      <td>2.000000</td>\n",
       "      <td>5.000000</td>\n",
       "      <td>3.000000</td>\n",
       "      <td>30.000000</td>\n",
       "      <td>23.000000</td>\n",
       "      <td>2021.000000</td>\n",
       "      <td>12.000000</td>\n",
       "      <td>31.000000</td>\n",
       "      <td>23.000000</td>\n",
       "    </tr>\n",
       "  </tbody>\n",
       "</table>\n",
       "</div>"
      ],
      "text/plain": [
       "            OrderID     ProductID      Quantity    CategoryID  CategoryCode  \\\n",
       "count  9.591100e+04  9.591100e+04  95794.000000  9.055900e+04  95911.000000   \n",
       "mean   2.485202e+18  1.818768e+18      9.600184  1.809106e+18    202.855001   \n",
       "std    1.935255e+17  2.138343e+17    266.213471  2.112882e+16     46.165711   \n",
       "min    1.920000e+18  1.310000e+18    -18.000000  1.310000e+18      0.000000   \n",
       "25%    2.380000e+18  1.520000e+18      1.000000  1.810000e+18    212.000000   \n",
       "50%    2.520000e+18  1.960000e+18      3.000000  1.810000e+18    214.000000   \n",
       "75%    2.640000e+18  1.960000e+18     10.000000  1.810000e+18    215.000000   \n",
       "max    2.720000e+18  2.540000e+18  80995.000000  1.810000e+18    218.000000   \n",
       "\n",
       "            BrandID      USDPrice        UserID        Gender         Color  \\\n",
       "count  9.112600e+04  90559.000000  9.055900e+04  95911.000000  95911.000000   \n",
       "mean   8.914580e+16    362.215217  1.516588e+18      1.008226      1.744836   \n",
       "std    3.569103e+17    444.155706  2.430700e+16      0.998072      1.295841   \n",
       "min    0.000000e+00      0.990000  1.310000e+18      0.000000      0.000000   \n",
       "25%    0.000000e+00    145.620000  1.520000e+18      0.000000      1.000000   \n",
       "50%    1.000000e+00    258.770000  1.520000e+18      2.000000      1.000000   \n",
       "75%    1.000000e+00    431.370000  1.520000e+18      2.000000      3.000000   \n",
       "max    1.550000e+18  34448.600000  1.550000e+18      2.000000      5.000000   \n",
       "\n",
       "              Metal           Gem       Country          Year         Month  \\\n",
       "count  95911.000000  95911.000000  95911.000000  95911.000000  95911.000000   \n",
       "mean       0.199331     18.362315     21.960828   2020.460813      7.356768   \n",
       "std        0.727846     10.079483      3.837049      0.713050      3.443492   \n",
       "min        0.000000      0.000000      0.000000   2018.000000      1.000000   \n",
       "25%        0.000000      8.000000     23.000000   2020.000000      4.000000   \n",
       "50%        0.000000     14.000000     23.000000   2021.000000      8.000000   \n",
       "75%        0.000000     30.000000     23.000000   2021.000000     11.000000   \n",
       "max        3.000000     30.000000     23.000000   2021.000000     12.000000   \n",
       "\n",
       "                Day          Hour  \n",
       "count  95911.000000  95911.000000  \n",
       "mean      16.604644     12.144134  \n",
       "std        8.774976      4.629203  \n",
       "min        1.000000      0.000000  \n",
       "25%        9.000000      9.000000  \n",
       "50%       17.000000     12.000000  \n",
       "75%       24.000000     16.000000  \n",
       "max       31.000000     23.000000  "
      ]
     },
     "execution_count": 40,
     "metadata": {},
     "output_type": "execute_result"
    }
   ],
   "source": [
    "df.info()\n",
    "df.describe(include= 'all')"
   ]
  },
  {
   "cell_type": "code",
   "execution_count": 41,
   "id": "c52aba5d",
   "metadata": {
    "scrolled": true
   },
   "outputs": [
    {
     "data": {
      "text/html": [
       "<div>\n",
       "<style scoped>\n",
       "    .dataframe tbody tr th:only-of-type {\n",
       "        vertical-align: middle;\n",
       "    }\n",
       "\n",
       "    .dataframe tbody tr th {\n",
       "        vertical-align: top;\n",
       "    }\n",
       "\n",
       "    .dataframe thead th {\n",
       "        text-align: right;\n",
       "    }\n",
       "</style>\n",
       "<table border=\"1\" class=\"dataframe\">\n",
       "  <thead>\n",
       "    <tr style=\"text-align: right;\">\n",
       "      <th></th>\n",
       "      <th>OrderID</th>\n",
       "      <th>ProductID</th>\n",
       "      <th>Quantity</th>\n",
       "      <th>CategoryID</th>\n",
       "      <th>CategoryCode</th>\n",
       "      <th>BrandID</th>\n",
       "      <th>USDPrice</th>\n",
       "      <th>UserID</th>\n",
       "      <th>Gender</th>\n",
       "      <th>Color</th>\n",
       "      <th>Metal</th>\n",
       "      <th>Gem</th>\n",
       "      <th>Country</th>\n",
       "      <th>Year</th>\n",
       "      <th>Month</th>\n",
       "      <th>Day</th>\n",
       "      <th>Hour</th>\n",
       "    </tr>\n",
       "  </thead>\n",
       "  <tbody>\n",
       "    <tr>\n",
       "      <th>0</th>\n",
       "      <td>1.920000e+18</td>\n",
       "      <td>1.840000e+18</td>\n",
       "      <td>12.0</td>\n",
       "      <td>1.810000e+18</td>\n",
       "      <td>212</td>\n",
       "      <td>0.0</td>\n",
       "      <td>561.51</td>\n",
       "      <td>1.520000e+18</td>\n",
       "      <td>2</td>\n",
       "      <td>1</td>\n",
       "      <td>0</td>\n",
       "      <td>8</td>\n",
       "      <td>23</td>\n",
       "      <td>2018</td>\n",
       "      <td>12</td>\n",
       "      <td>1</td>\n",
       "      <td>11</td>\n",
       "    </tr>\n",
       "    <tr>\n",
       "      <th>1</th>\n",
       "      <td>1.920000e+18</td>\n",
       "      <td>1.810000e+18</td>\n",
       "      <td>36.0</td>\n",
       "      <td>1.810000e+18</td>\n",
       "      <td>218</td>\n",
       "      <td>NaN</td>\n",
       "      <td>212.14</td>\n",
       "      <td>1.520000e+18</td>\n",
       "      <td>2</td>\n",
       "      <td>4</td>\n",
       "      <td>0</td>\n",
       "      <td>30</td>\n",
       "      <td>23</td>\n",
       "      <td>2018</td>\n",
       "      <td>12</td>\n",
       "      <td>1</td>\n",
       "      <td>17</td>\n",
       "    </tr>\n",
       "    <tr>\n",
       "      <th>2</th>\n",
       "      <td>1.930000e+18</td>\n",
       "      <td>1.840000e+18</td>\n",
       "      <td>12.0</td>\n",
       "      <td>1.810000e+18</td>\n",
       "      <td>214</td>\n",
       "      <td>1.0</td>\n",
       "      <td>54.66</td>\n",
       "      <td>1.520000e+18</td>\n",
       "      <td>0</td>\n",
       "      <td>3</td>\n",
       "      <td>0</td>\n",
       "      <td>23</td>\n",
       "      <td>23</td>\n",
       "      <td>2018</td>\n",
       "      <td>12</td>\n",
       "      <td>2</td>\n",
       "      <td>13</td>\n",
       "    </tr>\n",
       "    <tr>\n",
       "      <th>3</th>\n",
       "      <td>1.930000e+18</td>\n",
       "      <td>1.840000e+18</td>\n",
       "      <td>12.0</td>\n",
       "      <td>1.810000e+18</td>\n",
       "      <td>214</td>\n",
       "      <td>0.0</td>\n",
       "      <td>88.90</td>\n",
       "      <td>1.520000e+18</td>\n",
       "      <td>0</td>\n",
       "      <td>1</td>\n",
       "      <td>0</td>\n",
       "      <td>8</td>\n",
       "      <td>23</td>\n",
       "      <td>2018</td>\n",
       "      <td>12</td>\n",
       "      <td>2</td>\n",
       "      <td>17</td>\n",
       "    </tr>\n",
       "    <tr>\n",
       "      <th>4</th>\n",
       "      <td>1.930000e+18</td>\n",
       "      <td>1.870000e+18</td>\n",
       "      <td>6.0</td>\n",
       "      <td>1.810000e+18</td>\n",
       "      <td>213</td>\n",
       "      <td>0.0</td>\n",
       "      <td>417.67</td>\n",
       "      <td>1.520000e+18</td>\n",
       "      <td>2</td>\n",
       "      <td>1</td>\n",
       "      <td>0</td>\n",
       "      <td>2</td>\n",
       "      <td>23</td>\n",
       "      <td>2018</td>\n",
       "      <td>12</td>\n",
       "      <td>2</td>\n",
       "      <td>21</td>\n",
       "    </tr>\n",
       "  </tbody>\n",
       "</table>\n",
       "</div>"
      ],
      "text/plain": [
       "        OrderID     ProductID  Quantity    CategoryID  CategoryCode  BrandID  \\\n",
       "0  1.920000e+18  1.840000e+18      12.0  1.810000e+18           212      0.0   \n",
       "1  1.920000e+18  1.810000e+18      36.0  1.810000e+18           218      NaN   \n",
       "2  1.930000e+18  1.840000e+18      12.0  1.810000e+18           214      1.0   \n",
       "3  1.930000e+18  1.840000e+18      12.0  1.810000e+18           214      0.0   \n",
       "4  1.930000e+18  1.870000e+18       6.0  1.810000e+18           213      0.0   \n",
       "\n",
       "   USDPrice        UserID  Gender  Color  Metal  Gem  Country  Year  Month  \\\n",
       "0    561.51  1.520000e+18       2      1      0    8       23  2018     12   \n",
       "1    212.14  1.520000e+18       2      4      0   30       23  2018     12   \n",
       "2     54.66  1.520000e+18       0      3      0   23       23  2018     12   \n",
       "3     88.90  1.520000e+18       0      1      0    8       23  2018     12   \n",
       "4    417.67  1.520000e+18       2      1      0    2       23  2018     12   \n",
       "\n",
       "   Day  Hour  \n",
       "0    1    11  \n",
       "1    1    17  \n",
       "2    2    13  \n",
       "3    2    17  \n",
       "4    2    21  "
      ]
     },
     "execution_count": 41,
     "metadata": {},
     "output_type": "execute_result"
    }
   ],
   "source": [
    "df.head()"
   ]
  },
  {
   "cell_type": "code",
   "execution_count": 42,
   "id": "2b9aa78e",
   "metadata": {},
   "outputs": [
    {
     "data": {
      "text/html": [
       "<div>\n",
       "<style scoped>\n",
       "    .dataframe tbody tr th:only-of-type {\n",
       "        vertical-align: middle;\n",
       "    }\n",
       "\n",
       "    .dataframe tbody tr th {\n",
       "        vertical-align: top;\n",
       "    }\n",
       "\n",
       "    .dataframe thead th {\n",
       "        text-align: right;\n",
       "    }\n",
       "</style>\n",
       "<table border=\"1\" class=\"dataframe\">\n",
       "  <thead>\n",
       "    <tr style=\"text-align: right;\">\n",
       "      <th></th>\n",
       "      <th>USDPrice</th>\n",
       "    </tr>\n",
       "  </thead>\n",
       "  <tbody>\n",
       "    <tr>\n",
       "      <th>count</th>\n",
       "      <td>90559.000000</td>\n",
       "    </tr>\n",
       "    <tr>\n",
       "      <th>mean</th>\n",
       "      <td>362.215217</td>\n",
       "    </tr>\n",
       "    <tr>\n",
       "      <th>std</th>\n",
       "      <td>444.155706</td>\n",
       "    </tr>\n",
       "    <tr>\n",
       "      <th>min</th>\n",
       "      <td>0.990000</td>\n",
       "    </tr>\n",
       "    <tr>\n",
       "      <th>25%</th>\n",
       "      <td>145.620000</td>\n",
       "    </tr>\n",
       "    <tr>\n",
       "      <th>50%</th>\n",
       "      <td>258.770000</td>\n",
       "    </tr>\n",
       "    <tr>\n",
       "      <th>75%</th>\n",
       "      <td>431.370000</td>\n",
       "    </tr>\n",
       "    <tr>\n",
       "      <th>max</th>\n",
       "      <td>34448.600000</td>\n",
       "    </tr>\n",
       "  </tbody>\n",
       "</table>\n",
       "</div>"
      ],
      "text/plain": [
       "           USDPrice\n",
       "count  90559.000000\n",
       "mean     362.215217\n",
       "std      444.155706\n",
       "min        0.990000\n",
       "25%      145.620000\n",
       "50%      258.770000\n",
       "75%      431.370000\n",
       "max    34448.600000"
      ]
     },
     "execution_count": 42,
     "metadata": {},
     "output_type": "execute_result"
    }
   ],
   "source": [
    "df[['USDPrice']].describe()"
   ]
  },
  {
   "cell_type": "code",
   "execution_count": 43,
   "id": "a2cc185e",
   "metadata": {},
   "outputs": [
    {
     "name": "stdout",
     "output_type": "stream",
     "text": [
      "Requirement already satisfied: pandas in c:\\users\\rebeccaoseiakoto\\anaconda3\\lib\\site-packages (2.0.3)\n",
      "Requirement already satisfied: numpy in c:\\users\\rebeccaoseiakoto\\anaconda3\\lib\\site-packages (1.24.3)\n",
      "Requirement already satisfied: statsmodels in c:\\users\\rebeccaoseiakoto\\anaconda3\\lib\\site-packages (0.14.0)\n",
      "Requirement already satisfied: python-dateutil>=2.8.2 in c:\\users\\rebeccaoseiakoto\\anaconda3\\lib\\site-packages (from pandas) (2.8.2)\n",
      "Requirement already satisfied: pytz>=2020.1 in c:\\users\\rebeccaoseiakoto\\anaconda3\\lib\\site-packages (from pandas) (2023.3.post1)\n",
      "Requirement already satisfied: tzdata>=2022.1 in c:\\users\\rebeccaoseiakoto\\anaconda3\\lib\\site-packages (from pandas) (2023.3)\n",
      "Requirement already satisfied: scipy!=1.9.2,>=1.4 in c:\\users\\rebeccaoseiakoto\\anaconda3\\lib\\site-packages (from statsmodels) (1.11.1)\n",
      "Requirement already satisfied: patsy>=0.5.2 in c:\\users\\rebeccaoseiakoto\\anaconda3\\lib\\site-packages (from statsmodels) (0.5.3)\n",
      "Requirement already satisfied: packaging>=21.3 in c:\\users\\rebeccaoseiakoto\\anaconda3\\lib\\site-packages (from statsmodels) (23.1)\n",
      "Requirement already satisfied: six in c:\\users\\rebeccaoseiakoto\\anaconda3\\lib\\site-packages (from patsy>=0.5.2->statsmodels) (1.16.0)\n"
     ]
    }
   ],
   "source": [
    "!pip install pandas numpy statsmodels\n"
   ]
  },
  {
   "cell_type": "code",
   "execution_count": 72,
   "id": "253090a6",
   "metadata": {},
   "outputs": [
    {
     "name": "stdout",
     "output_type": "stream",
     "text": [
      "Requirement already satisfied: scikit-learn in c:\\users\\rebeccaoseiakoto\\anaconda3\\lib\\site-packages (1.3.0)\n",
      "Collecting scikit-learn\n",
      "  Obtaining dependency information for scikit-learn from https://files.pythonhosted.org/packages/4e/ba/ce9bd1cd4953336a0e213b29cb80bb11816f2a93de8c99f88ef0b446ad0c/scikit_learn-1.3.2-cp311-cp311-win_amd64.whl.metadata\n",
      "  Downloading scikit_learn-1.3.2-cp311-cp311-win_amd64.whl.metadata (11 kB)\n",
      "Requirement already satisfied: imbalanced-learn in c:\\users\\rebeccaoseiakoto\\anaconda3\\lib\\site-packages (0.10.1)\n",
      "Collecting imbalanced-learn\n",
      "  Obtaining dependency information for imbalanced-learn from https://files.pythonhosted.org/packages/a3/9e/fbe60a768502af54563dcb59ca7856f5a8833b3ad5ada658922e1ab09b7f/imbalanced_learn-0.11.0-py3-none-any.whl.metadata\n",
      "  Downloading imbalanced_learn-0.11.0-py3-none-any.whl.metadata (8.3 kB)\n",
      "Requirement already satisfied: numpy<2.0,>=1.17.3 in c:\\users\\rebeccaoseiakoto\\anaconda3\\lib\\site-packages (from scikit-learn) (1.24.3)\n",
      "Requirement already satisfied: scipy>=1.5.0 in c:\\users\\rebeccaoseiakoto\\anaconda3\\lib\\site-packages (from scikit-learn) (1.11.1)\n",
      "Requirement already satisfied: joblib>=1.1.1 in c:\\users\\rebeccaoseiakoto\\anaconda3\\lib\\site-packages (from scikit-learn) (1.2.0)\n",
      "Requirement already satisfied: threadpoolctl>=2.0.0 in c:\\users\\rebeccaoseiakoto\\anaconda3\\lib\\site-packages (from scikit-learn) (2.2.0)\n",
      "Downloading scikit_learn-1.3.2-cp311-cp311-win_amd64.whl (9.2 MB)\n",
      "   ---------------------------------------- 0.0/9.2 MB ? eta -:--:--\n",
      "   ---------------------------------------- 0.0/9.2 MB 640.0 kB/s eta 0:00:15\n",
      "   - -------------------------------------- 0.3/9.2 MB 2.9 MB/s eta 0:00:04\n",
      "   ----- ---------------------------------- 1.2/9.2 MB 9.2 MB/s eta 0:00:01\n",
      "   ---------- ----------------------------- 2.5/9.2 MB 13.0 MB/s eta 0:00:01\n",
      "   ----------------- ---------------------- 4.1/9.2 MB 17.4 MB/s eta 0:00:01\n",
      "   ----------------------- ---------------- 5.4/9.2 MB 21.4 MB/s eta 0:00:01\n",
      "   --------------------------------- ------ 7.7/9.2 MB 24.5 MB/s eta 0:00:01\n",
      "   ---------------------------------------  9.1/9.2 MB 25.2 MB/s eta 0:00:01\n",
      "   ---------------------------------------- 9.2/9.2 MB 23.5 MB/s eta 0:00:00\n",
      "Downloading imbalanced_learn-0.11.0-py3-none-any.whl (235 kB)\n",
      "   ---------------------------------------- 0.0/235.6 kB ? eta -:--:--\n",
      "   --------------------------------------- 235.6/235.6 kB 14.1 MB/s eta 0:00:00\n",
      "Installing collected packages: scikit-learn, imbalanced-learn\n",
      "  Attempting uninstall: scikit-learn\n",
      "    Found existing installation: scikit-learn 1.3.0\n",
      "    Uninstalling scikit-learn-1.3.0:\n",
      "      Successfully uninstalled scikit-learn-1.3.0\n",
      "  Attempting uninstall: imbalanced-learn\n",
      "    Found existing installation: imbalanced-learn 0.10.1\n",
      "    Uninstalling imbalanced-learn-0.10.1:\n",
      "      Successfully uninstalled imbalanced-learn-0.10.1\n",
      "Successfully installed imbalanced-learn-0.11.0 scikit-learn-1.3.2\n"
     ]
    }
   ],
   "source": [
    "!pip install -U scikit-learn imbalanced-learn\n"
   ]
  },
  {
   "cell_type": "code",
   "execution_count": 81,
   "id": "8f74ef9b",
   "metadata": {},
   "outputs": [
    {
     "name": "stdout",
     "output_type": "stream",
     "text": [
      "[[    0   181]\n",
      " [    0 19002]]\n",
      "              precision    recall  f1-score   support\n",
      "\n",
      "           0       0.00      0.00      0.00       181\n",
      "           1       0.99      1.00      1.00     19002\n",
      "\n",
      "    accuracy                           0.99     19183\n",
      "   macro avg       0.50      0.50      0.50     19183\n",
      "weighted avg       0.98      0.99      0.99     19183\n",
      "\n"
     ]
    }
   ],
   "source": [
    "from sklearn.svm import SVC\n",
    "from sklearn.model_selection import train_test_split\n",
    "from sklearn.metrics import classification_report, confusion_matrix\n",
    "from sklearn.preprocessing import StandardScaler\n",
    "\n",
    "# Create a binary 'Purchase' indicator based on 'Quantity'\n",
    "df['Purchase'] = df['Quantity'].apply(lambda x: 1 if x > 0 else 0)\n",
    "\n",
    "# Selecting features for the model\n",
    "X = df[['USDPrice']]  # Predictor variable(s)\n",
    "y = df['Purchase']    # Response variable\n",
    "\n",
    "# Splitting the dataset into training and testing sets\n",
    "X_train, X_test, y_train, y_test = train_test_split(X, y, test_size=0.2, random_state=42)\n",
    "\n",
    "# Feature Scaling\n",
    "scaler = StandardScaler()\n",
    "X_train = scaler.fit_transform(X_train)\n",
    "X_test = scaler.transform(X_test)\n",
    "\n",
    "# Creating the SVM model\n",
    "model = SVC(kernel='linear') \n",
    "model.fit(X_train, y_train)\n",
    "\n",
    "# Making predictions\n",
    "y_pred = model.predict(X_test)\n",
    "\n",
    "# Evaluating the model\n",
    "print(confusion_matrix(y_test, y_pred))\n",
    "print(classification_report(y_test, y_pred))"
   ]
  },
  {
   "cell_type": "code",
   "execution_count": 82,
   "id": "005afcae",
   "metadata": {
    "scrolled": false
   },
   "outputs": [
    {
     "name": "stdout",
     "output_type": "stream",
     "text": [
      "Optimization terminated successfully    (Exit mode 0)\n",
      "            Current function value: 0.0575228415399175\n",
      "            Iterations: 18\n",
      "            Function evaluations: 25\n",
      "            Gradient evaluations: 18\n",
      "                           Logit Regression Results                           \n",
      "==============================================================================\n",
      "Dep. Variable:               Purchase   No. Observations:                95911\n",
      "Model:                          Logit   Df Residuals:                    95909\n",
      "Method:                           MLE   Df Model:                            1\n",
      "Date:                Tue, 09 Jan 2024   Pseudo R-squ.:               1.786e-05\n",
      "Time:                        15:15:22   Log-Likelihood:                -5517.1\n",
      "converged:                       True   LL-Null:                       -5517.2\n",
      "Covariance Type:            nonrobust   LLR p-value:                    0.6571\n",
      "==============================================================================\n",
      "                 coef    std err          z      P>|z|      [0.025      0.975]\n",
      "------------------------------------------------------------------------------\n",
      "const          4.5493      0.043    104.647      0.000       4.464       4.635\n",
      "USDPrice    3.555e-05   8.28e-05      0.430      0.668      -0.000       0.000\n",
      "==============================================================================\n",
      "Average Price Elasticity of Purchase Probability: 3.6449863766951838\n"
     ]
    }
   ],
   "source": [
    "import statsmodels.api as sm\n",
    "\n",
    "\n",
    "# Create a binary 'Purchase' indicator based on 'Quantity'\n",
    "df['Purchase'] = np.where(df['Quantity'] > 0, 1, 0)\n",
    "\n",
    "# Selecting relevant columns for the model\n",
    "X = df[['USDPrice']]  # Predictor variable(s)\n",
    "y = df['Purchase']    # Response variable\n",
    "\n",
    "# Adding a constant to the model (intercept)\n",
    "X = sm.add_constant(X)\n",
    "\n",
    "# Building the logistic regression model with regularization\n",
    "model = sm.Logit(y, X)\n",
    "result = model.fit_regularized(method='l1')  # L1 regularization\n",
    "\n",
    "\n",
    "\n",
    "# Output the summary of the model\n",
    "print(result.summary())\n",
    "\n",
    "# Calculating elasticity\n",
    "# Note: This is a simplification, as elasticity can vary across different price points\n",
    "df['prob'] = result.predict(X)\n",
    "df['elasticity'] = df['prob'] * (1 - df['prob']) * df['USDPrice']\n",
    "\n",
    "# Average elasticity\n",
    "avg_elasticity = df['elasticity'].mean()\n",
    "print(f\"Average Price Elasticity of Purchase Probability: {avg_elasticity}\")\n",
    "\n",
    "\n"
   ]
  },
  {
   "cell_type": "code",
   "execution_count": 111,
   "id": "19df10d2",
   "metadata": {},
   "outputs": [
    {
     "data": {
      "image/png": "[encoded data removed]",
      "text/plain": [
       "<Figure size 1000x600 with 1 Axes>"
      ]
     },
     "metadata": {},
     "output_type": "display_data"
    }
   ],
   "source": [
    "import matplotlib.pyplot as plt\n",
    "\n",
    "# Assuming df is your DataFrame and it contains 'USDPrice' and 'elasticity' columns\n",
    "# Make sure to run the logistic regression and elasticity calculation code before this\n",
    "\n",
    "plt.figure(figsize=(10, 6))\n",
    "plt.scatter(df['USDPrice'], df['elasticity'], alpha=0.5)\n",
    "plt.title('Price Elasticity of Purchase Probability')\n",
    "plt.xlabel('Price (USD)')\n",
    "plt.ylabel('Elasticity')\n",
    "plt.grid(True)\n",
    "plt.show()\n"
   ]
  },
  {
   "cell_type": "code",
   "execution_count": null,
   "id": "9c9c0ba0",
   "metadata": {},
   "outputs": [],
   "source": [
    "pip install pandas scikit-learn\n"
   ]
  },
  {
   "cell_type": "code",
   "execution_count": 67,
   "id": "2d20f2c8",
   "metadata": {},
   "outputs": [
    {
     "name": "stdout",
     "output_type": "stream",
     "text": [
      "Requirement already satisfied: imbalanced-learn in c:\\users\\rebeccaoseiakoto\\anaconda3\\lib\\site-packages (0.10.1)Note: you may need to restart the kernel to use updated packages.\n",
      "\n",
      "Requirement already satisfied: numpy>=1.17.3 in c:\\users\\rebeccaoseiakoto\\anaconda3\\lib\\site-packages (from imbalanced-learn) (1.24.3)\n",
      "Requirement already satisfied: scipy>=1.3.2 in c:\\users\\rebeccaoseiakoto\\anaconda3\\lib\\site-packages (from imbalanced-learn) (1.11.1)\n",
      "Requirement already satisfied: scikit-learn>=1.0.2 in c:\\users\\rebeccaoseiakoto\\anaconda3\\lib\\site-packages (from imbalanced-learn) (1.3.0)\n",
      "Requirement already satisfied: joblib>=1.1.1 in c:\\users\\rebeccaoseiakoto\\anaconda3\\lib\\site-packages (from imbalanced-learn) (1.2.0)\n",
      "Requirement already satisfied: threadpoolctl>=2.0.0 in c:\\users\\rebeccaoseiakoto\\anaconda3\\lib\\site-packages (from imbalanced-learn) (2.2.0)\n"
     ]
    }
   ],
   "source": [
    "pip install imbalanced-learn\n"
   ]
  },
  {
   "cell_type": "code",
   "execution_count": 83,
   "id": "4ef67b87",
   "metadata": {},
   "outputs": [],
   "source": [
    "import pandas as pd\n",
    "from sklearn.preprocessing import MinMaxScaler\n",
    "from sklearn.model_selection import train_test_split\n",
    "import numpy as np\n",
    "\n",
    "\n",
    "df['Datetime'] = pd.to_datetime(df['Datetime']).dt.tz_localize(None)\n",
    "\n",
    "# Sort the data by customer and date\n",
    "df.sort_values(['UserID', 'Datetime'], inplace=True)\n",
    "\n",
    "# Define a function to create sequences for each customer\n",
    "def create_sequences(df, sequence_length):\n",
    "    sequences = []\n",
    "    targets = []\n",
    "    customers = df['UserID'].unique()\n",
    "\n",
    "    for customer in customers:\n",
    "        customer_data = df[df['UserID'] == customer]\n",
    "        for i in range(len(customer_data) - sequence_length):\n",
    "            seq = customer_data.iloc[i:i+sequence_length]  # Sequence of purchases\n",
    "            target = customer_data.iloc[i+sequence_length]  # Next purchase\n",
    "            sequences.append(seq[['Quantity', 'USDPrice']].values)  # Example features\n",
    "            targets.append(target['Quantity'])  # Example target\n",
    "            # Note: Adjust the features and target as per your requirement\n",
    "    \n",
    "    return sequences, targets\n",
    "\n",
    "# Define your sequence length\n",
    "sequence_length = 10  # For example, last 10 transactions\n",
    "\n",
    "# Create sequences and targets\n",
    "X, y = create_sequences(df, sequence_length)\n",
    "\n",
    "# Example: Convert X and y into suitable formats for training\n",
    "# Normalize X if needed\n",
    "# X = [MinMaxScaler().fit_transform(seq) for seq in X]\n",
    "\n",
    "# Convert the list of sequences into a numpy array for RNN training\n",
    "# X = np.array(X)\n",
    "\n",
    "# Split data into training and testing sets\n",
    "# X_train, X_test, y_train, y_test = train_test_split(X, y, test_size=0.2, random_state=42)\n"
   ]
  },
  {
   "cell_type": "code",
   "execution_count": 10,
   "id": "4db098c0",
   "metadata": {},
   "outputs": [
    {
     "data": {
      "text/plain": [
       "(0.0, 7.236376266943063e-290)"
      ]
     },
     "execution_count": 10,
     "metadata": {},
     "output_type": "execute_result"
    }
   ],
   "source": [
    "# To test the hypothesis \"Gender significantly influences the choice of metal or gem in jewelry purchases,\"\n",
    "# we will use a chi-square test of independence.\n",
    "\n",
    "# However, we first need to prepare the data by creating a contingency table for the variables 'Gender', 'Metal', and 'Gem'.\n",
    "\n",
    "# First, we clean the 'Gender' data to ensure it contains only valid gender entries\n",
    "df['Gender'] = df['Gender'].str.lower().str.strip()\n",
    "valid_genders = ['m', 'f']\n",
    "df_gender_metal = df[df['Gender'].isin(valid_genders) & df['Metal'].notna()]\n",
    "df_gender_gem = df[df['Gender'].isin(valid_genders) & df['Gem'].notna()]\n",
    "\n",
    "# Create contingency tables\n",
    "contingency_table_metal = pd.crosstab(df_gender_metal['Gender'], df_gender_metal['Metal'])\n",
    "contingency_table_gem = pd.crosstab(df_gender_gem['Gender'], df_gender_gem['Gem'])\n",
    "\n",
    "# Import chi2_contingency from scipy.stats to perform the chi-square test\n",
    "from scipy.stats import chi2_contingency\n",
    "\n",
    "# Perform the chi-square test for 'Metal'\n",
    "chi2_stat_metal, p_val_metal, dof_metal, ex_metal = chi2_contingency(contingency_table_metal)\n",
    "# Perform the chi-square test for 'Gem'\n",
    "chi2_stat_gem, p_val_gem, dof_gem, ex_gem = chi2_contingency(contingency_table_gem)\n",
    "\n",
    "p_val_metal, p_val_gem\n"
   ]
  },
  {
   "cell_type": "code",
   "execution_count": null,
   "id": "f51e89a4",
   "metadata": {},
   "outputs": [],
   "source": []
  }
 ],
 "metadata": {
  "kernelspec": {
   "display_name": "Python 3 (ipykernel)",
   "language": "python",
   "name": "python3"
  },
  "language_info": {
   "codemirror_mode": {
    "name": "ipython",
    "version": 3
   },
   "file_extension": ".py",
   "mimetype": "text/x-python",
   "name": "python",
   "nbconvert_exporter": "python",
   "pygments_lexer": "ipython3",
   "version": "3.11.5"
  }
 },
 "nbformat": 4,
 "nbformat_minor": 5
}
